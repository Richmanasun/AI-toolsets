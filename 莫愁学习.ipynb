{
 "cells": [
  {
   "cell_type": "code",
   "execution_count": 130,
   "id": "e6c0faff-faf0-489a-ab94-4fa7494a02e8",
   "metadata": {},
   "outputs": [
    {
     "ename": "RuntimeError",
     "evalue": "Failed to import transformers.pipelines because of the following error (look up to see its traceback):\nmodule 'torch._subclasses' has no attribute 'functional_tensor'",
     "output_type": "error",
     "traceback": [
      "\u001b[0;31m---------------------------------------------------------------------------\u001b[0m",
      "\u001b[0;31mAttributeError\u001b[0m                            Traceback (most recent call last)",
      "File \u001b[0;32m~/miniconda3/envs/python39/lib/python3.9/site-packages/transformers/utils/import_utils.py:1364\u001b[0m, in \u001b[0;36m_LazyModule._get_module\u001b[0;34m(self, module_name)\u001b[0m\n\u001b[1;32m   1363\u001b[0m \u001b[38;5;28;01mtry\u001b[39;00m:\n\u001b[0;32m-> 1364\u001b[0m     \u001b[38;5;28;01mreturn\u001b[39;00m \u001b[43mimportlib\u001b[49m\u001b[38;5;241;43m.\u001b[39;49m\u001b[43mimport_module\u001b[49m\u001b[43m(\u001b[49m\u001b[38;5;124;43m\"\u001b[39;49m\u001b[38;5;124;43m.\u001b[39;49m\u001b[38;5;124;43m\"\u001b[39;49m\u001b[43m \u001b[49m\u001b[38;5;241;43m+\u001b[39;49m\u001b[43m \u001b[49m\u001b[43mmodule_name\u001b[49m\u001b[43m,\u001b[49m\u001b[43m \u001b[49m\u001b[38;5;28;43mself\u001b[39;49m\u001b[38;5;241;43m.\u001b[39;49m\u001b[38;5;18;43m__name__\u001b[39;49m\u001b[43m)\u001b[49m\n\u001b[1;32m   1365\u001b[0m \u001b[38;5;28;01mexcept\u001b[39;00m \u001b[38;5;167;01mException\u001b[39;00m \u001b[38;5;28;01mas\u001b[39;00m e:\n",
      "File \u001b[0;32m~/miniconda3/envs/python39/lib/python3.9/importlib/__init__.py:127\u001b[0m, in \u001b[0;36mimport_module\u001b[0;34m(name, package)\u001b[0m\n\u001b[1;32m    126\u001b[0m         level \u001b[38;5;241m+\u001b[39m\u001b[38;5;241m=\u001b[39m \u001b[38;5;241m1\u001b[39m\n\u001b[0;32m--> 127\u001b[0m \u001b[38;5;28;01mreturn\u001b[39;00m \u001b[43m_bootstrap\u001b[49m\u001b[38;5;241;43m.\u001b[39;49m\u001b[43m_gcd_import\u001b[49m\u001b[43m(\u001b[49m\u001b[43mname\u001b[49m\u001b[43m[\u001b[49m\u001b[43mlevel\u001b[49m\u001b[43m:\u001b[49m\u001b[43m]\u001b[49m\u001b[43m,\u001b[49m\u001b[43m \u001b[49m\u001b[43mpackage\u001b[49m\u001b[43m,\u001b[49m\u001b[43m \u001b[49m\u001b[43mlevel\u001b[49m\u001b[43m)\u001b[49m\n",
      "File \u001b[0;32m<frozen importlib._bootstrap>:1030\u001b[0m, in \u001b[0;36m_gcd_import\u001b[0;34m(name, package, level)\u001b[0m\n",
      "File \u001b[0;32m<frozen importlib._bootstrap>:1007\u001b[0m, in \u001b[0;36m_find_and_load\u001b[0;34m(name, import_)\u001b[0m\n",
      "File \u001b[0;32m<frozen importlib._bootstrap>:986\u001b[0m, in \u001b[0;36m_find_and_load_unlocked\u001b[0;34m(name, import_)\u001b[0m\n",
      "File \u001b[0;32m<frozen importlib._bootstrap>:680\u001b[0m, in \u001b[0;36m_load_unlocked\u001b[0;34m(spec)\u001b[0m\n",
      "File \u001b[0;32m<frozen importlib._bootstrap_external>:850\u001b[0m, in \u001b[0;36mexec_module\u001b[0;34m(self, module)\u001b[0m\n",
      "File \u001b[0;32m<frozen importlib._bootstrap>:228\u001b[0m, in \u001b[0;36m_call_with_frames_removed\u001b[0;34m(f, *args, **kwds)\u001b[0m\n",
      "File \u001b[0;32m~/miniconda3/envs/python39/lib/python3.9/site-packages/transformers/pipelines/__init__.py:79\u001b[0m\n\u001b[1;32m     78\u001b[0m \u001b[38;5;28;01mfrom\u001b[39;00m \u001b[38;5;21;01m.\u001b[39;00m\u001b[38;5;21;01mtext_generation\u001b[39;00m \u001b[38;5;28;01mimport\u001b[39;00m TextGenerationPipeline\n\u001b[0;32m---> 79\u001b[0m \u001b[38;5;28;01mfrom\u001b[39;00m \u001b[38;5;21;01m.\u001b[39;00m\u001b[38;5;21;01mtext_to_audio\u001b[39;00m \u001b[38;5;28;01mimport\u001b[39;00m TextToAudioPipeline\n\u001b[1;32m     80\u001b[0m \u001b[38;5;28;01mfrom\u001b[39;00m \u001b[38;5;21;01m.\u001b[39;00m\u001b[38;5;21;01mtoken_classification\u001b[39;00m \u001b[38;5;28;01mimport\u001b[39;00m (\n\u001b[1;32m     81\u001b[0m     AggregationStrategy,\n\u001b[1;32m     82\u001b[0m     NerPipeline,\n\u001b[1;32m     83\u001b[0m     TokenClassificationArgumentHandler,\n\u001b[1;32m     84\u001b[0m     TokenClassificationPipeline,\n\u001b[1;32m     85\u001b[0m )\n",
      "File \u001b[0;32m~/miniconda3/envs/python39/lib/python3.9/site-packages/transformers/pipelines/text_to_audio.py:22\u001b[0m\n\u001b[1;32m     21\u001b[0m     \u001b[38;5;28;01mfrom\u001b[39;00m \u001b[38;5;21;01m.\u001b[39;00m\u001b[38;5;21;01m.\u001b[39;00m\u001b[38;5;21;01mmodels\u001b[39;00m\u001b[38;5;21;01m.\u001b[39;00m\u001b[38;5;21;01mauto\u001b[39;00m\u001b[38;5;21;01m.\u001b[39;00m\u001b[38;5;21;01mmodeling_auto\u001b[39;00m \u001b[38;5;28;01mimport\u001b[39;00m MODEL_FOR_TEXT_TO_SPECTROGRAM_MAPPING\n\u001b[0;32m---> 22\u001b[0m     \u001b[38;5;28;01mfrom\u001b[39;00m \u001b[38;5;21;01m.\u001b[39;00m\u001b[38;5;21;01m.\u001b[39;00m\u001b[38;5;21;01mmodels\u001b[39;00m\u001b[38;5;21;01m.\u001b[39;00m\u001b[38;5;21;01mspeecht5\u001b[39;00m\u001b[38;5;21;01m.\u001b[39;00m\u001b[38;5;21;01mmodeling_speecht5\u001b[39;00m \u001b[38;5;28;01mimport\u001b[39;00m SpeechT5HifiGan\n\u001b[1;32m     24\u001b[0m DEFAULT_VOCODER_ID \u001b[38;5;241m=\u001b[39m \u001b[38;5;124m\"\u001b[39m\u001b[38;5;124mmicrosoft/speecht5_hifigan\u001b[39m\u001b[38;5;124m\"\u001b[39m\n",
      "File \u001b[0;32m~/miniconda3/envs/python39/lib/python3.9/site-packages/transformers/models/speecht5/modeling_speecht5.py:22\u001b[0m\n\u001b[1;32m     21\u001b[0m \u001b[38;5;28;01mimport\u001b[39;00m \u001b[38;5;21;01mtorch\u001b[39;00m\n\u001b[0;32m---> 22\u001b[0m \u001b[38;5;28;01mimport\u001b[39;00m \u001b[38;5;21;01mtorch\u001b[39;00m\u001b[38;5;21;01m.\u001b[39;00m\u001b[38;5;21;01mutils\u001b[39;00m\u001b[38;5;21;01m.\u001b[39;00m\u001b[38;5;21;01mcheckpoint\u001b[39;00m\n\u001b[1;32m     23\u001b[0m \u001b[38;5;28;01mfrom\u001b[39;00m \u001b[38;5;21;01mtorch\u001b[39;00m \u001b[38;5;28;01mimport\u001b[39;00m nn\n",
      "File \u001b[0;32m~/miniconda3/envs/python39/lib/python3.9/site-packages/torch/utils/checkpoint.py:1169\u001b[0m\n\u001b[1;32m   1163\u001b[0m \u001b[38;5;66;03m# NOTE: torch.utils.checkpoint internal logic will call these two functions unknown number of times\u001b[39;00m\n\u001b[1;32m   1164\u001b[0m \u001b[38;5;66;03m# (i.e. there could be _CachedTorchDispatchMode calls that doesn't map to a _CachingTorchDispatchMode call),\u001b[39;00m\n\u001b[1;32m   1165\u001b[0m \u001b[38;5;66;03m# so we ignore these ops and just always recompute them.\u001b[39;00m\n\u001b[1;32m   1166\u001b[0m _ignored_ops \u001b[38;5;241m=\u001b[39m {\n\u001b[1;32m   1167\u001b[0m     torch\u001b[38;5;241m.\u001b[39mops\u001b[38;5;241m.\u001b[39mprim\u001b[38;5;241m.\u001b[39mdevice\u001b[38;5;241m.\u001b[39mdefault,\n\u001b[1;32m   1168\u001b[0m     torch\u001b[38;5;241m.\u001b[39mops\u001b[38;5;241m.\u001b[39maten\u001b[38;5;241m.\u001b[39mdetach\u001b[38;5;241m.\u001b[39mdefault,\n\u001b[0;32m-> 1169\u001b[0m } \u001b[38;5;241m|\u001b[39m \u001b[38;5;28mset\u001b[39m(\u001b[43mtorch\u001b[49m\u001b[38;5;241;43m.\u001b[39;49m\u001b[43m_subclasses\u001b[49m\u001b[38;5;241;43m.\u001b[39;49m\u001b[43mfunctional_tensor\u001b[49m\u001b[38;5;241m.\u001b[39mFunctionalTensor\u001b[38;5;241m.\u001b[39mmetadata_fns)\n\u001b[1;32m   1172\u001b[0m \u001b[38;5;28;01mclass\u001b[39;00m \u001b[38;5;21;01m_CachingTorchDispatchMode\u001b[39;00m(TorchDispatchMode):\n",
      "\u001b[0;31mAttributeError\u001b[0m: module 'torch._subclasses' has no attribute 'functional_tensor'",
      "\nThe above exception was the direct cause of the following exception:\n",
      "\u001b[0;31mRuntimeError\u001b[0m                              Traceback (most recent call last)",
      "Cell \u001b[0;32mIn[130], line 1\u001b[0m\n\u001b[0;32m----> 1\u001b[0m \u001b[38;5;28;01mfrom\u001b[39;00m \u001b[38;5;21;01mtransformers\u001b[39;00m \u001b[38;5;28;01mimport\u001b[39;00m pipeline, set_seed\n",
      "File \u001b[0;32m<frozen importlib._bootstrap>:1055\u001b[0m, in \u001b[0;36m_handle_fromlist\u001b[0;34m(module, fromlist, import_, recursive)\u001b[0m\n",
      "File \u001b[0;32m~/miniconda3/envs/python39/lib/python3.9/site-packages/transformers/utils/import_utils.py:1354\u001b[0m, in \u001b[0;36m_LazyModule.__getattr__\u001b[0;34m(self, name)\u001b[0m\n\u001b[1;32m   1352\u001b[0m     value \u001b[38;5;241m=\u001b[39m \u001b[38;5;28mself\u001b[39m\u001b[38;5;241m.\u001b[39m_get_module(name)\n\u001b[1;32m   1353\u001b[0m \u001b[38;5;28;01melif\u001b[39;00m name \u001b[38;5;129;01min\u001b[39;00m \u001b[38;5;28mself\u001b[39m\u001b[38;5;241m.\u001b[39m_class_to_module\u001b[38;5;241m.\u001b[39mkeys():\n\u001b[0;32m-> 1354\u001b[0m     module \u001b[38;5;241m=\u001b[39m \u001b[38;5;28;43mself\u001b[39;49m\u001b[38;5;241;43m.\u001b[39;49m\u001b[43m_get_module\u001b[49m\u001b[43m(\u001b[49m\u001b[38;5;28;43mself\u001b[39;49m\u001b[38;5;241;43m.\u001b[39;49m\u001b[43m_class_to_module\u001b[49m\u001b[43m[\u001b[49m\u001b[43mname\u001b[49m\u001b[43m]\u001b[49m\u001b[43m)\u001b[49m\n\u001b[1;32m   1355\u001b[0m     value \u001b[38;5;241m=\u001b[39m \u001b[38;5;28mgetattr\u001b[39m(module, name)\n\u001b[1;32m   1356\u001b[0m \u001b[38;5;28;01melse\u001b[39;00m:\n",
      "File \u001b[0;32m~/miniconda3/envs/python39/lib/python3.9/site-packages/transformers/utils/import_utils.py:1366\u001b[0m, in \u001b[0;36m_LazyModule._get_module\u001b[0;34m(self, module_name)\u001b[0m\n\u001b[1;32m   1364\u001b[0m     \u001b[38;5;28;01mreturn\u001b[39;00m importlib\u001b[38;5;241m.\u001b[39mimport_module(\u001b[38;5;124m\"\u001b[39m\u001b[38;5;124m.\u001b[39m\u001b[38;5;124m\"\u001b[39m \u001b[38;5;241m+\u001b[39m module_name, \u001b[38;5;28mself\u001b[39m\u001b[38;5;241m.\u001b[39m\u001b[38;5;18m__name__\u001b[39m)\n\u001b[1;32m   1365\u001b[0m \u001b[38;5;28;01mexcept\u001b[39;00m \u001b[38;5;167;01mException\u001b[39;00m \u001b[38;5;28;01mas\u001b[39;00m e:\n\u001b[0;32m-> 1366\u001b[0m     \u001b[38;5;28;01mraise\u001b[39;00m \u001b[38;5;167;01mRuntimeError\u001b[39;00m(\n\u001b[1;32m   1367\u001b[0m         \u001b[38;5;124mf\u001b[39m\u001b[38;5;124m\"\u001b[39m\u001b[38;5;124mFailed to import \u001b[39m\u001b[38;5;132;01m{\u001b[39;00m\u001b[38;5;28mself\u001b[39m\u001b[38;5;241m.\u001b[39m\u001b[38;5;18m__name__\u001b[39m\u001b[38;5;132;01m}\u001b[39;00m\u001b[38;5;124m.\u001b[39m\u001b[38;5;132;01m{\u001b[39;00mmodule_name\u001b[38;5;132;01m}\u001b[39;00m\u001b[38;5;124m because of the following error (look up to see its\u001b[39m\u001b[38;5;124m\"\u001b[39m\n\u001b[1;32m   1368\u001b[0m         \u001b[38;5;124mf\u001b[39m\u001b[38;5;124m\"\u001b[39m\u001b[38;5;124m traceback):\u001b[39m\u001b[38;5;130;01m\\n\u001b[39;00m\u001b[38;5;132;01m{\u001b[39;00me\u001b[38;5;132;01m}\u001b[39;00m\u001b[38;5;124m\"\u001b[39m\n\u001b[1;32m   1369\u001b[0m     ) \u001b[38;5;28;01mfrom\u001b[39;00m \u001b[38;5;21;01me\u001b[39;00m\n",
      "\u001b[0;31mRuntimeError\u001b[0m: Failed to import transformers.pipelines because of the following error (look up to see its traceback):\nmodule 'torch._subclasses' has no attribute 'functional_tensor'"
     ]
    }
   ],
   "source": [
    "from transformers import pipeline, set_seed"
   ]
  },
  {
   "cell_type": "code",
   "execution_count": null,
   "id": "bea3da87-e9a0-41c2-88f9-53e9cc084f4c",
   "metadata": {},
   "outputs": [],
   "source": []
  },
  {
   "cell_type": "code",
   "execution_count": null,
   "id": "08365c9e-b792-44fd-96f5-cff2ed0a3842",
   "metadata": {},
   "outputs": [],
   "source": []
  },
  {
   "cell_type": "code",
   "execution_count": 73,
   "id": "a3f254f7",
   "metadata": {},
   "outputs": [
    {
     "name": "stdout",
     "output_type": "stream",
     "text": [
      "tensor([0., 0., 0., 1., 2.])\n"
     ]
    }
   ],
   "source": [
    "import torch\n",
    "import torch.nn.functional as F\n",
    " \n",
    "x = torch.Tensor([-2, -1, 0, 1, 2])\n",
    "output = F.relu(x)\n",
    " \n",
    "print(output)"
   ]
  },
  {
   "cell_type": "code",
   "execution_count": 74,
   "id": "830723a9",
   "metadata": {},
   "outputs": [
    {
     "name": "stdout",
     "output_type": "stream",
     "text": [
      "tensor([0.1192, 0.2689, 0.5000, 0.7311, 0.8808])\n"
     ]
    }
   ],
   "source": [
    "import torch\n",
    "import torch.nn.functional as F\n",
    " \n",
    "x = torch.Tensor([-2, -1, 0, 1, 2])\n",
    "output = F.sigmoid(x)\n",
    " \n",
    "print(output)"
   ]
  },
  {
   "cell_type": "code",
   "execution_count": null,
   "id": "b0c9cea7",
   "metadata": {},
   "outputs": [],
   "source": []
  },
  {
   "cell_type": "code",
   "execution_count": 75,
   "id": "dd1d4102",
   "metadata": {},
   "outputs": [
    {
     "name": "stdout",
     "output_type": "stream",
     "text": [
      "tensor([[1., 2.],\n",
      "        [3., 4.]])\n",
      "tensor([[1., 2.],\n",
      "        [3., 4.]], requires_grad=True)\n",
      "tensor(7.5000)\n",
      "tensor(7.5000, grad_fn=<MeanBackward0>)\n",
      "tensor([[0.5000, 1.0000],\n",
      "        [1.5000, 2.0000]])\n",
      "tensor([[1., 2.],\n",
      "        [3., 4.]], requires_grad=True)\n",
      "tensor([[1., 2.],\n",
      "        [3., 4.]])\n",
      "[[1. 2.]\n",
      " [3. 4.]]\n"
     ]
    }
   ],
   "source": [
    "import torch\n",
    "from torch.autograd import Variable\n",
    "\n",
    "tensor = torch.FloatTensor([[1,2],[3,4]])\n",
    "variable = Variable(tensor,requires_grad = True)\n",
    "#True是反向传播过程当中去\n",
    "\n",
    "print(tensor)\n",
    "print(variable)\n",
    "\n",
    "t_out = torch.mean(tensor*tensor)\n",
    "v_out = torch.mean(variable*variable)\n",
    "\n",
    "print(t_out)\n",
    "print(v_out)\n",
    "\n",
    "v_out.backward()\n",
    "print(variable.grad)\n",
    "print(variable)\n",
    "print(variable.data)\n",
    "print(variable.data.numpy())"
   ]
  },
  {
   "cell_type": "code",
   "execution_count": 76,
   "id": "fca61cb4",
   "metadata": {},
   "outputs": [
    {
     "data": {
      "text/plain": [
       "<matplotlib.legend.Legend at 0x7eff35de2dc0>"
      ]
     },
     "execution_count": 76,
     "metadata": {},
     "output_type": "execute_result"
    },
    {
     "data": {
      "image/png": "[encoded data removed]",
      "text/plain": [
       "<Figure size 800x600 with 4 Axes>"
      ]
     },
     "metadata": {},
     "output_type": "display_data"
    }
   ],
   "source": [
    "import torch.nn.functional as F \n",
    "import matplotlib.pyplot as plt\n",
    "\n",
    "x = torch.linspace(-5,5,200)\n",
    "x = Variable(x)\n",
    "#print(x)\n",
    "x_np = x.data.numpy()\n",
    "\n",
    "y_relu = F.relu(x).data.numpy()\n",
    "y_sigmoid = F.sigmoid(x).data.numpy()\n",
    "y_tanh = F.tanh(x).data.numpy()\n",
    "y_softplus = F.softplus(x).data.numpy()\n",
    "\n",
    "plt.figure(1,figsize=(8,6))\n",
    "plt.subplot(221)\n",
    "plt.plot(x_np,y_relu,c='red',label='relu')\n",
    "plt.ylim((-1,5))\n",
    "plt.legend(loc='best')\n",
    "\n",
    "plt.figure(1,figsize=(8,6))\n",
    "plt.subplot(222)\n",
    "plt.plot(x_np,y_sigmoid,c='red',label='sigmoid')\n",
    "plt.ylim((-0.2,1.2))\n",
    "plt.legend(loc='best')\n",
    "\n",
    "plt.figure(1,figsize=(8,6))\n",
    "plt.subplot(223)\n",
    "plt.plot(x_np,y_tanh,c='red',label='tanh')\n",
    "plt.ylim((-1.2,1.2))\n",
    "plt.legend(loc='best')\n",
    "\n",
    "plt.figure(1,figsize=(8,6))\n",
    "plt.subplot(224)\n",
    "plt.plot(x_np,y_softplus,c='red',label='softplus')\n",
    "plt.ylim((-1,6))\n",
    "plt.legend(loc='best')\n",
    "\n",
    "\n",
    "\n"
   ]
  },
  {
   "cell_type": "code",
   "execution_count": 77,
   "id": "96105588",
   "metadata": {},
   "outputs": [
    {
     "name": "stdout",
     "output_type": "stream",
     "text": [
      "[[0 1 2]\n",
      " [3 4 5]]\n",
      "tensor([[0, 1, 2],\n",
      "        [3, 4, 5]])\n",
      "[[0 1 2]\n",
      " [3 4 5]]\n"
     ]
    }
   ],
   "source": [
    "import torch\n",
    "import numpy as np\n",
    "\n",
    "numpynums = np.arange(6).reshape(2,3)\n",
    "tensor = torch.from_numpy(numpynums)\n",
    "tensor2numpy = tensor.numpy()\n",
    "\n",
    "print(numpynums)\n",
    "print(tensor)\n",
    "print(tensor2numpy)"
   ]
  },
  {
   "cell_type": "code",
   "execution_count": 78,
   "id": "a1447f07",
   "metadata": {},
   "outputs": [
    {
     "name": "stdout",
     "output_type": "stream",
     "text": [
      "[2 4 2 4] tensor([2., 4., 2., 4.]) 0.0 tensor(0.)\n"
     ]
    }
   ],
   "source": [
    "data = [-2,-4,2,4]\n",
    "tensor = torch.FloatTensor(data)\n",
    "\n",
    "print(np.abs(data),\n",
    "     torch.abs(tensor),\n",
    "     np.mean(data),\n",
    "     torch.mean(tensor))"
   ]
  },
  {
   "cell_type": "code",
   "execution_count": 79,
   "id": "614ecc12",
   "metadata": {},
   "outputs": [
    {
     "name": "stdout",
     "output_type": "stream",
     "text": [
      "[0.         0.         0.         0.         0.         0.\n",
      " 0.         0.         0.         0.         0.         0.\n",
      " 0.         0.         0.         0.         0.         0.\n",
      " 0.         0.         0.         0.         0.         0.\n",
      " 0.         0.         0.         0.         0.         0.\n",
      " 0.         0.         0.         0.         0.         0.\n",
      " 0.         0.         0.         0.         0.         0.\n",
      " 0.         0.         0.         0.         0.         0.\n",
      " 0.         0.         0.         0.         0.         0.\n",
      " 0.         0.         0.         0.         0.         0.\n",
      " 0.         0.         0.         0.         0.         0.\n",
      " 0.         0.         0.         0.         0.         0.\n",
      " 0.         0.         0.         0.         0.         0.\n",
      " 0.         0.         0.         0.         0.         0.\n",
      " 0.         0.         0.         0.         0.         0.\n",
      " 0.         0.         0.         0.         0.         0.\n",
      " 0.         0.         0.         0.         0.02512559 0.07537685\n",
      " 0.1256281  0.17587936 0.22613062 0.27638188 0.32663313 0.3768844\n",
      " 0.42713565 0.4773869  0.52763814 0.57788944 0.6281407  0.67839193\n",
      " 0.7286432  0.7788944  0.82914567 0.879397   0.9296482  0.97989947\n",
      " 1.0301508  1.080402   1.1306533  1.1809045  1.2311558  1.281407\n",
      " 1.3316582  1.3819095  1.4321607  1.482412   1.5326633  1.5829146\n",
      " 1.6331658  1.6834171  1.7336683  1.7839196  1.8341708  1.8844221\n",
      " 1.9346733  1.9849246  2.0351758  2.085427   2.1356783  2.1859295\n",
      " 2.2361808  2.286432   2.3366835  2.3869348  2.437186   2.4874372\n",
      " 2.5376885  2.5879397  2.638191   2.6884422  2.7386935  2.7889447\n",
      " 2.839196   2.8894472  2.9396985  2.9899497  3.040201   3.0904522\n",
      " 3.1407034  3.1909547  3.241206   3.2914572  3.3417084  3.3919597\n",
      " 3.4422112  3.4924624  3.5427136  3.592965   3.6432161  3.6934674\n",
      " 3.7437186  3.7939699  3.844221   3.8944724  3.9447236  3.9949749\n",
      " 4.045226   4.0954776  4.1457286  4.19598    4.246231   4.2964826\n",
      " 4.3467336  4.396985   4.447236   4.4974875  4.5477386  4.59799\n",
      " 4.648241   4.6984925  4.7487435  4.798995   4.849246   4.8994975\n",
      " 4.9497485  5.        ]\n"
     ]
    }
   ],
   "source": [
    "import torch\n",
    "import torch.nn.functional as F #激励函数都在这\n",
    "from torch.autograd import Variable\n",
    "\n",
    "#做一些假数据来\n",
    "x = torch.linspace(-5,5,200)\n",
    "x = Variable(x)\n",
    "\n",
    "x_np = x.data.numpy()\n",
    "\n",
    "#集中常用的激励函数\n",
    "y_relu = F.relu(x).data.numpy()\n",
    "print(y_relu)\n",
    "\n"
   ]
  },
  {
   "cell_type": "code",
   "execution_count": null,
   "id": "9fc31fd7",
   "metadata": {},
   "outputs": [],
   "source": []
  },
  {
   "cell_type": "code",
   "execution_count": 80,
   "id": "9dd06c28",
   "metadata": {},
   "outputs": [
    {
     "data": {
      "text/plain": [
       "<matplotlib.collections.PathCollection at 0x7eff54543b20>"
      ]
     },
     "execution_count": 80,
     "metadata": {},
     "output_type": "execute_result"
    },
    {
     "data": {
      "image/png": "[encoded data removed]",
      "text/plain": [
       "<Figure size 640x480 with 1 Axes>"
      ]
     },
     "metadata": {},
     "output_type": "display_data"
    }
   ],
   "source": [
    "import torch\n",
    "import torch.nn.functional as F\n",
    "from torch.autograd import Variable\n",
    "import matplotlib.pyplot as plt\n",
    "\n",
    "x1 = torch.linspace(-1,1,100)\n",
    "\n",
    "x = torch.unsqueeze(x1,dim =1)\n",
    "#print(x1)\n",
    "#print(x)\n",
    "\n",
    "y = x.pow(2) + 0.2*torch.rand(x.size())\n",
    " \n",
    "plt.scatter(x.data.numpy(),y.data.numpy())\n"
   ]
  },
  {
   "cell_type": "code",
   "execution_count": 81,
   "id": "91f8d3f9",
   "metadata": {},
   "outputs": [
    {
     "name": "stdout",
     "output_type": "stream",
     "text": [
      "Net(\n",
      "  (hidden): Linear(in_features=1, out_features=10, bias=True)\n",
      "  (predict): Linear(in_features=10, out_features=1, bias=True)\n",
      ")\n"
     ]
    }
   ],
   "source": [
    "class Net(torch.nn.Module):\n",
    "    def __init__(self,n_feature,n_hidden,n_output):\n",
    "        super(Net,self).__init__()\n",
    "        self.hidden = torch.nn.Linear(n_feature,n_hidden)\n",
    "        self.predict = torch.nn.Linear(n_hidden,n_output)\n",
    "    def forward(self,x):\n",
    "        x = F.relu(self.hidden(x))\n",
    "        x = self.predict(x)\n",
    "        return x\n",
    "    \n",
    "net = Net(n_feature=1,n_hidden=10,n_output=1)\n",
    "\n",
    "print(net)\n",
    "        \n",
    "        \n",
    "        \n",
    "        \n",
    "        "
   ]
  },
  {
   "cell_type": "code",
   "execution_count": 127,
   "id": "775583db",
   "metadata": {},
   "outputs": [
    {
     "ename": "AttributeError",
     "evalue": "module 'torch._subclasses' has no attribute 'functional_tensor'",
     "output_type": "error",
     "traceback": [
      "\u001b[0;31m---------------------------------------------------------------------------\u001b[0m",
      "\u001b[0;31mAttributeError\u001b[0m                            Traceback (most recent call last)",
      "Cell \u001b[0;32mIn[127], line 1\u001b[0m\n\u001b[0;32m----> 1\u001b[0m optimizer \u001b[38;5;241m=\u001b[39m \u001b[43mtorch\u001b[49m\u001b[38;5;241;43m.\u001b[39;49m\u001b[43moptim\u001b[49m\u001b[38;5;241;43m.\u001b[39;49m\u001b[43mSGD\u001b[49m\u001b[43m(\u001b[49m\u001b[43mnet\u001b[49m\u001b[38;5;241;43m.\u001b[39;49m\u001b[43mparameters\u001b[49m\u001b[43m(\u001b[49m\u001b[43m)\u001b[49m\u001b[43m,\u001b[49m\u001b[43mlr\u001b[49m\u001b[43m \u001b[49m\u001b[38;5;241;43m=\u001b[39;49m\u001b[38;5;241;43m0.2\u001b[39;49m\u001b[43m)\u001b[49m\n\u001b[1;32m      2\u001b[0m loss_func \u001b[38;5;241m=\u001b[39m torch\u001b[38;5;241m.\u001b[39mnn\u001b[38;5;241m.\u001b[39mMSELoss()\n\u001b[1;32m      4\u001b[0m \u001b[38;5;28;01mfor\u001b[39;00m t \u001b[38;5;129;01min\u001b[39;00m \u001b[38;5;28mrange\u001b[39m(\u001b[38;5;241m100\u001b[39m):\n",
      "File \u001b[0;32m~/miniconda3/envs/python39/lib/python3.9/site-packages/torch/optim/sgd.py:26\u001b[0m, in \u001b[0;36m__init__\u001b[0;34m(self, params, lr, momentum, dampening, weight_decay, nesterov, maximize, foreach, differentiable)\u001b[0m\n\u001b[1;32m     21\u001b[0m defaults \u001b[38;5;241m=\u001b[39m \u001b[38;5;28mdict\u001b[39m(lr\u001b[38;5;241m=\u001b[39mlr, momentum\u001b[38;5;241m=\u001b[39mmomentum, dampening\u001b[38;5;241m=\u001b[39mdampening,\n\u001b[1;32m     22\u001b[0m                 weight_decay\u001b[38;5;241m=\u001b[39mweight_decay, nesterov\u001b[38;5;241m=\u001b[39mnesterov,\n\u001b[1;32m     23\u001b[0m                 maximize\u001b[38;5;241m=\u001b[39mmaximize, foreach\u001b[38;5;241m=\u001b[39mforeach,\n\u001b[1;32m     24\u001b[0m                 differentiable\u001b[38;5;241m=\u001b[39mdifferentiable)\n\u001b[1;32m     25\u001b[0m \u001b[38;5;28;01mif\u001b[39;00m nesterov \u001b[38;5;129;01mand\u001b[39;00m (momentum \u001b[38;5;241m<\u001b[39m\u001b[38;5;241m=\u001b[39m \u001b[38;5;241m0\u001b[39m \u001b[38;5;129;01mor\u001b[39;00m dampening \u001b[38;5;241m!=\u001b[39m \u001b[38;5;241m0\u001b[39m):\n\u001b[0;32m---> 26\u001b[0m     \u001b[38;5;28;01mraise\u001b[39;00m \u001b[38;5;167;01mValueError\u001b[39;00m(\u001b[38;5;124m\"\u001b[39m\u001b[38;5;124mNesterov momentum requires a momentum and zero dampening\u001b[39m\u001b[38;5;124m\"\u001b[39m)\n\u001b[1;32m     27\u001b[0m \u001b[38;5;28msuper\u001b[39m()\u001b[38;5;241m.\u001b[39m\u001b[38;5;21m__init__\u001b[39m(params, defaults)\n",
      "File \u001b[0;32m~/miniconda3/envs/python39/lib/python3.9/site-packages/torch/optim/optimizer.py:266\u001b[0m, in \u001b[0;36m__init__\u001b[0;34m(self, params, defaults)\u001b[0m\n\u001b[1;32m    259\u001b[0m         warnings\u001b[38;5;241m.\u001b[39mwarn((\u001b[38;5;124m\"\u001b[39m\u001b[38;5;124mPassing in a raw Tensor as ``params`` to SparseAdam \u001b[39m\u001b[38;5;124m\"\u001b[39m\n\u001b[1;32m    260\u001b[0m                        \u001b[38;5;124m\"\u001b[39m\u001b[38;5;124mis deprecated. In the future, this will raise an error. \u001b[39m\u001b[38;5;124m\"\u001b[39m\n\u001b[1;32m    261\u001b[0m                        \u001b[38;5;124m\"\u001b[39m\u001b[38;5;124mPlease wrap your Tensor in an iterable instead.\u001b[39m\u001b[38;5;124m\"\u001b[39m),\n\u001b[1;32m    262\u001b[0m                       \u001b[38;5;167;01mFutureWarning\u001b[39;00m)\n\u001b[1;32m    263\u001b[0m     \u001b[38;5;28;01melse\u001b[39;00m:\n\u001b[1;32m    264\u001b[0m         \u001b[38;5;28;01mraise\u001b[39;00m \u001b[38;5;167;01mTypeError\u001b[39;00m(\u001b[38;5;124m\"\u001b[39m\u001b[38;5;124mparams argument given to the optimizer should be \u001b[39m\u001b[38;5;124m\"\u001b[39m\n\u001b[1;32m    265\u001b[0m                         \u001b[38;5;124m\"\u001b[39m\u001b[38;5;124man iterable of Tensors or dicts, but got \u001b[39m\u001b[38;5;124m\"\u001b[39m \u001b[38;5;241m+\u001b[39m\n\u001b[0;32m--> 266\u001b[0m                         torch\u001b[38;5;241m.\u001b[39mtypename(params))\n\u001b[1;32m    268\u001b[0m \u001b[38;5;28mself\u001b[39m\u001b[38;5;241m.\u001b[39mstate: DefaultDict[torch\u001b[38;5;241m.\u001b[39mTensor, Any] \u001b[38;5;241m=\u001b[39m defaultdict(\u001b[38;5;28mdict\u001b[39m)\n\u001b[1;32m    269\u001b[0m \u001b[38;5;28mself\u001b[39m\u001b[38;5;241m.\u001b[39mparam_groups: List[Dict[\u001b[38;5;28mstr\u001b[39m, Any]] \u001b[38;5;241m=\u001b[39m []\n",
      "File \u001b[0;32m~/miniconda3/envs/python39/lib/python3.9/site-packages/torch/_compile.py:22\u001b[0m, in \u001b[0;36m_disable_dynamo.<locals>.inner\u001b[0;34m(*args, **kwargs)\u001b[0m\n\u001b[1;32m     20\u001b[0m \u001b[38;5;129m@functools\u001b[39m\u001b[38;5;241m.\u001b[39mwraps(fn)\n\u001b[1;32m     21\u001b[0m \u001b[38;5;28;01mdef\u001b[39;00m \u001b[38;5;21minner\u001b[39m(\u001b[38;5;241m*\u001b[39margs, \u001b[38;5;241m*\u001b[39m\u001b[38;5;241m*\u001b[39mkwargs):\n\u001b[0;32m---> 22\u001b[0m     \u001b[38;5;28;01mimport\u001b[39;00m \u001b[38;5;21;01mtorch\u001b[39;00m\u001b[38;5;21;01m.\u001b[39;00m\u001b[38;5;21;01m_dynamo\u001b[39;00m\n\u001b[1;32m     24\u001b[0m     \u001b[38;5;28;01mreturn\u001b[39;00m torch\u001b[38;5;241m.\u001b[39m_dynamo\u001b[38;5;241m.\u001b[39mdisable(fn, recursive)(\u001b[38;5;241m*\u001b[39margs, \u001b[38;5;241m*\u001b[39m\u001b[38;5;241m*\u001b[39mkwargs)\n",
      "File \u001b[0;32m~/miniconda3/envs/python39/lib/python3.9/site-packages/torch/_dynamo/__init__.py:2\u001b[0m\n\u001b[1;32m      1\u001b[0m \u001b[38;5;28;01mimport\u001b[39;00m \u001b[38;5;21;01mtorch\u001b[39;00m\n\u001b[0;32m----> 2\u001b[0m \u001b[38;5;28;01mfrom\u001b[39;00m \u001b[38;5;21;01m.\u001b[39;00m \u001b[38;5;28;01mimport\u001b[39;00m allowed_functions, convert_frame, eval_frame, resume_execution\n\u001b[1;32m      3\u001b[0m \u001b[38;5;28;01mfrom\u001b[39;00m \u001b[38;5;21;01m.\u001b[39;00m\u001b[38;5;21;01mbackends\u001b[39;00m\u001b[38;5;21;01m.\u001b[39;00m\u001b[38;5;21;01mregistry\u001b[39;00m \u001b[38;5;28;01mimport\u001b[39;00m list_backends, lookup_backend, register_backend\n\u001b[1;32m      4\u001b[0m \u001b[38;5;28;01mfrom\u001b[39;00m \u001b[38;5;21;01m.\u001b[39;00m\u001b[38;5;21;01mcode_context\u001b[39;00m \u001b[38;5;28;01mimport\u001b[39;00m code_context\n",
      "File \u001b[0;32m~/miniconda3/envs/python39/lib/python3.9/site-packages/torch/_dynamo/convert_frame.py:45\u001b[0m\n\u001b[1;32m     32\u001b[0m \u001b[38;5;28;01mfrom\u001b[39;00m \u001b[38;5;21;01m.\u001b[39;00m\u001b[38;5;21;01mbytecode_transformation\u001b[39;00m \u001b[38;5;28;01mimport\u001b[39;00m (\n\u001b[1;32m     33\u001b[0m     check_inst_exn_tab_entries_valid,\n\u001b[1;32m     34\u001b[0m     Instruction,\n\u001b[0;32m   (...)\u001b[0m\n\u001b[1;32m     37\u001b[0m     transform_code_object,\n\u001b[1;32m     38\u001b[0m )\n\u001b[1;32m     39\u001b[0m \u001b[38;5;28;01mfrom\u001b[39;00m \u001b[38;5;21;01m.\u001b[39;00m\u001b[38;5;21;01mcache_size\u001b[39;00m \u001b[38;5;28;01mimport\u001b[39;00m (\n\u001b[1;32m     40\u001b[0m     CacheSizeRelevantForFrame,\n\u001b[1;32m     41\u001b[0m     compute_cache_size,\n\u001b[1;32m     42\u001b[0m     exceeds_cache_size_limit,\n\u001b[1;32m     43\u001b[0m     is_recompilation,\n\u001b[1;32m     44\u001b[0m )\n\u001b[0;32m---> 45\u001b[0m \u001b[38;5;28;01mfrom\u001b[39;00m \u001b[38;5;21;01m.\u001b[39;00m\u001b[38;5;21;01meval_frame\u001b[39;00m \u001b[38;5;28;01mimport\u001b[39;00m always_optimize_code_objects, skip_code, TorchPatcher\n\u001b[1;32m     46\u001b[0m \u001b[38;5;28;01mfrom\u001b[39;00m \u001b[38;5;21;01m.\u001b[39;00m\u001b[38;5;21;01mexc\u001b[39;00m \u001b[38;5;28;01mimport\u001b[39;00m (\n\u001b[1;32m     47\u001b[0m     augment_exc_message,\n\u001b[1;32m     48\u001b[0m     BackendCompilerFailed,\n\u001b[0;32m   (...)\u001b[0m\n\u001b[1;32m     54\u001b[0m     Unsupported,\n\u001b[1;32m     55\u001b[0m )\n\u001b[1;32m     56\u001b[0m \u001b[38;5;28;01mfrom\u001b[39;00m \u001b[38;5;21;01m.\u001b[39;00m\u001b[38;5;21;01mguards\u001b[39;00m \u001b[38;5;28;01mimport\u001b[39;00m (\n\u001b[1;32m     57\u001b[0m     CheckFunctionManager,\n\u001b[1;32m     58\u001b[0m     get_and_maybe_log_recompilation_reason,\n\u001b[1;32m     59\u001b[0m     GuardedCode,\n\u001b[1;32m     60\u001b[0m )\n",
      "File \u001b[0;32m~/miniconda3/envs/python39/lib/python3.9/site-packages/torch/_dynamo/eval_frame.py:37\u001b[0m\n\u001b[1;32m     35\u001b[0m \u001b[38;5;28;01mimport\u001b[39;00m \u001b[38;5;21;01mtorch\u001b[39;00m\u001b[38;5;21;01m.\u001b[39;00m\u001b[38;5;21;01mfx\u001b[39;00m\n\u001b[1;32m     36\u001b[0m \u001b[38;5;28;01mimport\u001b[39;00m \u001b[38;5;21;01mtorch\u001b[39;00m\u001b[38;5;21;01m.\u001b[39;00m\u001b[38;5;21;01mutils\u001b[39;00m\u001b[38;5;21;01m.\u001b[39;00m\u001b[38;5;21;01m_pytree\u001b[39;00m \u001b[38;5;28;01mas\u001b[39;00m \u001b[38;5;21;01mpytree\u001b[39;00m\n\u001b[0;32m---> 37\u001b[0m \u001b[38;5;28;01mimport\u001b[39;00m \u001b[38;5;21;01mtorch\u001b[39;00m\u001b[38;5;21;01m.\u001b[39;00m\u001b[38;5;21;01mutils\u001b[39;00m\u001b[38;5;21;01m.\u001b[39;00m\u001b[38;5;21;01mcheckpoint\u001b[39;00m\n\u001b[1;32m     38\u001b[0m \u001b[38;5;28;01mfrom\u001b[39;00m \u001b[38;5;21;01mtorch\u001b[39;00m \u001b[38;5;28;01mimport\u001b[39;00m _guards\n\u001b[1;32m     39\u001b[0m \u001b[38;5;28;01mfrom\u001b[39;00m \u001b[38;5;21;01mtorch\u001b[39;00m\u001b[38;5;21;01m.\u001b[39;00m\u001b[38;5;21;01m_subclasses\u001b[39;00m \u001b[38;5;28;01mimport\u001b[39;00m fake_tensor\n",
      "File \u001b[0;32m~/miniconda3/envs/python39/lib/python3.9/site-packages/torch/utils/checkpoint.py:1169\u001b[0m\n\u001b[1;32m   1160\u001b[0m uid \u001b[38;5;241m=\u001b[39m count(\u001b[38;5;241m1\u001b[39m)\n\u001b[1;32m   1163\u001b[0m \u001b[38;5;66;03m# NOTE: torch.utils.checkpoint internal logic will call these two functions unknown number of times\u001b[39;00m\n\u001b[1;32m   1164\u001b[0m \u001b[38;5;66;03m# (i.e. there could be _CachedTorchDispatchMode calls that doesn't map to a _CachingTorchDispatchMode call),\u001b[39;00m\n\u001b[1;32m   1165\u001b[0m \u001b[38;5;66;03m# so we ignore these ops and just always recompute them.\u001b[39;00m\n\u001b[1;32m   1166\u001b[0m _ignored_ops \u001b[38;5;241m=\u001b[39m {\n\u001b[1;32m   1167\u001b[0m     torch\u001b[38;5;241m.\u001b[39mops\u001b[38;5;241m.\u001b[39mprim\u001b[38;5;241m.\u001b[39mdevice\u001b[38;5;241m.\u001b[39mdefault,\n\u001b[1;32m   1168\u001b[0m     torch\u001b[38;5;241m.\u001b[39mops\u001b[38;5;241m.\u001b[39maten\u001b[38;5;241m.\u001b[39mdetach\u001b[38;5;241m.\u001b[39mdefault,\n\u001b[0;32m-> 1169\u001b[0m } \u001b[38;5;241m|\u001b[39m \u001b[38;5;28mset\u001b[39m(\u001b[43mtorch\u001b[49m\u001b[38;5;241;43m.\u001b[39;49m\u001b[43m_subclasses\u001b[49m\u001b[38;5;241;43m.\u001b[39;49m\u001b[43mfunctional_tensor\u001b[49m\u001b[38;5;241m.\u001b[39mFunctionalTensor\u001b[38;5;241m.\u001b[39mmetadata_fns)\n\u001b[1;32m   1172\u001b[0m \u001b[38;5;28;01mclass\u001b[39;00m \u001b[38;5;21;01m_CachingTorchDispatchMode\u001b[39;00m(TorchDispatchMode):\n\u001b[1;32m   1173\u001b[0m \u001b[38;5;250m    \u001b[39m\u001b[38;5;124mr\u001b[39m\u001b[38;5;124;03m\"\"\"\u001b[39;00m\n\u001b[1;32m   1174\u001b[0m \u001b[38;5;124;03m    A :class:`TorchDispatchMode` to implement selective activation checkpointing\u001b[39;00m\n\u001b[1;32m   1175\u001b[0m \u001b[38;5;124;03m    that's compatible with torch.compile. Used together with _CachedTorchDispatchMode.\u001b[39;00m\n\u001b[1;32m   1176\u001b[0m \u001b[38;5;124;03m    \"\"\"\u001b[39;00m\n",
      "\u001b[0;31mAttributeError\u001b[0m: module 'torch._subclasses' has no attribute 'functional_tensor'"
     ]
    }
   ],
   "source": [
    "optimizer = torch.optim.SGD(net.parameters(),lr =0.2)\n",
    "loss_func = torch.nn.MSELoss()\n",
    "\n",
    "for t in range(100):\n",
    "    prediction = net(x)    \n",
    "    loss = loss_func(prediction,y)    \n",
    "    optimizer.zero_grad()\n",
    "    loss.backward()\n",
    "    optimizer.step()\n",
    "\n",
    "\n"
   ]
  },
  {
   "cell_type": "code",
   "execution_count": null,
   "id": "5cdcfe71",
   "metadata": {},
   "outputs": [],
   "source": [
    "import matplotlib.pyplot as plt\n",
    "from IPython import display\n",
    "import time\n",
    "\n",
    "time_start=time.time()\n",
    "\n",
    "x_list = []\n",
    "y_list = []\n",
    "\n",
    "def paintloss(loss,it):\n",
    "    x_list.append(it)\n",
    "    y_list.append(loss)\n",
    "    display.clear_output(wait=True)\n",
    "    plt.plot(x_list, y_list)\n",
    "    plt.xlabel('x')\n",
    "    plt.ylabel('y')\n",
    "    plt.show()\n",
    "    #plt.pause(0.1) \n",
    "\n",
    "plt.ion()\n",
    "plt.show()\n",
    "\n",
    "for t in range(100):\n",
    "    prediction = net(x)    \n",
    "    loss = loss_func(prediction,y)    \n",
    "    optimizer.zero_grad()\n",
    "    loss.backward()\n",
    "    optimizer.step()\n",
    "    if t% 5 == 0:\n",
    "        plt.cla()\n",
    "        display.clear_output(wait=True)\n",
    "        plt.scatter(x.data.numpy(),y.data.numpy())\n",
    "        plt.plot(x.data.numpy(),prediction.data.numpy(),'r-',lw=5)\n",
    "        plt.text(0.5,0,'Loss=%.4f' % loss.data.numpy(),fontdict={'size':20,'color':'red'})\n",
    "        plt.pause(0.1)\n",
    "        #paintloss(loss.item(),t)\n",
    "        \n",
    "time_end=time.time()\n",
    "print('time cost',time_end-time_start,'s')\n",
    "print(x.size(),y.size())\n",
    "print(torch.get_num_threads())\n",
    "\n"
   ]
  },
  {
   "cell_type": "code",
   "execution_count": 83,
   "id": "f85ebef4",
   "metadata": {},
   "outputs": [
    {
     "data": {
      "image/png": "[encoded data removed]",
      "text/plain": [
       "<Figure size 640x480 with 1 Axes>"
      ]
     },
     "metadata": {},
     "output_type": "display_data"
    }
   ],
   "source": [
    "import torch\n",
    "import matplotlib.pyplot as plt\n",
    "\n",
    "# 假数据\n",
    "n_data = torch.ones(100, 2)         # 数据的基本形态\n",
    "x0 = torch.normal(0.5*n_data, 1)      # 类型0 x data (tensor), shape=(100, 2)\n",
    "y0 = torch.zeros(100)               # 类型0 y data (tensor), shape=(100, )\n",
    "x1 = torch.normal(-0.5*n_data, 1)     # 类型1 x data (tensor), shape=(100, 1)\n",
    "y1 = torch.ones(100)                # 类型1 y data (tensor), shape=(100, )\n",
    "\n",
    "# 注意 x, y 数据的数据形式是一定要像下面一样 (torch.cat 是在合并数据)\n",
    "x = torch.cat((x0, x1), 0).type(torch.FloatTensor)  # FloatTensor = 32-bit floating\n",
    "y = torch.cat((y0, y1), ).type(torch.LongTensor)    # LongTensor = 64-bit integer\n",
    "\n",
    "plt.scatter(x.data.numpy()[:, 0], x.data.numpy()[:, 1], c=y.data.numpy(), s=100, lw=0, cmap='RdYlGn')\n",
    "# plt.show()\n",
    "\n",
    "# 画图\n",
    "#plt.scatter(x.data.numpy(), y.data.numpy())\n",
    "plt.show()\n"
   ]
  },
  {
   "cell_type": "code",
   "execution_count": 84,
   "id": "1328dd3d",
   "metadata": {},
   "outputs": [
    {
     "name": "stdout",
     "output_type": "stream",
     "text": [
      "Net(\n",
      "  (hidden): Linear(in_features=2, out_features=50, bias=True)\n",
      "  (out): Linear(in_features=50, out_features=2, bias=True)\n",
      ")\n"
     ]
    }
   ],
   "source": [
    "import torch\n",
    "import torch.nn.functional as F     # 激励函数都在这\n",
    "\n",
    "class Net(torch.nn.Module):     # 继承 torch 的 Module\n",
    "    def __init__(self, n_feature, n_hidden, n_output):\n",
    "        super(Net, self).__init__()     # 继承 __init__ 功能\n",
    "        self.hidden = torch.nn.Linear(n_feature, n_hidden)   # 隐藏层线性输出\n",
    "        self.out = torch.nn.Linear(n_hidden, n_output)       # 输出层线性输出\n",
    "\n",
    "    def forward(self, x):\n",
    "        # 正向传播输入值, 神经网络分析出输出值\n",
    "        x = F.relu(self.hidden(x))      # 激励函数(隐藏层的线性值)\n",
    "        x = self.out(x)                 # 输出值, 但是这个不是预测值, 预测值还需要再另外计算\n",
    "        return x\n",
    "\n",
    "net = Net(n_feature=2, n_hidden=50, n_output=2) # 几个类别就几个 output\n",
    "\n",
    "print(net)  # net 的结构\n",
    " \n"
   ]
  },
  {
   "cell_type": "code",
   "execution_count": 85,
   "id": "a3b510f9",
   "metadata": {},
   "outputs": [
    {
     "ename": "AttributeError",
     "evalue": "module 'torch._subclasses' has no attribute 'functional_tensor'",
     "output_type": "error",
     "traceback": [
      "\u001b[0;31m---------------------------------------------------------------------------\u001b[0m",
      "\u001b[0;31mAttributeError\u001b[0m                            Traceback (most recent call last)",
      "Cell \u001b[0;32mIn[85], line 7\u001b[0m\n\u001b[1;32m      4\u001b[0m time_start\u001b[38;5;241m=\u001b[39mtime\u001b[38;5;241m.\u001b[39mtime()\n\u001b[1;32m      6\u001b[0m \u001b[38;5;66;03m# optimizer 是训练的工具\u001b[39;00m\n\u001b[0;32m----> 7\u001b[0m optimizer \u001b[38;5;241m=\u001b[39m \u001b[43mtorch\u001b[49m\u001b[38;5;241;43m.\u001b[39;49m\u001b[43moptim\u001b[49m\u001b[38;5;241;43m.\u001b[39;49m\u001b[43mSGD\u001b[49m\u001b[43m(\u001b[49m\u001b[43mnet\u001b[49m\u001b[38;5;241;43m.\u001b[39;49m\u001b[43mparameters\u001b[49m\u001b[43m(\u001b[49m\u001b[43m)\u001b[49m\u001b[43m,\u001b[49m\u001b[43m \u001b[49m\u001b[43mlr\u001b[49m\u001b[38;5;241;43m=\u001b[39;49m\u001b[38;5;241;43m0.01\u001b[39;49m\u001b[43m)\u001b[49m  \u001b[38;5;66;03m# 传入 net 的所有参数, 学习率\u001b[39;00m\n\u001b[1;32m      8\u001b[0m \u001b[38;5;66;03m# 算误差的时候, 注意真实值!不是! one-hot 形式的, 而是1D Tensor, (batch,)\u001b[39;00m\n\u001b[1;32m      9\u001b[0m \u001b[38;5;66;03m# 但是预测值是2D tensor (batch, n_classes)\u001b[39;00m\n\u001b[1;32m     10\u001b[0m loss_func \u001b[38;5;241m=\u001b[39m torch\u001b[38;5;241m.\u001b[39mnn\u001b[38;5;241m.\u001b[39mCrossEntropyLoss()\n",
      "File \u001b[0;32m~/miniconda3/envs/python39/lib/python3.9/site-packages/torch/optim/sgd.py:26\u001b[0m, in \u001b[0;36m__init__\u001b[0;34m(self, params, lr, momentum, dampening, weight_decay, nesterov, maximize, foreach, differentiable)\u001b[0m\n\u001b[1;32m     21\u001b[0m defaults \u001b[38;5;241m=\u001b[39m \u001b[38;5;28mdict\u001b[39m(lr\u001b[38;5;241m=\u001b[39mlr, momentum\u001b[38;5;241m=\u001b[39mmomentum, dampening\u001b[38;5;241m=\u001b[39mdampening,\n\u001b[1;32m     22\u001b[0m                 weight_decay\u001b[38;5;241m=\u001b[39mweight_decay, nesterov\u001b[38;5;241m=\u001b[39mnesterov,\n\u001b[1;32m     23\u001b[0m                 maximize\u001b[38;5;241m=\u001b[39mmaximize, foreach\u001b[38;5;241m=\u001b[39mforeach,\n\u001b[1;32m     24\u001b[0m                 differentiable\u001b[38;5;241m=\u001b[39mdifferentiable)\n\u001b[1;32m     25\u001b[0m \u001b[38;5;28;01mif\u001b[39;00m nesterov \u001b[38;5;129;01mand\u001b[39;00m (momentum \u001b[38;5;241m<\u001b[39m\u001b[38;5;241m=\u001b[39m \u001b[38;5;241m0\u001b[39m \u001b[38;5;129;01mor\u001b[39;00m dampening \u001b[38;5;241m!=\u001b[39m \u001b[38;5;241m0\u001b[39m):\n\u001b[0;32m---> 26\u001b[0m     \u001b[38;5;28;01mraise\u001b[39;00m \u001b[38;5;167;01mValueError\u001b[39;00m(\u001b[38;5;124m\"\u001b[39m\u001b[38;5;124mNesterov momentum requires a momentum and zero dampening\u001b[39m\u001b[38;5;124m\"\u001b[39m)\n\u001b[1;32m     27\u001b[0m \u001b[38;5;28msuper\u001b[39m()\u001b[38;5;241m.\u001b[39m\u001b[38;5;21m__init__\u001b[39m(params, defaults)\n",
      "File \u001b[0;32m~/miniconda3/envs/python39/lib/python3.9/site-packages/torch/optim/optimizer.py:266\u001b[0m, in \u001b[0;36m__init__\u001b[0;34m(self, params, defaults)\u001b[0m\n\u001b[1;32m    259\u001b[0m         warnings\u001b[38;5;241m.\u001b[39mwarn((\u001b[38;5;124m\"\u001b[39m\u001b[38;5;124mPassing in a raw Tensor as ``params`` to SparseAdam \u001b[39m\u001b[38;5;124m\"\u001b[39m\n\u001b[1;32m    260\u001b[0m                        \u001b[38;5;124m\"\u001b[39m\u001b[38;5;124mis deprecated. In the future, this will raise an error. \u001b[39m\u001b[38;5;124m\"\u001b[39m\n\u001b[1;32m    261\u001b[0m                        \u001b[38;5;124m\"\u001b[39m\u001b[38;5;124mPlease wrap your Tensor in an iterable instead.\u001b[39m\u001b[38;5;124m\"\u001b[39m),\n\u001b[1;32m    262\u001b[0m                       \u001b[38;5;167;01mFutureWarning\u001b[39;00m)\n\u001b[1;32m    263\u001b[0m     \u001b[38;5;28;01melse\u001b[39;00m:\n\u001b[1;32m    264\u001b[0m         \u001b[38;5;28;01mraise\u001b[39;00m \u001b[38;5;167;01mTypeError\u001b[39;00m(\u001b[38;5;124m\"\u001b[39m\u001b[38;5;124mparams argument given to the optimizer should be \u001b[39m\u001b[38;5;124m\"\u001b[39m\n\u001b[1;32m    265\u001b[0m                         \u001b[38;5;124m\"\u001b[39m\u001b[38;5;124man iterable of Tensors or dicts, but got \u001b[39m\u001b[38;5;124m\"\u001b[39m \u001b[38;5;241m+\u001b[39m\n\u001b[0;32m--> 266\u001b[0m                         torch\u001b[38;5;241m.\u001b[39mtypename(params))\n\u001b[1;32m    268\u001b[0m \u001b[38;5;28mself\u001b[39m\u001b[38;5;241m.\u001b[39mstate: DefaultDict[torch\u001b[38;5;241m.\u001b[39mTensor, Any] \u001b[38;5;241m=\u001b[39m defaultdict(\u001b[38;5;28mdict\u001b[39m)\n\u001b[1;32m    269\u001b[0m \u001b[38;5;28mself\u001b[39m\u001b[38;5;241m.\u001b[39mparam_groups: List[Dict[\u001b[38;5;28mstr\u001b[39m, Any]] \u001b[38;5;241m=\u001b[39m []\n",
      "File \u001b[0;32m~/miniconda3/envs/python39/lib/python3.9/site-packages/torch/_compile.py:22\u001b[0m, in \u001b[0;36m_disable_dynamo.<locals>.inner\u001b[0;34m(*args, **kwargs)\u001b[0m\n\u001b[1;32m     20\u001b[0m \u001b[38;5;129m@functools\u001b[39m\u001b[38;5;241m.\u001b[39mwraps(fn)\n\u001b[1;32m     21\u001b[0m \u001b[38;5;28;01mdef\u001b[39;00m \u001b[38;5;21minner\u001b[39m(\u001b[38;5;241m*\u001b[39margs, \u001b[38;5;241m*\u001b[39m\u001b[38;5;241m*\u001b[39mkwargs):\n\u001b[0;32m---> 22\u001b[0m     \u001b[38;5;28;01mimport\u001b[39;00m \u001b[38;5;21;01mtorch\u001b[39;00m\u001b[38;5;21;01m.\u001b[39;00m\u001b[38;5;21;01m_dynamo\u001b[39;00m\n\u001b[1;32m     24\u001b[0m     \u001b[38;5;28;01mreturn\u001b[39;00m torch\u001b[38;5;241m.\u001b[39m_dynamo\u001b[38;5;241m.\u001b[39mdisable(fn, recursive)(\u001b[38;5;241m*\u001b[39margs, \u001b[38;5;241m*\u001b[39m\u001b[38;5;241m*\u001b[39mkwargs)\n",
      "File \u001b[0;32m~/miniconda3/envs/python39/lib/python3.9/site-packages/torch/_dynamo/__init__.py:2\u001b[0m\n\u001b[1;32m      1\u001b[0m \u001b[38;5;28;01mimport\u001b[39;00m \u001b[38;5;21;01mtorch\u001b[39;00m\n\u001b[0;32m----> 2\u001b[0m \u001b[38;5;28;01mfrom\u001b[39;00m \u001b[38;5;21;01m.\u001b[39;00m \u001b[38;5;28;01mimport\u001b[39;00m allowed_functions, convert_frame, eval_frame, resume_execution\n\u001b[1;32m      3\u001b[0m \u001b[38;5;28;01mfrom\u001b[39;00m \u001b[38;5;21;01m.\u001b[39;00m\u001b[38;5;21;01mbackends\u001b[39;00m\u001b[38;5;21;01m.\u001b[39;00m\u001b[38;5;21;01mregistry\u001b[39;00m \u001b[38;5;28;01mimport\u001b[39;00m list_backends, lookup_backend, register_backend\n\u001b[1;32m      4\u001b[0m \u001b[38;5;28;01mfrom\u001b[39;00m \u001b[38;5;21;01m.\u001b[39;00m\u001b[38;5;21;01mcode_context\u001b[39;00m \u001b[38;5;28;01mimport\u001b[39;00m code_context\n",
      "File \u001b[0;32m~/miniconda3/envs/python39/lib/python3.9/site-packages/torch/_dynamo/convert_frame.py:45\u001b[0m\n\u001b[1;32m     32\u001b[0m \u001b[38;5;28;01mfrom\u001b[39;00m \u001b[38;5;21;01m.\u001b[39;00m\u001b[38;5;21;01mbytecode_transformation\u001b[39;00m \u001b[38;5;28;01mimport\u001b[39;00m (\n\u001b[1;32m     33\u001b[0m     check_inst_exn_tab_entries_valid,\n\u001b[1;32m     34\u001b[0m     Instruction,\n\u001b[0;32m   (...)\u001b[0m\n\u001b[1;32m     37\u001b[0m     transform_code_object,\n\u001b[1;32m     38\u001b[0m )\n\u001b[1;32m     39\u001b[0m \u001b[38;5;28;01mfrom\u001b[39;00m \u001b[38;5;21;01m.\u001b[39;00m\u001b[38;5;21;01mcache_size\u001b[39;00m \u001b[38;5;28;01mimport\u001b[39;00m (\n\u001b[1;32m     40\u001b[0m     CacheSizeRelevantForFrame,\n\u001b[1;32m     41\u001b[0m     compute_cache_size,\n\u001b[1;32m     42\u001b[0m     exceeds_cache_size_limit,\n\u001b[1;32m     43\u001b[0m     is_recompilation,\n\u001b[1;32m     44\u001b[0m )\n\u001b[0;32m---> 45\u001b[0m \u001b[38;5;28;01mfrom\u001b[39;00m \u001b[38;5;21;01m.\u001b[39;00m\u001b[38;5;21;01meval_frame\u001b[39;00m \u001b[38;5;28;01mimport\u001b[39;00m always_optimize_code_objects, skip_code, TorchPatcher\n\u001b[1;32m     46\u001b[0m \u001b[38;5;28;01mfrom\u001b[39;00m \u001b[38;5;21;01m.\u001b[39;00m\u001b[38;5;21;01mexc\u001b[39;00m \u001b[38;5;28;01mimport\u001b[39;00m (\n\u001b[1;32m     47\u001b[0m     augment_exc_message,\n\u001b[1;32m     48\u001b[0m     BackendCompilerFailed,\n\u001b[0;32m   (...)\u001b[0m\n\u001b[1;32m     54\u001b[0m     Unsupported,\n\u001b[1;32m     55\u001b[0m )\n\u001b[1;32m     56\u001b[0m \u001b[38;5;28;01mfrom\u001b[39;00m \u001b[38;5;21;01m.\u001b[39;00m\u001b[38;5;21;01mguards\u001b[39;00m \u001b[38;5;28;01mimport\u001b[39;00m (\n\u001b[1;32m     57\u001b[0m     CheckFunctionManager,\n\u001b[1;32m     58\u001b[0m     get_and_maybe_log_recompilation_reason,\n\u001b[1;32m     59\u001b[0m     GuardedCode,\n\u001b[1;32m     60\u001b[0m )\n",
      "File \u001b[0;32m~/miniconda3/envs/python39/lib/python3.9/site-packages/torch/_dynamo/eval_frame.py:37\u001b[0m\n\u001b[1;32m     35\u001b[0m \u001b[38;5;28;01mimport\u001b[39;00m \u001b[38;5;21;01mtorch\u001b[39;00m\u001b[38;5;21;01m.\u001b[39;00m\u001b[38;5;21;01mfx\u001b[39;00m\n\u001b[1;32m     36\u001b[0m \u001b[38;5;28;01mimport\u001b[39;00m \u001b[38;5;21;01mtorch\u001b[39;00m\u001b[38;5;21;01m.\u001b[39;00m\u001b[38;5;21;01mutils\u001b[39;00m\u001b[38;5;21;01m.\u001b[39;00m\u001b[38;5;21;01m_pytree\u001b[39;00m \u001b[38;5;28;01mas\u001b[39;00m \u001b[38;5;21;01mpytree\u001b[39;00m\n\u001b[0;32m---> 37\u001b[0m \u001b[38;5;28;01mimport\u001b[39;00m \u001b[38;5;21;01mtorch\u001b[39;00m\u001b[38;5;21;01m.\u001b[39;00m\u001b[38;5;21;01mutils\u001b[39;00m\u001b[38;5;21;01m.\u001b[39;00m\u001b[38;5;21;01mcheckpoint\u001b[39;00m\n\u001b[1;32m     38\u001b[0m \u001b[38;5;28;01mfrom\u001b[39;00m \u001b[38;5;21;01mtorch\u001b[39;00m \u001b[38;5;28;01mimport\u001b[39;00m _guards\n\u001b[1;32m     39\u001b[0m \u001b[38;5;28;01mfrom\u001b[39;00m \u001b[38;5;21;01mtorch\u001b[39;00m\u001b[38;5;21;01m.\u001b[39;00m\u001b[38;5;21;01m_subclasses\u001b[39;00m \u001b[38;5;28;01mimport\u001b[39;00m fake_tensor\n",
      "File \u001b[0;32m~/miniconda3/envs/python39/lib/python3.9/site-packages/torch/utils/checkpoint.py:1169\u001b[0m\n\u001b[1;32m   1160\u001b[0m uid \u001b[38;5;241m=\u001b[39m count(\u001b[38;5;241m1\u001b[39m)\n\u001b[1;32m   1163\u001b[0m \u001b[38;5;66;03m# NOTE: torch.utils.checkpoint internal logic will call these two functions unknown number of times\u001b[39;00m\n\u001b[1;32m   1164\u001b[0m \u001b[38;5;66;03m# (i.e. there could be _CachedTorchDispatchMode calls that doesn't map to a _CachingTorchDispatchMode call),\u001b[39;00m\n\u001b[1;32m   1165\u001b[0m \u001b[38;5;66;03m# so we ignore these ops and just always recompute them.\u001b[39;00m\n\u001b[1;32m   1166\u001b[0m _ignored_ops \u001b[38;5;241m=\u001b[39m {\n\u001b[1;32m   1167\u001b[0m     torch\u001b[38;5;241m.\u001b[39mops\u001b[38;5;241m.\u001b[39mprim\u001b[38;5;241m.\u001b[39mdevice\u001b[38;5;241m.\u001b[39mdefault,\n\u001b[1;32m   1168\u001b[0m     torch\u001b[38;5;241m.\u001b[39mops\u001b[38;5;241m.\u001b[39maten\u001b[38;5;241m.\u001b[39mdetach\u001b[38;5;241m.\u001b[39mdefault,\n\u001b[0;32m-> 1169\u001b[0m } \u001b[38;5;241m|\u001b[39m \u001b[38;5;28mset\u001b[39m(\u001b[43mtorch\u001b[49m\u001b[38;5;241;43m.\u001b[39;49m\u001b[43m_subclasses\u001b[49m\u001b[38;5;241;43m.\u001b[39;49m\u001b[43mfunctional_tensor\u001b[49m\u001b[38;5;241m.\u001b[39mFunctionalTensor\u001b[38;5;241m.\u001b[39mmetadata_fns)\n\u001b[1;32m   1172\u001b[0m \u001b[38;5;28;01mclass\u001b[39;00m \u001b[38;5;21;01m_CachingTorchDispatchMode\u001b[39;00m(TorchDispatchMode):\n\u001b[1;32m   1173\u001b[0m \u001b[38;5;250m    \u001b[39m\u001b[38;5;124mr\u001b[39m\u001b[38;5;124;03m\"\"\"\u001b[39;00m\n\u001b[1;32m   1174\u001b[0m \u001b[38;5;124;03m    A :class:`TorchDispatchMode` to implement selective activation checkpointing\u001b[39;00m\n\u001b[1;32m   1175\u001b[0m \u001b[38;5;124;03m    that's compatible with torch.compile. Used together with _CachedTorchDispatchMode.\u001b[39;00m\n\u001b[1;32m   1176\u001b[0m \u001b[38;5;124;03m    \"\"\"\u001b[39;00m\n",
      "\u001b[0;31mAttributeError\u001b[0m: module 'torch._subclasses' has no attribute 'functional_tensor'"
     ]
    }
   ],
   "source": [
    "import matplotlib.pyplot as plt\n",
    "from IPython import display\n",
    "import time\n",
    "time_start=time.time()\n",
    "\n",
    "# optimizer 是训练的工具\n",
    "optimizer = torch.optim.SGD(net.parameters(), lr=0.01)  # 传入 net 的所有参数, 学习率\n",
    "# 算误差的时候, 注意真实值!不是! one-hot 形式的, 而是1D Tensor, (batch,)\n",
    "# 但是预测值是2D tensor (batch, n_classes)\n",
    "loss_func = torch.nn.CrossEntropyLoss()\n",
    "\n",
    "\n",
    "plt.ion()   # 画图\n",
    " \n",
    "\n",
    "for t in range(100):\n",
    "    out = net(x)     # 喂给 net 训练数据 x, 输出分析值    \n",
    "    loss = loss_func(out, y)     # 计算两者的误差    \n",
    "    optimizer.zero_grad()   # 清空上一步的残余更新参数值\n",
    "    loss.backward()         # 误差反向传播, 计算参数更新值\n",
    "    optimizer.step()        # 将参数更新值施加到 net 的 parameters 上\n",
    "\n",
    "    # 接着上面来\n",
    "    if t % 2 == 0:\n",
    "        plt.cla()\n",
    "        display.clear_output(wait=True)\n",
    "        # 过了一道 softmax 的激励函数后的最大概率才是预测值\n",
    "        prediction = torch.max(F.softmax(out), 1)[1]\n",
    "        pred_y = prediction.data.numpy().squeeze()\n",
    "        target_y = y.data.numpy()\n",
    "        plt.scatter(x.data.numpy()[:, 0], x.data.numpy()[:, 1], c=pred_y, s=100, lw=0, cmap='RdYlGn')\n",
    "        accuracy = sum(pred_y == target_y)/200.  # 预测中有多少和真实值一样\n",
    "        plt.text(1.5, -4, 'Accuracy=%.2f' % accuracy, fontdict={'size': 20, 'color':  'red'})\n",
    "        plt.pause(0.1)\n",
    "\n",
    "plt.ioff()  # 停止画图\n",
    "plt.show()\n",
    " \n",
    "        \n",
    "time_end=time.time()\n",
    "print('time cost',time_end-time_start,'s')\n",
    "print(x.size(),y.size())\n",
    "print(torch.get_num_threads())"
   ]
  },
  {
   "cell_type": "code",
   "execution_count": null,
   "id": "8081b5bb",
   "metadata": {},
   "outputs": [],
   "source": []
  },
  {
   "cell_type": "code",
   "execution_count": 86,
   "id": "e9796834",
   "metadata": {},
   "outputs": [],
   "source": [
    "torch.manual_seed(1)    # reproducible\n",
    "\n",
    "# 假数据\n",
    "x = torch.unsqueeze(torch.linspace(-1, 1, 100), dim=1)  # x data (tensor), shape=(100, 1)\n",
    "y = x.pow(2) + 0.2*torch.rand(x.size())  # noisy y data (tensor), shape=(100, 1)\n",
    "\n",
    "def save():\n",
    "    # 建网络\n",
    "    net1 = torch.nn.Sequential(\n",
    "        torch.nn.Linear(1, 10),\n",
    "        torch.nn.ReLU(),\n",
    "        torch.nn.Linear(10, 1)\n",
    "    )\n",
    "    optimizer = torch.optim.SGD(net1.parameters(), lr=0.5)\n",
    "    loss_func = torch.nn.MSELoss()\n",
    "\n",
    "    # 训练\n",
    "    for t in range(100):\n",
    "        prediction = net1(x)\n",
    "        loss = loss_func(prediction, y)\n",
    "        optimizer.zero_grad()\n",
    "        loss.backward()\n",
    "        optimizer.step()\n",
    "    torch.save(net1, 'net.pkl')  # 保存整个网络\n",
    "    torch.save(net1.state_dict(), 'net_params.pkl')   # 只保存网络中的参数 (速度快, 占内存少)\n"
   ]
  },
  {
   "cell_type": "code",
   "execution_count": 87,
   "id": "335ee100",
   "metadata": {},
   "outputs": [],
   "source": [
    "def restore_net():\n",
    "    # restore entire net1 to net2\n",
    "    net2 = torch.load('net.pkl')\n",
    "    prediction = net2(x)\n"
   ]
  },
  {
   "cell_type": "code",
   "execution_count": 88,
   "id": "b41d343a",
   "metadata": {},
   "outputs": [],
   "source": [
    "def restore_params():\n",
    "    # 新建 net3\n",
    "    net3 = torch.nn.Sequential(\n",
    "        torch.nn.Linear(1, 10),\n",
    "        torch.nn.ReLU(),\n",
    "        torch.nn.Linear(10, 1)\n",
    "    )\n",
    "\n",
    "    # 将保存的参数复制到 net3\n",
    "    net3.load_state_dict(torch.load('net_params.pkl'))\n",
    "    prediction = net3(x)\n"
   ]
  },
  {
   "cell_type": "code",
   "execution_count": 89,
   "id": "af43a2cd",
   "metadata": {},
   "outputs": [
    {
     "ename": "AttributeError",
     "evalue": "module 'torch._subclasses' has no attribute 'functional_tensor'",
     "output_type": "error",
     "traceback": [
      "\u001b[0;31m---------------------------------------------------------------------------\u001b[0m",
      "\u001b[0;31mAttributeError\u001b[0m                            Traceback (most recent call last)",
      "Cell \u001b[0;32mIn[89], line 2\u001b[0m\n\u001b[1;32m      1\u001b[0m \u001b[38;5;66;03m# 保存 net1 (1. 整个网络, 2. 只有参数)\u001b[39;00m\n\u001b[0;32m----> 2\u001b[0m \u001b[43msave\u001b[49m\u001b[43m(\u001b[49m\u001b[43m)\u001b[49m\n\u001b[1;32m      4\u001b[0m \u001b[38;5;66;03m# 提取整个网络\u001b[39;00m\n\u001b[1;32m      5\u001b[0m restore_net()\n",
      "Cell \u001b[0;32mIn[86], line 14\u001b[0m, in \u001b[0;36msave\u001b[0;34m()\u001b[0m\n\u001b[1;32m      7\u001b[0m \u001b[38;5;28;01mdef\u001b[39;00m \u001b[38;5;21msave\u001b[39m():\n\u001b[1;32m      8\u001b[0m     \u001b[38;5;66;03m# 建网络\u001b[39;00m\n\u001b[1;32m      9\u001b[0m     net1 \u001b[38;5;241m=\u001b[39m torch\u001b[38;5;241m.\u001b[39mnn\u001b[38;5;241m.\u001b[39mSequential(\n\u001b[1;32m     10\u001b[0m         torch\u001b[38;5;241m.\u001b[39mnn\u001b[38;5;241m.\u001b[39mLinear(\u001b[38;5;241m1\u001b[39m, \u001b[38;5;241m10\u001b[39m),\n\u001b[1;32m     11\u001b[0m         torch\u001b[38;5;241m.\u001b[39mnn\u001b[38;5;241m.\u001b[39mReLU(),\n\u001b[1;32m     12\u001b[0m         torch\u001b[38;5;241m.\u001b[39mnn\u001b[38;5;241m.\u001b[39mLinear(\u001b[38;5;241m10\u001b[39m, \u001b[38;5;241m1\u001b[39m)\n\u001b[1;32m     13\u001b[0m     )\n\u001b[0;32m---> 14\u001b[0m     optimizer \u001b[38;5;241m=\u001b[39m \u001b[43mtorch\u001b[49m\u001b[38;5;241;43m.\u001b[39;49m\u001b[43moptim\u001b[49m\u001b[38;5;241;43m.\u001b[39;49m\u001b[43mSGD\u001b[49m\u001b[43m(\u001b[49m\u001b[43mnet1\u001b[49m\u001b[38;5;241;43m.\u001b[39;49m\u001b[43mparameters\u001b[49m\u001b[43m(\u001b[49m\u001b[43m)\u001b[49m\u001b[43m,\u001b[49m\u001b[43m \u001b[49m\u001b[43mlr\u001b[49m\u001b[38;5;241;43m=\u001b[39;49m\u001b[38;5;241;43m0.5\u001b[39;49m\u001b[43m)\u001b[49m\n\u001b[1;32m     15\u001b[0m     loss_func \u001b[38;5;241m=\u001b[39m torch\u001b[38;5;241m.\u001b[39mnn\u001b[38;5;241m.\u001b[39mMSELoss()\n\u001b[1;32m     17\u001b[0m     \u001b[38;5;66;03m# 训练\u001b[39;00m\n",
      "File \u001b[0;32m~/miniconda3/envs/python39/lib/python3.9/site-packages/torch/optim/sgd.py:26\u001b[0m, in \u001b[0;36m__init__\u001b[0;34m(self, params, lr, momentum, dampening, weight_decay, nesterov, maximize, foreach, differentiable)\u001b[0m\n\u001b[1;32m     21\u001b[0m defaults \u001b[38;5;241m=\u001b[39m \u001b[38;5;28mdict\u001b[39m(lr\u001b[38;5;241m=\u001b[39mlr, momentum\u001b[38;5;241m=\u001b[39mmomentum, dampening\u001b[38;5;241m=\u001b[39mdampening,\n\u001b[1;32m     22\u001b[0m                 weight_decay\u001b[38;5;241m=\u001b[39mweight_decay, nesterov\u001b[38;5;241m=\u001b[39mnesterov,\n\u001b[1;32m     23\u001b[0m                 maximize\u001b[38;5;241m=\u001b[39mmaximize, foreach\u001b[38;5;241m=\u001b[39mforeach,\n\u001b[1;32m     24\u001b[0m                 differentiable\u001b[38;5;241m=\u001b[39mdifferentiable)\n\u001b[1;32m     25\u001b[0m \u001b[38;5;28;01mif\u001b[39;00m nesterov \u001b[38;5;129;01mand\u001b[39;00m (momentum \u001b[38;5;241m<\u001b[39m\u001b[38;5;241m=\u001b[39m \u001b[38;5;241m0\u001b[39m \u001b[38;5;129;01mor\u001b[39;00m dampening \u001b[38;5;241m!=\u001b[39m \u001b[38;5;241m0\u001b[39m):\n\u001b[0;32m---> 26\u001b[0m     \u001b[38;5;28;01mraise\u001b[39;00m \u001b[38;5;167;01mValueError\u001b[39;00m(\u001b[38;5;124m\"\u001b[39m\u001b[38;5;124mNesterov momentum requires a momentum and zero dampening\u001b[39m\u001b[38;5;124m\"\u001b[39m)\n\u001b[1;32m     27\u001b[0m \u001b[38;5;28msuper\u001b[39m()\u001b[38;5;241m.\u001b[39m\u001b[38;5;21m__init__\u001b[39m(params, defaults)\n",
      "File \u001b[0;32m~/miniconda3/envs/python39/lib/python3.9/site-packages/torch/optim/optimizer.py:266\u001b[0m, in \u001b[0;36m__init__\u001b[0;34m(self, params, defaults)\u001b[0m\n\u001b[1;32m    259\u001b[0m         warnings\u001b[38;5;241m.\u001b[39mwarn((\u001b[38;5;124m\"\u001b[39m\u001b[38;5;124mPassing in a raw Tensor as ``params`` to SparseAdam \u001b[39m\u001b[38;5;124m\"\u001b[39m\n\u001b[1;32m    260\u001b[0m                        \u001b[38;5;124m\"\u001b[39m\u001b[38;5;124mis deprecated. In the future, this will raise an error. \u001b[39m\u001b[38;5;124m\"\u001b[39m\n\u001b[1;32m    261\u001b[0m                        \u001b[38;5;124m\"\u001b[39m\u001b[38;5;124mPlease wrap your Tensor in an iterable instead.\u001b[39m\u001b[38;5;124m\"\u001b[39m),\n\u001b[1;32m    262\u001b[0m                       \u001b[38;5;167;01mFutureWarning\u001b[39;00m)\n\u001b[1;32m    263\u001b[0m     \u001b[38;5;28;01melse\u001b[39;00m:\n\u001b[1;32m    264\u001b[0m         \u001b[38;5;28;01mraise\u001b[39;00m \u001b[38;5;167;01mTypeError\u001b[39;00m(\u001b[38;5;124m\"\u001b[39m\u001b[38;5;124mparams argument given to the optimizer should be \u001b[39m\u001b[38;5;124m\"\u001b[39m\n\u001b[1;32m    265\u001b[0m                         \u001b[38;5;124m\"\u001b[39m\u001b[38;5;124man iterable of Tensors or dicts, but got \u001b[39m\u001b[38;5;124m\"\u001b[39m \u001b[38;5;241m+\u001b[39m\n\u001b[0;32m--> 266\u001b[0m                         torch\u001b[38;5;241m.\u001b[39mtypename(params))\n\u001b[1;32m    268\u001b[0m \u001b[38;5;28mself\u001b[39m\u001b[38;5;241m.\u001b[39mstate: DefaultDict[torch\u001b[38;5;241m.\u001b[39mTensor, Any] \u001b[38;5;241m=\u001b[39m defaultdict(\u001b[38;5;28mdict\u001b[39m)\n\u001b[1;32m    269\u001b[0m \u001b[38;5;28mself\u001b[39m\u001b[38;5;241m.\u001b[39mparam_groups: List[Dict[\u001b[38;5;28mstr\u001b[39m, Any]] \u001b[38;5;241m=\u001b[39m []\n",
      "File \u001b[0;32m~/miniconda3/envs/python39/lib/python3.9/site-packages/torch/_compile.py:22\u001b[0m, in \u001b[0;36m_disable_dynamo.<locals>.inner\u001b[0;34m(*args, **kwargs)\u001b[0m\n\u001b[1;32m     20\u001b[0m \u001b[38;5;129m@functools\u001b[39m\u001b[38;5;241m.\u001b[39mwraps(fn)\n\u001b[1;32m     21\u001b[0m \u001b[38;5;28;01mdef\u001b[39;00m \u001b[38;5;21minner\u001b[39m(\u001b[38;5;241m*\u001b[39margs, \u001b[38;5;241m*\u001b[39m\u001b[38;5;241m*\u001b[39mkwargs):\n\u001b[0;32m---> 22\u001b[0m     \u001b[38;5;28;01mimport\u001b[39;00m \u001b[38;5;21;01mtorch\u001b[39;00m\u001b[38;5;21;01m.\u001b[39;00m\u001b[38;5;21;01m_dynamo\u001b[39;00m\n\u001b[1;32m     24\u001b[0m     \u001b[38;5;28;01mreturn\u001b[39;00m torch\u001b[38;5;241m.\u001b[39m_dynamo\u001b[38;5;241m.\u001b[39mdisable(fn, recursive)(\u001b[38;5;241m*\u001b[39margs, \u001b[38;5;241m*\u001b[39m\u001b[38;5;241m*\u001b[39mkwargs)\n",
      "File \u001b[0;32m~/miniconda3/envs/python39/lib/python3.9/site-packages/torch/_dynamo/__init__.py:2\u001b[0m\n\u001b[1;32m      1\u001b[0m \u001b[38;5;28;01mimport\u001b[39;00m \u001b[38;5;21;01mtorch\u001b[39;00m\n\u001b[0;32m----> 2\u001b[0m \u001b[38;5;28;01mfrom\u001b[39;00m \u001b[38;5;21;01m.\u001b[39;00m \u001b[38;5;28;01mimport\u001b[39;00m allowed_functions, convert_frame, eval_frame, resume_execution\n\u001b[1;32m      3\u001b[0m \u001b[38;5;28;01mfrom\u001b[39;00m \u001b[38;5;21;01m.\u001b[39;00m\u001b[38;5;21;01mbackends\u001b[39;00m\u001b[38;5;21;01m.\u001b[39;00m\u001b[38;5;21;01mregistry\u001b[39;00m \u001b[38;5;28;01mimport\u001b[39;00m list_backends, lookup_backend, register_backend\n\u001b[1;32m      4\u001b[0m \u001b[38;5;28;01mfrom\u001b[39;00m \u001b[38;5;21;01m.\u001b[39;00m\u001b[38;5;21;01mcode_context\u001b[39;00m \u001b[38;5;28;01mimport\u001b[39;00m code_context\n",
      "File \u001b[0;32m~/miniconda3/envs/python39/lib/python3.9/site-packages/torch/_dynamo/convert_frame.py:45\u001b[0m\n\u001b[1;32m     32\u001b[0m \u001b[38;5;28;01mfrom\u001b[39;00m \u001b[38;5;21;01m.\u001b[39;00m\u001b[38;5;21;01mbytecode_transformation\u001b[39;00m \u001b[38;5;28;01mimport\u001b[39;00m (\n\u001b[1;32m     33\u001b[0m     check_inst_exn_tab_entries_valid,\n\u001b[1;32m     34\u001b[0m     Instruction,\n\u001b[0;32m   (...)\u001b[0m\n\u001b[1;32m     37\u001b[0m     transform_code_object,\n\u001b[1;32m     38\u001b[0m )\n\u001b[1;32m     39\u001b[0m \u001b[38;5;28;01mfrom\u001b[39;00m \u001b[38;5;21;01m.\u001b[39;00m\u001b[38;5;21;01mcache_size\u001b[39;00m \u001b[38;5;28;01mimport\u001b[39;00m (\n\u001b[1;32m     40\u001b[0m     CacheSizeRelevantForFrame,\n\u001b[1;32m     41\u001b[0m     compute_cache_size,\n\u001b[1;32m     42\u001b[0m     exceeds_cache_size_limit,\n\u001b[1;32m     43\u001b[0m     is_recompilation,\n\u001b[1;32m     44\u001b[0m )\n\u001b[0;32m---> 45\u001b[0m \u001b[38;5;28;01mfrom\u001b[39;00m \u001b[38;5;21;01m.\u001b[39;00m\u001b[38;5;21;01meval_frame\u001b[39;00m \u001b[38;5;28;01mimport\u001b[39;00m always_optimize_code_objects, skip_code, TorchPatcher\n\u001b[1;32m     46\u001b[0m \u001b[38;5;28;01mfrom\u001b[39;00m \u001b[38;5;21;01m.\u001b[39;00m\u001b[38;5;21;01mexc\u001b[39;00m \u001b[38;5;28;01mimport\u001b[39;00m (\n\u001b[1;32m     47\u001b[0m     augment_exc_message,\n\u001b[1;32m     48\u001b[0m     BackendCompilerFailed,\n\u001b[0;32m   (...)\u001b[0m\n\u001b[1;32m     54\u001b[0m     Unsupported,\n\u001b[1;32m     55\u001b[0m )\n\u001b[1;32m     56\u001b[0m \u001b[38;5;28;01mfrom\u001b[39;00m \u001b[38;5;21;01m.\u001b[39;00m\u001b[38;5;21;01mguards\u001b[39;00m \u001b[38;5;28;01mimport\u001b[39;00m (\n\u001b[1;32m     57\u001b[0m     CheckFunctionManager,\n\u001b[1;32m     58\u001b[0m     get_and_maybe_log_recompilation_reason,\n\u001b[1;32m     59\u001b[0m     GuardedCode,\n\u001b[1;32m     60\u001b[0m )\n",
      "File \u001b[0;32m~/miniconda3/envs/python39/lib/python3.9/site-packages/torch/_dynamo/eval_frame.py:37\u001b[0m\n\u001b[1;32m     35\u001b[0m \u001b[38;5;28;01mimport\u001b[39;00m \u001b[38;5;21;01mtorch\u001b[39;00m\u001b[38;5;21;01m.\u001b[39;00m\u001b[38;5;21;01mfx\u001b[39;00m\n\u001b[1;32m     36\u001b[0m \u001b[38;5;28;01mimport\u001b[39;00m \u001b[38;5;21;01mtorch\u001b[39;00m\u001b[38;5;21;01m.\u001b[39;00m\u001b[38;5;21;01mutils\u001b[39;00m\u001b[38;5;21;01m.\u001b[39;00m\u001b[38;5;21;01m_pytree\u001b[39;00m \u001b[38;5;28;01mas\u001b[39;00m \u001b[38;5;21;01mpytree\u001b[39;00m\n\u001b[0;32m---> 37\u001b[0m \u001b[38;5;28;01mimport\u001b[39;00m \u001b[38;5;21;01mtorch\u001b[39;00m\u001b[38;5;21;01m.\u001b[39;00m\u001b[38;5;21;01mutils\u001b[39;00m\u001b[38;5;21;01m.\u001b[39;00m\u001b[38;5;21;01mcheckpoint\u001b[39;00m\n\u001b[1;32m     38\u001b[0m \u001b[38;5;28;01mfrom\u001b[39;00m \u001b[38;5;21;01mtorch\u001b[39;00m \u001b[38;5;28;01mimport\u001b[39;00m _guards\n\u001b[1;32m     39\u001b[0m \u001b[38;5;28;01mfrom\u001b[39;00m \u001b[38;5;21;01mtorch\u001b[39;00m\u001b[38;5;21;01m.\u001b[39;00m\u001b[38;5;21;01m_subclasses\u001b[39;00m \u001b[38;5;28;01mimport\u001b[39;00m fake_tensor\n",
      "File \u001b[0;32m~/miniconda3/envs/python39/lib/python3.9/site-packages/torch/utils/checkpoint.py:1169\u001b[0m\n\u001b[1;32m   1160\u001b[0m uid \u001b[38;5;241m=\u001b[39m count(\u001b[38;5;241m1\u001b[39m)\n\u001b[1;32m   1163\u001b[0m \u001b[38;5;66;03m# NOTE: torch.utils.checkpoint internal logic will call these two functions unknown number of times\u001b[39;00m\n\u001b[1;32m   1164\u001b[0m \u001b[38;5;66;03m# (i.e. there could be _CachedTorchDispatchMode calls that doesn't map to a _CachingTorchDispatchMode call),\u001b[39;00m\n\u001b[1;32m   1165\u001b[0m \u001b[38;5;66;03m# so we ignore these ops and just always recompute them.\u001b[39;00m\n\u001b[1;32m   1166\u001b[0m _ignored_ops \u001b[38;5;241m=\u001b[39m {\n\u001b[1;32m   1167\u001b[0m     torch\u001b[38;5;241m.\u001b[39mops\u001b[38;5;241m.\u001b[39mprim\u001b[38;5;241m.\u001b[39mdevice\u001b[38;5;241m.\u001b[39mdefault,\n\u001b[1;32m   1168\u001b[0m     torch\u001b[38;5;241m.\u001b[39mops\u001b[38;5;241m.\u001b[39maten\u001b[38;5;241m.\u001b[39mdetach\u001b[38;5;241m.\u001b[39mdefault,\n\u001b[0;32m-> 1169\u001b[0m } \u001b[38;5;241m|\u001b[39m \u001b[38;5;28mset\u001b[39m(\u001b[43mtorch\u001b[49m\u001b[38;5;241;43m.\u001b[39;49m\u001b[43m_subclasses\u001b[49m\u001b[38;5;241;43m.\u001b[39;49m\u001b[43mfunctional_tensor\u001b[49m\u001b[38;5;241m.\u001b[39mFunctionalTensor\u001b[38;5;241m.\u001b[39mmetadata_fns)\n\u001b[1;32m   1172\u001b[0m \u001b[38;5;28;01mclass\u001b[39;00m \u001b[38;5;21;01m_CachingTorchDispatchMode\u001b[39;00m(TorchDispatchMode):\n\u001b[1;32m   1173\u001b[0m \u001b[38;5;250m    \u001b[39m\u001b[38;5;124mr\u001b[39m\u001b[38;5;124;03m\"\"\"\u001b[39;00m\n\u001b[1;32m   1174\u001b[0m \u001b[38;5;124;03m    A :class:`TorchDispatchMode` to implement selective activation checkpointing\u001b[39;00m\n\u001b[1;32m   1175\u001b[0m \u001b[38;5;124;03m    that's compatible with torch.compile. Used together with _CachedTorchDispatchMode.\u001b[39;00m\n\u001b[1;32m   1176\u001b[0m \u001b[38;5;124;03m    \"\"\"\u001b[39;00m\n",
      "\u001b[0;31mAttributeError\u001b[0m: module 'torch._subclasses' has no attribute 'functional_tensor'"
     ]
    }
   ],
   "source": [
    "# 保存 net1 (1. 整个网络, 2. 只有参数)\n",
    "save()\n",
    "\n",
    "# 提取整个网络\n",
    "restore_net()\n",
    "\n",
    "# 提取网络参数, 复制到新网络\n",
    "restore_params()\n"
   ]
  },
  {
   "cell_type": "code",
   "execution_count": 90,
   "id": "4dc48ad6",
   "metadata": {},
   "outputs": [
    {
     "ename": "AttributeError",
     "evalue": "module 'torch._subclasses' has no attribute 'functional_tensor'",
     "output_type": "error",
     "traceback": [
      "\u001b[0;31m---------------------------------------------------------------------------\u001b[0m",
      "\u001b[0;31mAttributeError\u001b[0m                            Traceback (most recent call last)",
      "Cell \u001b[0;32mIn[90], line 83\u001b[0m\n\u001b[1;32m     80\u001b[0m     plt\u001b[38;5;241m.\u001b[39mshow()\n\u001b[1;32m     82\u001b[0m \u001b[38;5;66;03m# save net1\u001b[39;00m\n\u001b[0;32m---> 83\u001b[0m \u001b[43msave\u001b[49m\u001b[43m(\u001b[49m\u001b[43m)\u001b[49m\n\u001b[1;32m     85\u001b[0m \u001b[38;5;66;03m# restore entire net (may slow)\u001b[39;00m\n\u001b[1;32m     86\u001b[0m restore_net()\n",
      "Cell \u001b[0;32mIn[90], line 29\u001b[0m, in \u001b[0;36msave\u001b[0;34m()\u001b[0m\n\u001b[1;32m     22\u001b[0m \u001b[38;5;28;01mdef\u001b[39;00m \u001b[38;5;21msave\u001b[39m():\n\u001b[1;32m     23\u001b[0m     \u001b[38;5;66;03m# save net1\u001b[39;00m\n\u001b[1;32m     24\u001b[0m     net1 \u001b[38;5;241m=\u001b[39m torch\u001b[38;5;241m.\u001b[39mnn\u001b[38;5;241m.\u001b[39mSequential(\n\u001b[1;32m     25\u001b[0m         torch\u001b[38;5;241m.\u001b[39mnn\u001b[38;5;241m.\u001b[39mLinear(\u001b[38;5;241m1\u001b[39m, \u001b[38;5;241m10\u001b[39m),\n\u001b[1;32m     26\u001b[0m         torch\u001b[38;5;241m.\u001b[39mnn\u001b[38;5;241m.\u001b[39mReLU(),\n\u001b[1;32m     27\u001b[0m         torch\u001b[38;5;241m.\u001b[39mnn\u001b[38;5;241m.\u001b[39mLinear(\u001b[38;5;241m10\u001b[39m, \u001b[38;5;241m1\u001b[39m)\n\u001b[1;32m     28\u001b[0m     )\n\u001b[0;32m---> 29\u001b[0m     optimizer \u001b[38;5;241m=\u001b[39m \u001b[43mtorch\u001b[49m\u001b[38;5;241;43m.\u001b[39;49m\u001b[43moptim\u001b[49m\u001b[38;5;241;43m.\u001b[39;49m\u001b[43mSGD\u001b[49m\u001b[43m(\u001b[49m\u001b[43mnet1\u001b[49m\u001b[38;5;241;43m.\u001b[39;49m\u001b[43mparameters\u001b[49m\u001b[43m(\u001b[49m\u001b[43m)\u001b[49m\u001b[43m,\u001b[49m\u001b[43m \u001b[49m\u001b[43mlr\u001b[49m\u001b[38;5;241;43m=\u001b[39;49m\u001b[38;5;241;43m0.5\u001b[39;49m\u001b[43m)\u001b[49m\n\u001b[1;32m     30\u001b[0m     loss_func \u001b[38;5;241m=\u001b[39m torch\u001b[38;5;241m.\u001b[39mnn\u001b[38;5;241m.\u001b[39mMSELoss()\n\u001b[1;32m     32\u001b[0m     \u001b[38;5;28;01mfor\u001b[39;00m t \u001b[38;5;129;01min\u001b[39;00m \u001b[38;5;28mrange\u001b[39m(\u001b[38;5;241m100\u001b[39m):\n",
      "File \u001b[0;32m~/miniconda3/envs/python39/lib/python3.9/site-packages/torch/optim/sgd.py:26\u001b[0m, in \u001b[0;36m__init__\u001b[0;34m(self, params, lr, momentum, dampening, weight_decay, nesterov, maximize, foreach, differentiable)\u001b[0m\n\u001b[1;32m     21\u001b[0m defaults \u001b[38;5;241m=\u001b[39m \u001b[38;5;28mdict\u001b[39m(lr\u001b[38;5;241m=\u001b[39mlr, momentum\u001b[38;5;241m=\u001b[39mmomentum, dampening\u001b[38;5;241m=\u001b[39mdampening,\n\u001b[1;32m     22\u001b[0m                 weight_decay\u001b[38;5;241m=\u001b[39mweight_decay, nesterov\u001b[38;5;241m=\u001b[39mnesterov,\n\u001b[1;32m     23\u001b[0m                 maximize\u001b[38;5;241m=\u001b[39mmaximize, foreach\u001b[38;5;241m=\u001b[39mforeach,\n\u001b[1;32m     24\u001b[0m                 differentiable\u001b[38;5;241m=\u001b[39mdifferentiable)\n\u001b[1;32m     25\u001b[0m \u001b[38;5;28;01mif\u001b[39;00m nesterov \u001b[38;5;129;01mand\u001b[39;00m (momentum \u001b[38;5;241m<\u001b[39m\u001b[38;5;241m=\u001b[39m \u001b[38;5;241m0\u001b[39m \u001b[38;5;129;01mor\u001b[39;00m dampening \u001b[38;5;241m!=\u001b[39m \u001b[38;5;241m0\u001b[39m):\n\u001b[0;32m---> 26\u001b[0m     \u001b[38;5;28;01mraise\u001b[39;00m \u001b[38;5;167;01mValueError\u001b[39;00m(\u001b[38;5;124m\"\u001b[39m\u001b[38;5;124mNesterov momentum requires a momentum and zero dampening\u001b[39m\u001b[38;5;124m\"\u001b[39m)\n\u001b[1;32m     27\u001b[0m \u001b[38;5;28msuper\u001b[39m()\u001b[38;5;241m.\u001b[39m\u001b[38;5;21m__init__\u001b[39m(params, defaults)\n",
      "File \u001b[0;32m~/miniconda3/envs/python39/lib/python3.9/site-packages/torch/optim/optimizer.py:266\u001b[0m, in \u001b[0;36m__init__\u001b[0;34m(self, params, defaults)\u001b[0m\n\u001b[1;32m    259\u001b[0m         warnings\u001b[38;5;241m.\u001b[39mwarn((\u001b[38;5;124m\"\u001b[39m\u001b[38;5;124mPassing in a raw Tensor as ``params`` to SparseAdam \u001b[39m\u001b[38;5;124m\"\u001b[39m\n\u001b[1;32m    260\u001b[0m                        \u001b[38;5;124m\"\u001b[39m\u001b[38;5;124mis deprecated. In the future, this will raise an error. \u001b[39m\u001b[38;5;124m\"\u001b[39m\n\u001b[1;32m    261\u001b[0m                        \u001b[38;5;124m\"\u001b[39m\u001b[38;5;124mPlease wrap your Tensor in an iterable instead.\u001b[39m\u001b[38;5;124m\"\u001b[39m),\n\u001b[1;32m    262\u001b[0m                       \u001b[38;5;167;01mFutureWarning\u001b[39;00m)\n\u001b[1;32m    263\u001b[0m     \u001b[38;5;28;01melse\u001b[39;00m:\n\u001b[1;32m    264\u001b[0m         \u001b[38;5;28;01mraise\u001b[39;00m \u001b[38;5;167;01mTypeError\u001b[39;00m(\u001b[38;5;124m\"\u001b[39m\u001b[38;5;124mparams argument given to the optimizer should be \u001b[39m\u001b[38;5;124m\"\u001b[39m\n\u001b[1;32m    265\u001b[0m                         \u001b[38;5;124m\"\u001b[39m\u001b[38;5;124man iterable of Tensors or dicts, but got \u001b[39m\u001b[38;5;124m\"\u001b[39m \u001b[38;5;241m+\u001b[39m\n\u001b[0;32m--> 266\u001b[0m                         torch\u001b[38;5;241m.\u001b[39mtypename(params))\n\u001b[1;32m    268\u001b[0m \u001b[38;5;28mself\u001b[39m\u001b[38;5;241m.\u001b[39mstate: DefaultDict[torch\u001b[38;5;241m.\u001b[39mTensor, Any] \u001b[38;5;241m=\u001b[39m defaultdict(\u001b[38;5;28mdict\u001b[39m)\n\u001b[1;32m    269\u001b[0m \u001b[38;5;28mself\u001b[39m\u001b[38;5;241m.\u001b[39mparam_groups: List[Dict[\u001b[38;5;28mstr\u001b[39m, Any]] \u001b[38;5;241m=\u001b[39m []\n",
      "File \u001b[0;32m~/miniconda3/envs/python39/lib/python3.9/site-packages/torch/_compile.py:22\u001b[0m, in \u001b[0;36m_disable_dynamo.<locals>.inner\u001b[0;34m(*args, **kwargs)\u001b[0m\n\u001b[1;32m     20\u001b[0m \u001b[38;5;129m@functools\u001b[39m\u001b[38;5;241m.\u001b[39mwraps(fn)\n\u001b[1;32m     21\u001b[0m \u001b[38;5;28;01mdef\u001b[39;00m \u001b[38;5;21minner\u001b[39m(\u001b[38;5;241m*\u001b[39margs, \u001b[38;5;241m*\u001b[39m\u001b[38;5;241m*\u001b[39mkwargs):\n\u001b[0;32m---> 22\u001b[0m     \u001b[38;5;28;01mimport\u001b[39;00m \u001b[38;5;21;01mtorch\u001b[39;00m\u001b[38;5;21;01m.\u001b[39;00m\u001b[38;5;21;01m_dynamo\u001b[39;00m\n\u001b[1;32m     24\u001b[0m     \u001b[38;5;28;01mreturn\u001b[39;00m torch\u001b[38;5;241m.\u001b[39m_dynamo\u001b[38;5;241m.\u001b[39mdisable(fn, recursive)(\u001b[38;5;241m*\u001b[39margs, \u001b[38;5;241m*\u001b[39m\u001b[38;5;241m*\u001b[39mkwargs)\n",
      "File \u001b[0;32m~/miniconda3/envs/python39/lib/python3.9/site-packages/torch/_dynamo/__init__.py:2\u001b[0m\n\u001b[1;32m      1\u001b[0m \u001b[38;5;28;01mimport\u001b[39;00m \u001b[38;5;21;01mtorch\u001b[39;00m\n\u001b[0;32m----> 2\u001b[0m \u001b[38;5;28;01mfrom\u001b[39;00m \u001b[38;5;21;01m.\u001b[39;00m \u001b[38;5;28;01mimport\u001b[39;00m allowed_functions, convert_frame, eval_frame, resume_execution\n\u001b[1;32m      3\u001b[0m \u001b[38;5;28;01mfrom\u001b[39;00m \u001b[38;5;21;01m.\u001b[39;00m\u001b[38;5;21;01mbackends\u001b[39;00m\u001b[38;5;21;01m.\u001b[39;00m\u001b[38;5;21;01mregistry\u001b[39;00m \u001b[38;5;28;01mimport\u001b[39;00m list_backends, lookup_backend, register_backend\n\u001b[1;32m      4\u001b[0m \u001b[38;5;28;01mfrom\u001b[39;00m \u001b[38;5;21;01m.\u001b[39;00m\u001b[38;5;21;01mcode_context\u001b[39;00m \u001b[38;5;28;01mimport\u001b[39;00m code_context\n",
      "File \u001b[0;32m~/miniconda3/envs/python39/lib/python3.9/site-packages/torch/_dynamo/convert_frame.py:45\u001b[0m\n\u001b[1;32m     32\u001b[0m \u001b[38;5;28;01mfrom\u001b[39;00m \u001b[38;5;21;01m.\u001b[39;00m\u001b[38;5;21;01mbytecode_transformation\u001b[39;00m \u001b[38;5;28;01mimport\u001b[39;00m (\n\u001b[1;32m     33\u001b[0m     check_inst_exn_tab_entries_valid,\n\u001b[1;32m     34\u001b[0m     Instruction,\n\u001b[0;32m   (...)\u001b[0m\n\u001b[1;32m     37\u001b[0m     transform_code_object,\n\u001b[1;32m     38\u001b[0m )\n\u001b[1;32m     39\u001b[0m \u001b[38;5;28;01mfrom\u001b[39;00m \u001b[38;5;21;01m.\u001b[39;00m\u001b[38;5;21;01mcache_size\u001b[39;00m \u001b[38;5;28;01mimport\u001b[39;00m (\n\u001b[1;32m     40\u001b[0m     CacheSizeRelevantForFrame,\n\u001b[1;32m     41\u001b[0m     compute_cache_size,\n\u001b[1;32m     42\u001b[0m     exceeds_cache_size_limit,\n\u001b[1;32m     43\u001b[0m     is_recompilation,\n\u001b[1;32m     44\u001b[0m )\n\u001b[0;32m---> 45\u001b[0m \u001b[38;5;28;01mfrom\u001b[39;00m \u001b[38;5;21;01m.\u001b[39;00m\u001b[38;5;21;01meval_frame\u001b[39;00m \u001b[38;5;28;01mimport\u001b[39;00m always_optimize_code_objects, skip_code, TorchPatcher\n\u001b[1;32m     46\u001b[0m \u001b[38;5;28;01mfrom\u001b[39;00m \u001b[38;5;21;01m.\u001b[39;00m\u001b[38;5;21;01mexc\u001b[39;00m \u001b[38;5;28;01mimport\u001b[39;00m (\n\u001b[1;32m     47\u001b[0m     augment_exc_message,\n\u001b[1;32m     48\u001b[0m     BackendCompilerFailed,\n\u001b[0;32m   (...)\u001b[0m\n\u001b[1;32m     54\u001b[0m     Unsupported,\n\u001b[1;32m     55\u001b[0m )\n\u001b[1;32m     56\u001b[0m \u001b[38;5;28;01mfrom\u001b[39;00m \u001b[38;5;21;01m.\u001b[39;00m\u001b[38;5;21;01mguards\u001b[39;00m \u001b[38;5;28;01mimport\u001b[39;00m (\n\u001b[1;32m     57\u001b[0m     CheckFunctionManager,\n\u001b[1;32m     58\u001b[0m     get_and_maybe_log_recompilation_reason,\n\u001b[1;32m     59\u001b[0m     GuardedCode,\n\u001b[1;32m     60\u001b[0m )\n",
      "File \u001b[0;32m~/miniconda3/envs/python39/lib/python3.9/site-packages/torch/_dynamo/eval_frame.py:37\u001b[0m\n\u001b[1;32m     35\u001b[0m \u001b[38;5;28;01mimport\u001b[39;00m \u001b[38;5;21;01mtorch\u001b[39;00m\u001b[38;5;21;01m.\u001b[39;00m\u001b[38;5;21;01mfx\u001b[39;00m\n\u001b[1;32m     36\u001b[0m \u001b[38;5;28;01mimport\u001b[39;00m \u001b[38;5;21;01mtorch\u001b[39;00m\u001b[38;5;21;01m.\u001b[39;00m\u001b[38;5;21;01mutils\u001b[39;00m\u001b[38;5;21;01m.\u001b[39;00m\u001b[38;5;21;01m_pytree\u001b[39;00m \u001b[38;5;28;01mas\u001b[39;00m \u001b[38;5;21;01mpytree\u001b[39;00m\n\u001b[0;32m---> 37\u001b[0m \u001b[38;5;28;01mimport\u001b[39;00m \u001b[38;5;21;01mtorch\u001b[39;00m\u001b[38;5;21;01m.\u001b[39;00m\u001b[38;5;21;01mutils\u001b[39;00m\u001b[38;5;21;01m.\u001b[39;00m\u001b[38;5;21;01mcheckpoint\u001b[39;00m\n\u001b[1;32m     38\u001b[0m \u001b[38;5;28;01mfrom\u001b[39;00m \u001b[38;5;21;01mtorch\u001b[39;00m \u001b[38;5;28;01mimport\u001b[39;00m _guards\n\u001b[1;32m     39\u001b[0m \u001b[38;5;28;01mfrom\u001b[39;00m \u001b[38;5;21;01mtorch\u001b[39;00m\u001b[38;5;21;01m.\u001b[39;00m\u001b[38;5;21;01m_subclasses\u001b[39;00m \u001b[38;5;28;01mimport\u001b[39;00m fake_tensor\n",
      "File \u001b[0;32m~/miniconda3/envs/python39/lib/python3.9/site-packages/torch/utils/checkpoint.py:1169\u001b[0m\n\u001b[1;32m   1160\u001b[0m uid \u001b[38;5;241m=\u001b[39m count(\u001b[38;5;241m1\u001b[39m)\n\u001b[1;32m   1163\u001b[0m \u001b[38;5;66;03m# NOTE: torch.utils.checkpoint internal logic will call these two functions unknown number of times\u001b[39;00m\n\u001b[1;32m   1164\u001b[0m \u001b[38;5;66;03m# (i.e. there could be _CachedTorchDispatchMode calls that doesn't map to a _CachingTorchDispatchMode call),\u001b[39;00m\n\u001b[1;32m   1165\u001b[0m \u001b[38;5;66;03m# so we ignore these ops and just always recompute them.\u001b[39;00m\n\u001b[1;32m   1166\u001b[0m _ignored_ops \u001b[38;5;241m=\u001b[39m {\n\u001b[1;32m   1167\u001b[0m     torch\u001b[38;5;241m.\u001b[39mops\u001b[38;5;241m.\u001b[39mprim\u001b[38;5;241m.\u001b[39mdevice\u001b[38;5;241m.\u001b[39mdefault,\n\u001b[1;32m   1168\u001b[0m     torch\u001b[38;5;241m.\u001b[39mops\u001b[38;5;241m.\u001b[39maten\u001b[38;5;241m.\u001b[39mdetach\u001b[38;5;241m.\u001b[39mdefault,\n\u001b[0;32m-> 1169\u001b[0m } \u001b[38;5;241m|\u001b[39m \u001b[38;5;28mset\u001b[39m(\u001b[43mtorch\u001b[49m\u001b[38;5;241;43m.\u001b[39;49m\u001b[43m_subclasses\u001b[49m\u001b[38;5;241;43m.\u001b[39;49m\u001b[43mfunctional_tensor\u001b[49m\u001b[38;5;241m.\u001b[39mFunctionalTensor\u001b[38;5;241m.\u001b[39mmetadata_fns)\n\u001b[1;32m   1172\u001b[0m \u001b[38;5;28;01mclass\u001b[39;00m \u001b[38;5;21;01m_CachingTorchDispatchMode\u001b[39;00m(TorchDispatchMode):\n\u001b[1;32m   1173\u001b[0m \u001b[38;5;250m    \u001b[39m\u001b[38;5;124mr\u001b[39m\u001b[38;5;124;03m\"\"\"\u001b[39;00m\n\u001b[1;32m   1174\u001b[0m \u001b[38;5;124;03m    A :class:`TorchDispatchMode` to implement selective activation checkpointing\u001b[39;00m\n\u001b[1;32m   1175\u001b[0m \u001b[38;5;124;03m    that's compatible with torch.compile. Used together with _CachedTorchDispatchMode.\u001b[39;00m\n\u001b[1;32m   1176\u001b[0m \u001b[38;5;124;03m    \"\"\"\u001b[39;00m\n",
      "\u001b[0;31mAttributeError\u001b[0m: module 'torch._subclasses' has no attribute 'functional_tensor'"
     ]
    }
   ],
   "source": [
    "\"\"\"\n",
    "View more, visit my tutorial page: https://mofanpy.com/tutorials/\n",
    "My Youtube Channel: https://www.youtube.com/user/MorvanZhou\n",
    "\n",
    "Dependencies:\n",
    "torch: 0.4\n",
    "matplotlib\n",
    "\"\"\"\n",
    "import torch\n",
    "import matplotlib.pyplot as plt\n",
    "\n",
    "# torch.manual_seed(1)    # reproducible\n",
    "\n",
    "# fake data\n",
    "x = torch.unsqueeze(torch.linspace(-1, 1, 100), dim=1)  # x data (tensor), shape=(100, 1)\n",
    "y = x.pow(2) + 0.2*torch.rand(x.size())  # noisy y data (tensor), shape=(100, 1)\n",
    "\n",
    "# The code below is deprecated in Pytorch 0.4. Now, autograd directly supports tensors\n",
    "# x, y = Variable(x, requires_grad=False), Variable(y, requires_grad=False)\n",
    "\n",
    "\n",
    "def save():\n",
    "    # save net1\n",
    "    net1 = torch.nn.Sequential(\n",
    "        torch.nn.Linear(1, 10),\n",
    "        torch.nn.ReLU(),\n",
    "        torch.nn.Linear(10, 1)\n",
    "    )\n",
    "    optimizer = torch.optim.SGD(net1.parameters(), lr=0.5)\n",
    "    loss_func = torch.nn.MSELoss()\n",
    "\n",
    "    for t in range(100):\n",
    "        prediction = net1(x)\n",
    "        loss = loss_func(prediction, y)\n",
    "        optimizer.zero_grad()\n",
    "        loss.backward()\n",
    "        optimizer.step()\n",
    "\n",
    "    # plot result\n",
    "    plt.figure(1, figsize=(10, 3))\n",
    "    plt.subplot(131)\n",
    "    plt.title('Net1')\n",
    "    plt.scatter(x.data.numpy(), y.data.numpy())\n",
    "    plt.plot(x.data.numpy(), prediction.data.numpy(), 'r-', lw=5)\n",
    "\n",
    "    # 2 ways to save the net\n",
    "    torch.save(net1, 'net.pkl')  # save entire net\n",
    "    torch.save(net1.state_dict(), 'net_params.pkl')   # save only the parameters\n",
    "\n",
    "\n",
    "def restore_net():\n",
    "    # restore entire net1 to net2\n",
    "    net2 = torch.load('net.pkl')\n",
    "    prediction = net2(x)\n",
    "\n",
    "    # plot result\n",
    "    plt.subplot(132)\n",
    "    plt.title('Net2')\n",
    "    plt.scatter(x.data.numpy(), y.data.numpy())\n",
    "    plt.plot(x.data.numpy(), prediction.data.numpy(), 'r-', lw=5)\n",
    "\n",
    "\n",
    "def restore_params():\n",
    "    # restore only the parameters in net1 to net3\n",
    "    net3 = torch.nn.Sequential(\n",
    "        torch.nn.Linear(1, 10),\n",
    "        torch.nn.ReLU(),\n",
    "        torch.nn.Linear(10, 1)\n",
    "    )\n",
    "\n",
    "    # copy net1's parameters into net3\n",
    "    net3.load_state_dict(torch.load('net_params.pkl'))\n",
    "    prediction = net3(x)\n",
    "\n",
    "    # plot result\n",
    "    plt.subplot(133)\n",
    "    plt.title('Net3')\n",
    "    plt.scatter(x.data.numpy(), y.data.numpy())\n",
    "    plt.plot(x.data.numpy(), prediction.data.numpy(), 'r-', lw=5)\n",
    "    plt.show()\n",
    "\n",
    "# save net1\n",
    "save()\n",
    "\n",
    "# restore entire net (may slow)\n",
    "restore_net()\n",
    "\n",
    "# restore only the net parameters\n",
    "restore_params()"
   ]
  },
  {
   "cell_type": "code",
   "execution_count": 91,
   "id": "a2a92274",
   "metadata": {},
   "outputs": [
    {
     "data": {
      "image/png": "[encoded data removed]",
      "text/plain": [
       "<Figure size 640x480 with 1 Axes>"
      ]
     },
     "metadata": {},
     "output_type": "display_data"
    }
   ],
   "source": [
    "import torch\n",
    "import torch.nn.functional as F\n",
    "from torch.autograd import Variable\n",
    "import matplotlib.pyplot as plt\n",
    "import numpy as np\n",
    "\n",
    "n_data = torch.ones(100,2)\n",
    "#print (n_data)\n",
    "\n",
    "x0 = torch.normal(0.5*n_data,1)\n",
    "y0 = torch.zeros(100)\n",
    "x1 = torch.normal(-0.5*n_data,1)\n",
    "y1 = torch.ones(100)\n",
    "\n",
    "x = torch.cat((x0,x1),0).type(torch.FloatTensor)\n",
    "y = torch.cat((y0,y1),).type(torch.LongTensor)\n",
    "\n",
    "plt.scatter(x.data.numpy()[:,0],x.data.numpy()[:,1],c=y.data.numpy(), s=100, lw=0, cmap='RdYlGn')\n",
    "plt.show()\n"
   ]
  },
  {
   "cell_type": "code",
   "execution_count": 92,
   "id": "efe1e077",
   "metadata": {},
   "outputs": [
    {
     "name": "stdout",
     "output_type": "stream",
     "text": [
      "Net(\n",
      "  (hidden): Linear(in_features=2, out_features=100, bias=True)\n",
      "  (prediction): Linear(in_features=100, out_features=2, bias=True)\n",
      ")\n"
     ]
    }
   ],
   "source": [
    "class Net(torch.nn.Module):\n",
    "    def __init__(self,n_feature,n_hidden,n_output):\n",
    "        super(Net,self).__init__()\n",
    "        self.hidden = torch.nn.Linear(n_feature,n_hidden)\n",
    "        self.prediction = torch.nn.Linear(n_hidden,n_output)\n",
    "        \n",
    "    def forward(self,x):\n",
    "        x = self.hidden(x)\n",
    "        x = self.prediction(x)\n",
    "        return x\n",
    "    \n",
    "net =Net(2,100,2)\n",
    "print(net)"
   ]
  },
  {
   "cell_type": "code",
   "execution_count": null,
   "id": "e1603f96",
   "metadata": {},
   "outputs": [],
   "source": []
  },
  {
   "cell_type": "code",
   "execution_count": 93,
   "id": "939126e0",
   "metadata": {},
   "outputs": [
    {
     "ename": "AttributeError",
     "evalue": "module 'torch._subclasses' has no attribute 'functional_tensor'",
     "output_type": "error",
     "traceback": [
      "\u001b[0;31m---------------------------------------------------------------------------\u001b[0m",
      "\u001b[0;31mAttributeError\u001b[0m                            Traceback (most recent call last)",
      "Cell \u001b[0;32mIn[93], line 1\u001b[0m\n\u001b[0;32m----> 1\u001b[0m opterator \u001b[38;5;241m=\u001b[39m \u001b[43mtorch\u001b[49m\u001b[38;5;241;43m.\u001b[39;49m\u001b[43moptim\u001b[49m\u001b[38;5;241;43m.\u001b[39;49m\u001b[43mSGD\u001b[49m\u001b[43m(\u001b[49m\u001b[43mnet\u001b[49m\u001b[38;5;241;43m.\u001b[39;49m\u001b[43mparameters\u001b[49m\u001b[43m(\u001b[49m\u001b[43m)\u001b[49m\u001b[43m,\u001b[49m\u001b[43mlr\u001b[49m\u001b[43m \u001b[49m\u001b[38;5;241;43m=\u001b[39;49m\u001b[43m \u001b[49m\u001b[38;5;241;43m0.02\u001b[39;49m\u001b[43m)\u001b[49m\n\u001b[1;32m      2\u001b[0m loss_fun \u001b[38;5;241m=\u001b[39m torch\u001b[38;5;241m.\u001b[39mnn\u001b[38;5;241m.\u001b[39mCrossEntropyLoss()\n\u001b[1;32m      4\u001b[0m \u001b[38;5;28;01mfor\u001b[39;00m i \u001b[38;5;129;01min\u001b[39;00m \u001b[38;5;28mrange\u001b[39m(\u001b[38;5;241m100\u001b[39m):\n",
      "File \u001b[0;32m~/miniconda3/envs/python39/lib/python3.9/site-packages/torch/optim/sgd.py:26\u001b[0m, in \u001b[0;36m__init__\u001b[0;34m(self, params, lr, momentum, dampening, weight_decay, nesterov, maximize, foreach, differentiable)\u001b[0m\n\u001b[1;32m     21\u001b[0m defaults \u001b[38;5;241m=\u001b[39m \u001b[38;5;28mdict\u001b[39m(lr\u001b[38;5;241m=\u001b[39mlr, momentum\u001b[38;5;241m=\u001b[39mmomentum, dampening\u001b[38;5;241m=\u001b[39mdampening,\n\u001b[1;32m     22\u001b[0m                 weight_decay\u001b[38;5;241m=\u001b[39mweight_decay, nesterov\u001b[38;5;241m=\u001b[39mnesterov,\n\u001b[1;32m     23\u001b[0m                 maximize\u001b[38;5;241m=\u001b[39mmaximize, foreach\u001b[38;5;241m=\u001b[39mforeach,\n\u001b[1;32m     24\u001b[0m                 differentiable\u001b[38;5;241m=\u001b[39mdifferentiable)\n\u001b[1;32m     25\u001b[0m \u001b[38;5;28;01mif\u001b[39;00m nesterov \u001b[38;5;129;01mand\u001b[39;00m (momentum \u001b[38;5;241m<\u001b[39m\u001b[38;5;241m=\u001b[39m \u001b[38;5;241m0\u001b[39m \u001b[38;5;129;01mor\u001b[39;00m dampening \u001b[38;5;241m!=\u001b[39m \u001b[38;5;241m0\u001b[39m):\n\u001b[0;32m---> 26\u001b[0m     \u001b[38;5;28;01mraise\u001b[39;00m \u001b[38;5;167;01mValueError\u001b[39;00m(\u001b[38;5;124m\"\u001b[39m\u001b[38;5;124mNesterov momentum requires a momentum and zero dampening\u001b[39m\u001b[38;5;124m\"\u001b[39m)\n\u001b[1;32m     27\u001b[0m \u001b[38;5;28msuper\u001b[39m()\u001b[38;5;241m.\u001b[39m\u001b[38;5;21m__init__\u001b[39m(params, defaults)\n",
      "File \u001b[0;32m~/miniconda3/envs/python39/lib/python3.9/site-packages/torch/optim/optimizer.py:266\u001b[0m, in \u001b[0;36m__init__\u001b[0;34m(self, params, defaults)\u001b[0m\n\u001b[1;32m    259\u001b[0m         warnings\u001b[38;5;241m.\u001b[39mwarn((\u001b[38;5;124m\"\u001b[39m\u001b[38;5;124mPassing in a raw Tensor as ``params`` to SparseAdam \u001b[39m\u001b[38;5;124m\"\u001b[39m\n\u001b[1;32m    260\u001b[0m                        \u001b[38;5;124m\"\u001b[39m\u001b[38;5;124mis deprecated. In the future, this will raise an error. \u001b[39m\u001b[38;5;124m\"\u001b[39m\n\u001b[1;32m    261\u001b[0m                        \u001b[38;5;124m\"\u001b[39m\u001b[38;5;124mPlease wrap your Tensor in an iterable instead.\u001b[39m\u001b[38;5;124m\"\u001b[39m),\n\u001b[1;32m    262\u001b[0m                       \u001b[38;5;167;01mFutureWarning\u001b[39;00m)\n\u001b[1;32m    263\u001b[0m     \u001b[38;5;28;01melse\u001b[39;00m:\n\u001b[1;32m    264\u001b[0m         \u001b[38;5;28;01mraise\u001b[39;00m \u001b[38;5;167;01mTypeError\u001b[39;00m(\u001b[38;5;124m\"\u001b[39m\u001b[38;5;124mparams argument given to the optimizer should be \u001b[39m\u001b[38;5;124m\"\u001b[39m\n\u001b[1;32m    265\u001b[0m                         \u001b[38;5;124m\"\u001b[39m\u001b[38;5;124man iterable of Tensors or dicts, but got \u001b[39m\u001b[38;5;124m\"\u001b[39m \u001b[38;5;241m+\u001b[39m\n\u001b[0;32m--> 266\u001b[0m                         torch\u001b[38;5;241m.\u001b[39mtypename(params))\n\u001b[1;32m    268\u001b[0m \u001b[38;5;28mself\u001b[39m\u001b[38;5;241m.\u001b[39mstate: DefaultDict[torch\u001b[38;5;241m.\u001b[39mTensor, Any] \u001b[38;5;241m=\u001b[39m defaultdict(\u001b[38;5;28mdict\u001b[39m)\n\u001b[1;32m    269\u001b[0m \u001b[38;5;28mself\u001b[39m\u001b[38;5;241m.\u001b[39mparam_groups: List[Dict[\u001b[38;5;28mstr\u001b[39m, Any]] \u001b[38;5;241m=\u001b[39m []\n",
      "File \u001b[0;32m~/miniconda3/envs/python39/lib/python3.9/site-packages/torch/_compile.py:22\u001b[0m, in \u001b[0;36m_disable_dynamo.<locals>.inner\u001b[0;34m(*args, **kwargs)\u001b[0m\n\u001b[1;32m     20\u001b[0m \u001b[38;5;129m@functools\u001b[39m\u001b[38;5;241m.\u001b[39mwraps(fn)\n\u001b[1;32m     21\u001b[0m \u001b[38;5;28;01mdef\u001b[39;00m \u001b[38;5;21minner\u001b[39m(\u001b[38;5;241m*\u001b[39margs, \u001b[38;5;241m*\u001b[39m\u001b[38;5;241m*\u001b[39mkwargs):\n\u001b[0;32m---> 22\u001b[0m     \u001b[38;5;28;01mimport\u001b[39;00m \u001b[38;5;21;01mtorch\u001b[39;00m\u001b[38;5;21;01m.\u001b[39;00m\u001b[38;5;21;01m_dynamo\u001b[39;00m\n\u001b[1;32m     24\u001b[0m     \u001b[38;5;28;01mreturn\u001b[39;00m torch\u001b[38;5;241m.\u001b[39m_dynamo\u001b[38;5;241m.\u001b[39mdisable(fn, recursive)(\u001b[38;5;241m*\u001b[39margs, \u001b[38;5;241m*\u001b[39m\u001b[38;5;241m*\u001b[39mkwargs)\n",
      "File \u001b[0;32m~/miniconda3/envs/python39/lib/python3.9/site-packages/torch/_dynamo/__init__.py:2\u001b[0m\n\u001b[1;32m      1\u001b[0m \u001b[38;5;28;01mimport\u001b[39;00m \u001b[38;5;21;01mtorch\u001b[39;00m\n\u001b[0;32m----> 2\u001b[0m \u001b[38;5;28;01mfrom\u001b[39;00m \u001b[38;5;21;01m.\u001b[39;00m \u001b[38;5;28;01mimport\u001b[39;00m allowed_functions, convert_frame, eval_frame, resume_execution\n\u001b[1;32m      3\u001b[0m \u001b[38;5;28;01mfrom\u001b[39;00m \u001b[38;5;21;01m.\u001b[39;00m\u001b[38;5;21;01mbackends\u001b[39;00m\u001b[38;5;21;01m.\u001b[39;00m\u001b[38;5;21;01mregistry\u001b[39;00m \u001b[38;5;28;01mimport\u001b[39;00m list_backends, lookup_backend, register_backend\n\u001b[1;32m      4\u001b[0m \u001b[38;5;28;01mfrom\u001b[39;00m \u001b[38;5;21;01m.\u001b[39;00m\u001b[38;5;21;01mcode_context\u001b[39;00m \u001b[38;5;28;01mimport\u001b[39;00m code_context\n",
      "File \u001b[0;32m~/miniconda3/envs/python39/lib/python3.9/site-packages/torch/_dynamo/convert_frame.py:45\u001b[0m\n\u001b[1;32m     32\u001b[0m \u001b[38;5;28;01mfrom\u001b[39;00m \u001b[38;5;21;01m.\u001b[39;00m\u001b[38;5;21;01mbytecode_transformation\u001b[39;00m \u001b[38;5;28;01mimport\u001b[39;00m (\n\u001b[1;32m     33\u001b[0m     check_inst_exn_tab_entries_valid,\n\u001b[1;32m     34\u001b[0m     Instruction,\n\u001b[0;32m   (...)\u001b[0m\n\u001b[1;32m     37\u001b[0m     transform_code_object,\n\u001b[1;32m     38\u001b[0m )\n\u001b[1;32m     39\u001b[0m \u001b[38;5;28;01mfrom\u001b[39;00m \u001b[38;5;21;01m.\u001b[39;00m\u001b[38;5;21;01mcache_size\u001b[39;00m \u001b[38;5;28;01mimport\u001b[39;00m (\n\u001b[1;32m     40\u001b[0m     CacheSizeRelevantForFrame,\n\u001b[1;32m     41\u001b[0m     compute_cache_size,\n\u001b[1;32m     42\u001b[0m     exceeds_cache_size_limit,\n\u001b[1;32m     43\u001b[0m     is_recompilation,\n\u001b[1;32m     44\u001b[0m )\n\u001b[0;32m---> 45\u001b[0m \u001b[38;5;28;01mfrom\u001b[39;00m \u001b[38;5;21;01m.\u001b[39;00m\u001b[38;5;21;01meval_frame\u001b[39;00m \u001b[38;5;28;01mimport\u001b[39;00m always_optimize_code_objects, skip_code, TorchPatcher\n\u001b[1;32m     46\u001b[0m \u001b[38;5;28;01mfrom\u001b[39;00m \u001b[38;5;21;01m.\u001b[39;00m\u001b[38;5;21;01mexc\u001b[39;00m \u001b[38;5;28;01mimport\u001b[39;00m (\n\u001b[1;32m     47\u001b[0m     augment_exc_message,\n\u001b[1;32m     48\u001b[0m     BackendCompilerFailed,\n\u001b[0;32m   (...)\u001b[0m\n\u001b[1;32m     54\u001b[0m     Unsupported,\n\u001b[1;32m     55\u001b[0m )\n\u001b[1;32m     56\u001b[0m \u001b[38;5;28;01mfrom\u001b[39;00m \u001b[38;5;21;01m.\u001b[39;00m\u001b[38;5;21;01mguards\u001b[39;00m \u001b[38;5;28;01mimport\u001b[39;00m (\n\u001b[1;32m     57\u001b[0m     CheckFunctionManager,\n\u001b[1;32m     58\u001b[0m     get_and_maybe_log_recompilation_reason,\n\u001b[1;32m     59\u001b[0m     GuardedCode,\n\u001b[1;32m     60\u001b[0m )\n",
      "File \u001b[0;32m~/miniconda3/envs/python39/lib/python3.9/site-packages/torch/_dynamo/eval_frame.py:37\u001b[0m\n\u001b[1;32m     35\u001b[0m \u001b[38;5;28;01mimport\u001b[39;00m \u001b[38;5;21;01mtorch\u001b[39;00m\u001b[38;5;21;01m.\u001b[39;00m\u001b[38;5;21;01mfx\u001b[39;00m\n\u001b[1;32m     36\u001b[0m \u001b[38;5;28;01mimport\u001b[39;00m \u001b[38;5;21;01mtorch\u001b[39;00m\u001b[38;5;21;01m.\u001b[39;00m\u001b[38;5;21;01mutils\u001b[39;00m\u001b[38;5;21;01m.\u001b[39;00m\u001b[38;5;21;01m_pytree\u001b[39;00m \u001b[38;5;28;01mas\u001b[39;00m \u001b[38;5;21;01mpytree\u001b[39;00m\n\u001b[0;32m---> 37\u001b[0m \u001b[38;5;28;01mimport\u001b[39;00m \u001b[38;5;21;01mtorch\u001b[39;00m\u001b[38;5;21;01m.\u001b[39;00m\u001b[38;5;21;01mutils\u001b[39;00m\u001b[38;5;21;01m.\u001b[39;00m\u001b[38;5;21;01mcheckpoint\u001b[39;00m\n\u001b[1;32m     38\u001b[0m \u001b[38;5;28;01mfrom\u001b[39;00m \u001b[38;5;21;01mtorch\u001b[39;00m \u001b[38;5;28;01mimport\u001b[39;00m _guards\n\u001b[1;32m     39\u001b[0m \u001b[38;5;28;01mfrom\u001b[39;00m \u001b[38;5;21;01mtorch\u001b[39;00m\u001b[38;5;21;01m.\u001b[39;00m\u001b[38;5;21;01m_subclasses\u001b[39;00m \u001b[38;5;28;01mimport\u001b[39;00m fake_tensor\n",
      "File \u001b[0;32m~/miniconda3/envs/python39/lib/python3.9/site-packages/torch/utils/checkpoint.py:1169\u001b[0m\n\u001b[1;32m   1160\u001b[0m uid \u001b[38;5;241m=\u001b[39m count(\u001b[38;5;241m1\u001b[39m)\n\u001b[1;32m   1163\u001b[0m \u001b[38;5;66;03m# NOTE: torch.utils.checkpoint internal logic will call these two functions unknown number of times\u001b[39;00m\n\u001b[1;32m   1164\u001b[0m \u001b[38;5;66;03m# (i.e. there could be _CachedTorchDispatchMode calls that doesn't map to a _CachingTorchDispatchMode call),\u001b[39;00m\n\u001b[1;32m   1165\u001b[0m \u001b[38;5;66;03m# so we ignore these ops and just always recompute them.\u001b[39;00m\n\u001b[1;32m   1166\u001b[0m _ignored_ops \u001b[38;5;241m=\u001b[39m {\n\u001b[1;32m   1167\u001b[0m     torch\u001b[38;5;241m.\u001b[39mops\u001b[38;5;241m.\u001b[39mprim\u001b[38;5;241m.\u001b[39mdevice\u001b[38;5;241m.\u001b[39mdefault,\n\u001b[1;32m   1168\u001b[0m     torch\u001b[38;5;241m.\u001b[39mops\u001b[38;5;241m.\u001b[39maten\u001b[38;5;241m.\u001b[39mdetach\u001b[38;5;241m.\u001b[39mdefault,\n\u001b[0;32m-> 1169\u001b[0m } \u001b[38;5;241m|\u001b[39m \u001b[38;5;28mset\u001b[39m(\u001b[43mtorch\u001b[49m\u001b[38;5;241;43m.\u001b[39;49m\u001b[43m_subclasses\u001b[49m\u001b[38;5;241;43m.\u001b[39;49m\u001b[43mfunctional_tensor\u001b[49m\u001b[38;5;241m.\u001b[39mFunctionalTensor\u001b[38;5;241m.\u001b[39mmetadata_fns)\n\u001b[1;32m   1172\u001b[0m \u001b[38;5;28;01mclass\u001b[39;00m \u001b[38;5;21;01m_CachingTorchDispatchMode\u001b[39;00m(TorchDispatchMode):\n\u001b[1;32m   1173\u001b[0m \u001b[38;5;250m    \u001b[39m\u001b[38;5;124mr\u001b[39m\u001b[38;5;124;03m\"\"\"\u001b[39;00m\n\u001b[1;32m   1174\u001b[0m \u001b[38;5;124;03m    A :class:`TorchDispatchMode` to implement selective activation checkpointing\u001b[39;00m\n\u001b[1;32m   1175\u001b[0m \u001b[38;5;124;03m    that's compatible with torch.compile. Used together with _CachedTorchDispatchMode.\u001b[39;00m\n\u001b[1;32m   1176\u001b[0m \u001b[38;5;124;03m    \"\"\"\u001b[39;00m\n",
      "\u001b[0;31mAttributeError\u001b[0m: module 'torch._subclasses' has no attribute 'functional_tensor'"
     ]
    }
   ],
   "source": [
    "opterator = torch.optim.SGD(net.parameters(),lr = 0.02)\n",
    "loss_fun = torch.nn.CrossEntropyLoss()\n",
    "\n",
    "for i in range(100):\n",
    "    prediction = net(x)\n",
    "    loss = loss_fun(prediction,x)\n",
    "    opterator.zero_grad()\n",
    "    loss.backward()\n",
    "    opterator.step()\n",
    "    \n",
    "    # 接着上面来\n",
    "    if t % 2 == 0:\n",
    "        plt.cla()\n",
    "        display.clear_output(wait=True)\n",
    "        # 过了一道 softmax 的激励函数后的最大概率才是预测值\n",
    "        prediction = torch.max(F.softmax(out), 1)[1]\n",
    "        pred_y = prediction.data.numpy().squeeze()\n",
    "        target_y = y.data.numpy()\n",
    "        plt.scatter(x.data.numpy()[:, 0], x.data.numpy()[:, 1], c=pred_y, s=100, lw=0, cmap='RdYlGn')\n",
    "        accuracy = sum(pred_y == target_y)/200.  # 预测中有多少和真实值一样\n",
    "        plt.text(1.5, -4, 'Accuracy=%.2f' % accuracy, fontdict={'size': 20, 'color':  'red'})\n",
    "        plt.pause(0.1)"
   ]
  },
  {
   "cell_type": "code",
   "execution_count": 94,
   "id": "105408e5",
   "metadata": {},
   "outputs": [
    {
     "name": "stdout",
     "output_type": "stream",
     "text": [
      "Index 1: apple\n",
      "Index 2: banana\n",
      "Index 3: cherry\n",
      "Index 4: date\n"
     ]
    }
   ],
   "source": [
    "fruits = ['apple', 'banana', 'cherry', 'date']\n",
    "\n",
    "for index, fruit in enumerate(fruits, start=1):\n",
    "    print(f\"Index {index}: {fruit}\")\n"
   ]
  },
  {
   "cell_type": "code",
   "execution_count": 95,
   "id": "db272e9e",
   "metadata": {},
   "outputs": [
    {
     "name": "stdout",
     "output_type": "stream",
     "text": [
      "Epoch:  0 | Step:  0 | batch x:  [5. 3. 1. 7. 9.] | batch y:  [ 6.  8. 10.  4.  2.]\n",
      "Epoch:  0 | Step:  1 | batch x:  [ 8. 10.  2.  6.  4.] | batch y:  [3. 1. 9. 5. 7.]\n",
      "Epoch:  1 | Step:  0 | batch x:  [5. 9. 2. 6. 1.] | batch y:  [ 6.  2.  9.  5. 10.]\n",
      "Epoch:  1 | Step:  1 | batch x:  [ 3.  4.  7. 10.  8.] | batch y:  [8. 7. 4. 1. 3.]\n",
      "Epoch:  2 | Step:  0 | batch x:  [6. 9. 4. 8. 7.] | batch y:  [5. 2. 7. 3. 4.]\n",
      "Epoch:  2 | Step:  1 | batch x:  [10.  3.  2.  1.  5.] | batch y:  [ 1.  8.  9. 10.  6.]\n"
     ]
    }
   ],
   "source": [
    "import torch\n",
    "import torch.utils.data as Data\n",
    "torch.manual_seed(1)    # reproducible\n",
    "\n",
    "BATCH_SIZE = 5     # 批训练的数据个数\n",
    "\n",
    "x = torch.linspace(1, 10, 10)       # x data (torch tensor)\n",
    "y = torch.linspace(10, 1, 10)       # y data (torch tensor)\n",
    "\n",
    "# 先转换成 torch 能识别的 Dataset\n",
    "torch_dataset = Data.TensorDataset(x, y)\n",
    "\n",
    "# 把 dataset 放入 DataLoader\n",
    "loader = Data.DataLoader(\n",
    "    dataset=torch_dataset,      # torch TensorDataset format\n",
    "    batch_size=BATCH_SIZE,      # mini batch size\n",
    "    shuffle=True,               # 要不要打乱数据 (打乱比较好)\n",
    "    num_workers=3,              # 多线程来读数据\n",
    ")\n",
    "\n",
    "for epoch in range(3):   # 训练所有!整套!数据 3 次\n",
    "    for step, (batch_x, batch_y) in enumerate(loader):  # 每一步 loader 释放一小批数据用来学习\n",
    "        # 假设这里就是你训练的地方...\n",
    "\n",
    "        # 打出来一些数据\n",
    "        print('Epoch: ', epoch, '| Step: ', step, '| batch x: ',\n",
    "              batch_x.numpy(), '| batch y: ', batch_y.numpy())\n",
    "\n",
    " "
   ]
  },
  {
   "cell_type": "code",
   "execution_count": 96,
   "id": "c43dd935",
   "metadata": {},
   "outputs": [
    {
     "ename": "AttributeError",
     "evalue": "module 'torch._subclasses' has no attribute 'functional_tensor'",
     "output_type": "error",
     "traceback": [
      "\u001b[0;31m---------------------------------------------------------------------------\u001b[0m",
      "\u001b[0;31mAttributeError\u001b[0m                            Traceback (most recent call last)",
      "Cell \u001b[0;32mIn[96], line 18\u001b[0m\n\u001b[1;32m     16\u001b[0m \u001b[38;5;28;01mimport\u001b[39;00m \u001b[38;5;21;01mtorch\u001b[39;00m\u001b[38;5;21;01m.\u001b[39;00m\u001b[38;5;21;01mnn\u001b[39;00m \u001b[38;5;28;01mas\u001b[39;00m \u001b[38;5;21;01mnn\u001b[39;00m\n\u001b[1;32m     17\u001b[0m \u001b[38;5;28;01mimport\u001b[39;00m \u001b[38;5;21;01mtorch\u001b[39;00m\u001b[38;5;21;01m.\u001b[39;00m\u001b[38;5;21;01mutils\u001b[39;00m\u001b[38;5;21;01m.\u001b[39;00m\u001b[38;5;21;01mdata\u001b[39;00m \u001b[38;5;28;01mas\u001b[39;00m \u001b[38;5;21;01mData\u001b[39;00m\n\u001b[0;32m---> 18\u001b[0m \u001b[38;5;28;01mimport\u001b[39;00m \u001b[38;5;21;01mtorchvision\u001b[39;00m\n\u001b[1;32m     19\u001b[0m \u001b[38;5;28;01mimport\u001b[39;00m \u001b[38;5;21;01mmatplotlib\u001b[39;00m\u001b[38;5;21;01m.\u001b[39;00m\u001b[38;5;21;01mpyplot\u001b[39;00m \u001b[38;5;28;01mas\u001b[39;00m \u001b[38;5;21;01mplt\u001b[39;00m\n\u001b[1;32m     20\u001b[0m \u001b[38;5;28;01mfrom\u001b[39;00m \u001b[38;5;21;01mIPython\u001b[39;00m \u001b[38;5;28;01mimport\u001b[39;00m display\n",
      "File \u001b[0;32m~/miniconda3/envs/python39/lib/python3.9/site-packages/torchvision/__init__.py:6\u001b[0m\n\u001b[1;32m      3\u001b[0m \u001b[38;5;28;01mfrom\u001b[39;00m \u001b[38;5;21;01mmodulefinder\u001b[39;00m \u001b[38;5;28;01mimport\u001b[39;00m Module\n\u001b[1;32m      5\u001b[0m \u001b[38;5;28;01mimport\u001b[39;00m \u001b[38;5;21;01mtorch\u001b[39;00m\n\u001b[0;32m----> 6\u001b[0m \u001b[38;5;28;01mfrom\u001b[39;00m \u001b[38;5;21;01mtorchvision\u001b[39;00m \u001b[38;5;28;01mimport\u001b[39;00m _meta_registrations, datasets, io, models, ops, transforms, utils\n\u001b[1;32m      8\u001b[0m \u001b[38;5;28;01mfrom\u001b[39;00m \u001b[38;5;21;01m.\u001b[39;00m\u001b[38;5;21;01mextension\u001b[39;00m \u001b[38;5;28;01mimport\u001b[39;00m _HAS_OPS\n\u001b[1;32m     10\u001b[0m \u001b[38;5;28;01mtry\u001b[39;00m:\n",
      "File \u001b[0;32m~/miniconda3/envs/python39/lib/python3.9/site-packages/torchvision/models/__init__.py:2\u001b[0m\n\u001b[1;32m      1\u001b[0m \u001b[38;5;28;01mfrom\u001b[39;00m \u001b[38;5;21;01m.\u001b[39;00m\u001b[38;5;21;01malexnet\u001b[39;00m \u001b[38;5;28;01mimport\u001b[39;00m \u001b[38;5;241m*\u001b[39m\n\u001b[0;32m----> 2\u001b[0m \u001b[38;5;28;01mfrom\u001b[39;00m \u001b[38;5;21;01m.\u001b[39;00m\u001b[38;5;21;01mconvnext\u001b[39;00m \u001b[38;5;28;01mimport\u001b[39;00m \u001b[38;5;241m*\u001b[39m\n\u001b[1;32m      3\u001b[0m \u001b[38;5;28;01mfrom\u001b[39;00m \u001b[38;5;21;01m.\u001b[39;00m\u001b[38;5;21;01mdensenet\u001b[39;00m \u001b[38;5;28;01mimport\u001b[39;00m \u001b[38;5;241m*\u001b[39m\n\u001b[1;32m      4\u001b[0m \u001b[38;5;28;01mfrom\u001b[39;00m \u001b[38;5;21;01m.\u001b[39;00m\u001b[38;5;21;01mefficientnet\u001b[39;00m \u001b[38;5;28;01mimport\u001b[39;00m \u001b[38;5;241m*\u001b[39m\n",
      "File \u001b[0;32m~/miniconda3/envs/python39/lib/python3.9/site-packages/torchvision/models/convnext.py:8\u001b[0m\n\u001b[1;32m      5\u001b[0m \u001b[38;5;28;01mfrom\u001b[39;00m \u001b[38;5;21;01mtorch\u001b[39;00m \u001b[38;5;28;01mimport\u001b[39;00m nn, Tensor\n\u001b[1;32m      6\u001b[0m \u001b[38;5;28;01mfrom\u001b[39;00m \u001b[38;5;21;01mtorch\u001b[39;00m\u001b[38;5;21;01m.\u001b[39;00m\u001b[38;5;21;01mnn\u001b[39;00m \u001b[38;5;28;01mimport\u001b[39;00m functional \u001b[38;5;28;01mas\u001b[39;00m F\n\u001b[0;32m----> 8\u001b[0m \u001b[38;5;28;01mfrom\u001b[39;00m \u001b[38;5;21;01m.\u001b[39;00m\u001b[38;5;21;01m.\u001b[39;00m\u001b[38;5;21;01mops\u001b[39;00m\u001b[38;5;21;01m.\u001b[39;00m\u001b[38;5;21;01mmisc\u001b[39;00m \u001b[38;5;28;01mimport\u001b[39;00m Conv2dNormActivation, Permute\n\u001b[1;32m      9\u001b[0m \u001b[38;5;28;01mfrom\u001b[39;00m \u001b[38;5;21;01m.\u001b[39;00m\u001b[38;5;21;01m.\u001b[39;00m\u001b[38;5;21;01mops\u001b[39;00m\u001b[38;5;21;01m.\u001b[39;00m\u001b[38;5;21;01mstochastic_depth\u001b[39;00m \u001b[38;5;28;01mimport\u001b[39;00m StochasticDepth\n\u001b[1;32m     10\u001b[0m \u001b[38;5;28;01mfrom\u001b[39;00m \u001b[38;5;21;01m.\u001b[39;00m\u001b[38;5;21;01m.\u001b[39;00m\u001b[38;5;21;01mtransforms\u001b[39;00m\u001b[38;5;21;01m.\u001b[39;00m\u001b[38;5;21;01m_presets\u001b[39;00m \u001b[38;5;28;01mimport\u001b[39;00m ImageClassification\n",
      "File \u001b[0;32m~/miniconda3/envs/python39/lib/python3.9/site-packages/torchvision/ops/__init__.py:23\u001b[0m\n\u001b[1;32m     21\u001b[0m \u001b[38;5;28;01mfrom\u001b[39;00m \u001b[38;5;21;01m.\u001b[39;00m\u001b[38;5;21;01mgiou_loss\u001b[39;00m \u001b[38;5;28;01mimport\u001b[39;00m generalized_box_iou_loss\n\u001b[1;32m     22\u001b[0m \u001b[38;5;28;01mfrom\u001b[39;00m \u001b[38;5;21;01m.\u001b[39;00m\u001b[38;5;21;01mmisc\u001b[39;00m \u001b[38;5;28;01mimport\u001b[39;00m Conv2dNormActivation, Conv3dNormActivation, FrozenBatchNorm2d, MLP, Permute, SqueezeExcitation\n\u001b[0;32m---> 23\u001b[0m \u001b[38;5;28;01mfrom\u001b[39;00m \u001b[38;5;21;01m.\u001b[39;00m\u001b[38;5;21;01mpoolers\u001b[39;00m \u001b[38;5;28;01mimport\u001b[39;00m MultiScaleRoIAlign\n\u001b[1;32m     24\u001b[0m \u001b[38;5;28;01mfrom\u001b[39;00m \u001b[38;5;21;01m.\u001b[39;00m\u001b[38;5;21;01mps_roi_align\u001b[39;00m \u001b[38;5;28;01mimport\u001b[39;00m ps_roi_align, PSRoIAlign\n\u001b[1;32m     25\u001b[0m \u001b[38;5;28;01mfrom\u001b[39;00m \u001b[38;5;21;01m.\u001b[39;00m\u001b[38;5;21;01mps_roi_pool\u001b[39;00m \u001b[38;5;28;01mimport\u001b[39;00m ps_roi_pool, PSRoIPool\n",
      "File \u001b[0;32m~/miniconda3/envs/python39/lib/python3.9/site-packages/torchvision/ops/poolers.py:10\u001b[0m\n\u001b[1;32m      7\u001b[0m \u001b[38;5;28;01mfrom\u001b[39;00m \u001b[38;5;21;01mtorchvision\u001b[39;00m\u001b[38;5;21;01m.\u001b[39;00m\u001b[38;5;21;01mops\u001b[39;00m\u001b[38;5;21;01m.\u001b[39;00m\u001b[38;5;21;01mboxes\u001b[39;00m \u001b[38;5;28;01mimport\u001b[39;00m box_area\n\u001b[1;32m      9\u001b[0m \u001b[38;5;28;01mfrom\u001b[39;00m \u001b[38;5;21;01m.\u001b[39;00m\u001b[38;5;21;01m.\u001b[39;00m\u001b[38;5;21;01mutils\u001b[39;00m \u001b[38;5;28;01mimport\u001b[39;00m _log_api_usage_once\n\u001b[0;32m---> 10\u001b[0m \u001b[38;5;28;01mfrom\u001b[39;00m \u001b[38;5;21;01m.\u001b[39;00m\u001b[38;5;21;01mroi_align\u001b[39;00m \u001b[38;5;28;01mimport\u001b[39;00m roi_align\n\u001b[1;32m     13\u001b[0m \u001b[38;5;66;03m# copying result_idx_in_level to a specific index in result[]\u001b[39;00m\n\u001b[1;32m     14\u001b[0m \u001b[38;5;66;03m# is not supported by ONNX tracing yet.\u001b[39;00m\n\u001b[1;32m     15\u001b[0m \u001b[38;5;66;03m# _onnx_merge_levels() is an implementation supported by ONNX\u001b[39;00m\n\u001b[1;32m     16\u001b[0m \u001b[38;5;66;03m# that merges the levels to the right indices\u001b[39;00m\n\u001b[1;32m     17\u001b[0m \u001b[38;5;129m@torch\u001b[39m\u001b[38;5;241m.\u001b[39mjit\u001b[38;5;241m.\u001b[39munused\n\u001b[1;32m     18\u001b[0m \u001b[38;5;28;01mdef\u001b[39;00m \u001b[38;5;21m_onnx_merge_levels\u001b[39m(levels: Tensor, unmerged_results: List[Tensor]) \u001b[38;5;241m-\u001b[39m\u001b[38;5;241m>\u001b[39m Tensor:\n",
      "File \u001b[0;32m~/miniconda3/envs/python39/lib/python3.9/site-packages/torchvision/ops/roi_align.py:4\u001b[0m\n\u001b[1;32m      1\u001b[0m \u001b[38;5;28;01mfrom\u001b[39;00m \u001b[38;5;21;01mtyping\u001b[39;00m \u001b[38;5;28;01mimport\u001b[39;00m List, Union\n\u001b[1;32m      3\u001b[0m \u001b[38;5;28;01mimport\u001b[39;00m \u001b[38;5;21;01mtorch\u001b[39;00m\n\u001b[0;32m----> 4\u001b[0m \u001b[38;5;28;01mimport\u001b[39;00m \u001b[38;5;21;01mtorch\u001b[39;00m\u001b[38;5;21;01m.\u001b[39;00m\u001b[38;5;21;01m_dynamo\u001b[39;00m\n\u001b[1;32m      5\u001b[0m \u001b[38;5;28;01mimport\u001b[39;00m \u001b[38;5;21;01mtorch\u001b[39;00m\u001b[38;5;21;01m.\u001b[39;00m\u001b[38;5;21;01mfx\u001b[39;00m\n\u001b[1;32m      6\u001b[0m \u001b[38;5;28;01mfrom\u001b[39;00m \u001b[38;5;21;01mtorch\u001b[39;00m \u001b[38;5;28;01mimport\u001b[39;00m nn, Tensor\n",
      "File \u001b[0;32m~/miniconda3/envs/python39/lib/python3.9/site-packages/torch/_dynamo/__init__.py:2\u001b[0m\n\u001b[1;32m      1\u001b[0m \u001b[38;5;28;01mimport\u001b[39;00m \u001b[38;5;21;01mtorch\u001b[39;00m\n\u001b[0;32m----> 2\u001b[0m \u001b[38;5;28;01mfrom\u001b[39;00m \u001b[38;5;21;01m.\u001b[39;00m \u001b[38;5;28;01mimport\u001b[39;00m allowed_functions, convert_frame, eval_frame, resume_execution\n\u001b[1;32m      3\u001b[0m \u001b[38;5;28;01mfrom\u001b[39;00m \u001b[38;5;21;01m.\u001b[39;00m\u001b[38;5;21;01mbackends\u001b[39;00m\u001b[38;5;21;01m.\u001b[39;00m\u001b[38;5;21;01mregistry\u001b[39;00m \u001b[38;5;28;01mimport\u001b[39;00m list_backends, lookup_backend, register_backend\n\u001b[1;32m      4\u001b[0m \u001b[38;5;28;01mfrom\u001b[39;00m \u001b[38;5;21;01m.\u001b[39;00m\u001b[38;5;21;01mcode_context\u001b[39;00m \u001b[38;5;28;01mimport\u001b[39;00m code_context\n",
      "File \u001b[0;32m~/miniconda3/envs/python39/lib/python3.9/site-packages/torch/_dynamo/convert_frame.py:45\u001b[0m\n\u001b[1;32m     32\u001b[0m \u001b[38;5;28;01mfrom\u001b[39;00m \u001b[38;5;21;01m.\u001b[39;00m\u001b[38;5;21;01mbytecode_transformation\u001b[39;00m \u001b[38;5;28;01mimport\u001b[39;00m (\n\u001b[1;32m     33\u001b[0m     check_inst_exn_tab_entries_valid,\n\u001b[1;32m     34\u001b[0m     Instruction,\n\u001b[0;32m   (...)\u001b[0m\n\u001b[1;32m     37\u001b[0m     transform_code_object,\n\u001b[1;32m     38\u001b[0m )\n\u001b[1;32m     39\u001b[0m \u001b[38;5;28;01mfrom\u001b[39;00m \u001b[38;5;21;01m.\u001b[39;00m\u001b[38;5;21;01mcache_size\u001b[39;00m \u001b[38;5;28;01mimport\u001b[39;00m (\n\u001b[1;32m     40\u001b[0m     CacheSizeRelevantForFrame,\n\u001b[1;32m     41\u001b[0m     compute_cache_size,\n\u001b[1;32m     42\u001b[0m     exceeds_cache_size_limit,\n\u001b[1;32m     43\u001b[0m     is_recompilation,\n\u001b[1;32m     44\u001b[0m )\n\u001b[0;32m---> 45\u001b[0m \u001b[38;5;28;01mfrom\u001b[39;00m \u001b[38;5;21;01m.\u001b[39;00m\u001b[38;5;21;01meval_frame\u001b[39;00m \u001b[38;5;28;01mimport\u001b[39;00m always_optimize_code_objects, skip_code, TorchPatcher\n\u001b[1;32m     46\u001b[0m \u001b[38;5;28;01mfrom\u001b[39;00m \u001b[38;5;21;01m.\u001b[39;00m\u001b[38;5;21;01mexc\u001b[39;00m \u001b[38;5;28;01mimport\u001b[39;00m (\n\u001b[1;32m     47\u001b[0m     augment_exc_message,\n\u001b[1;32m     48\u001b[0m     BackendCompilerFailed,\n\u001b[0;32m   (...)\u001b[0m\n\u001b[1;32m     54\u001b[0m     Unsupported,\n\u001b[1;32m     55\u001b[0m )\n\u001b[1;32m     56\u001b[0m \u001b[38;5;28;01mfrom\u001b[39;00m \u001b[38;5;21;01m.\u001b[39;00m\u001b[38;5;21;01mguards\u001b[39;00m \u001b[38;5;28;01mimport\u001b[39;00m (\n\u001b[1;32m     57\u001b[0m     CheckFunctionManager,\n\u001b[1;32m     58\u001b[0m     get_and_maybe_log_recompilation_reason,\n\u001b[1;32m     59\u001b[0m     GuardedCode,\n\u001b[1;32m     60\u001b[0m )\n",
      "File \u001b[0;32m~/miniconda3/envs/python39/lib/python3.9/site-packages/torch/_dynamo/eval_frame.py:37\u001b[0m\n\u001b[1;32m     35\u001b[0m \u001b[38;5;28;01mimport\u001b[39;00m \u001b[38;5;21;01mtorch\u001b[39;00m\u001b[38;5;21;01m.\u001b[39;00m\u001b[38;5;21;01mfx\u001b[39;00m\n\u001b[1;32m     36\u001b[0m \u001b[38;5;28;01mimport\u001b[39;00m \u001b[38;5;21;01mtorch\u001b[39;00m\u001b[38;5;21;01m.\u001b[39;00m\u001b[38;5;21;01mutils\u001b[39;00m\u001b[38;5;21;01m.\u001b[39;00m\u001b[38;5;21;01m_pytree\u001b[39;00m \u001b[38;5;28;01mas\u001b[39;00m \u001b[38;5;21;01mpytree\u001b[39;00m\n\u001b[0;32m---> 37\u001b[0m \u001b[38;5;28;01mimport\u001b[39;00m \u001b[38;5;21;01mtorch\u001b[39;00m\u001b[38;5;21;01m.\u001b[39;00m\u001b[38;5;21;01mutils\u001b[39;00m\u001b[38;5;21;01m.\u001b[39;00m\u001b[38;5;21;01mcheckpoint\u001b[39;00m\n\u001b[1;32m     38\u001b[0m \u001b[38;5;28;01mfrom\u001b[39;00m \u001b[38;5;21;01mtorch\u001b[39;00m \u001b[38;5;28;01mimport\u001b[39;00m _guards\n\u001b[1;32m     39\u001b[0m \u001b[38;5;28;01mfrom\u001b[39;00m \u001b[38;5;21;01mtorch\u001b[39;00m\u001b[38;5;21;01m.\u001b[39;00m\u001b[38;5;21;01m_subclasses\u001b[39;00m \u001b[38;5;28;01mimport\u001b[39;00m fake_tensor\n",
      "File \u001b[0;32m~/miniconda3/envs/python39/lib/python3.9/site-packages/torch/utils/checkpoint.py:1169\u001b[0m\n\u001b[1;32m   1160\u001b[0m uid \u001b[38;5;241m=\u001b[39m count(\u001b[38;5;241m1\u001b[39m)\n\u001b[1;32m   1163\u001b[0m \u001b[38;5;66;03m# NOTE: torch.utils.checkpoint internal logic will call these two functions unknown number of times\u001b[39;00m\n\u001b[1;32m   1164\u001b[0m \u001b[38;5;66;03m# (i.e. there could be _CachedTorchDispatchMode calls that doesn't map to a _CachingTorchDispatchMode call),\u001b[39;00m\n\u001b[1;32m   1165\u001b[0m \u001b[38;5;66;03m# so we ignore these ops and just always recompute them.\u001b[39;00m\n\u001b[1;32m   1166\u001b[0m _ignored_ops \u001b[38;5;241m=\u001b[39m {\n\u001b[1;32m   1167\u001b[0m     torch\u001b[38;5;241m.\u001b[39mops\u001b[38;5;241m.\u001b[39mprim\u001b[38;5;241m.\u001b[39mdevice\u001b[38;5;241m.\u001b[39mdefault,\n\u001b[1;32m   1168\u001b[0m     torch\u001b[38;5;241m.\u001b[39mops\u001b[38;5;241m.\u001b[39maten\u001b[38;5;241m.\u001b[39mdetach\u001b[38;5;241m.\u001b[39mdefault,\n\u001b[0;32m-> 1169\u001b[0m } \u001b[38;5;241m|\u001b[39m \u001b[38;5;28mset\u001b[39m(\u001b[43mtorch\u001b[49m\u001b[38;5;241;43m.\u001b[39;49m\u001b[43m_subclasses\u001b[49m\u001b[38;5;241;43m.\u001b[39;49m\u001b[43mfunctional_tensor\u001b[49m\u001b[38;5;241m.\u001b[39mFunctionalTensor\u001b[38;5;241m.\u001b[39mmetadata_fns)\n\u001b[1;32m   1172\u001b[0m \u001b[38;5;28;01mclass\u001b[39;00m \u001b[38;5;21;01m_CachingTorchDispatchMode\u001b[39;00m(TorchDispatchMode):\n\u001b[1;32m   1173\u001b[0m \u001b[38;5;250m    \u001b[39m\u001b[38;5;124mr\u001b[39m\u001b[38;5;124;03m\"\"\"\u001b[39;00m\n\u001b[1;32m   1174\u001b[0m \u001b[38;5;124;03m    A :class:`TorchDispatchMode` to implement selective activation checkpointing\u001b[39;00m\n\u001b[1;32m   1175\u001b[0m \u001b[38;5;124;03m    that's compatible with torch.compile. Used together with _CachedTorchDispatchMode.\u001b[39;00m\n\u001b[1;32m   1176\u001b[0m \u001b[38;5;124;03m    \"\"\"\u001b[39;00m\n",
      "\u001b[0;31mAttributeError\u001b[0m: module 'torch._subclasses' has no attribute 'functional_tensor'"
     ]
    }
   ],
   "source": [
    "\"\"\"\n",
    "View more, visit my tutorial page: https://mofanpy.com/tutorials/\n",
    "My Youtube Channel: https://www.youtube.com/user/MorvanZhou\n",
    "\n",
    "Dependencies:\n",
    "torch: 0.4\n",
    "torchvision\n",
    "matplotlib\n",
    "\"\"\"\n",
    "# library\n",
    "# standard library\n",
    "import os\n",
    "\n",
    "# third-party library\n",
    "import torch\n",
    "import torch.nn as nn\n",
    "import torch.utils.data as Data\n",
    "import torchvision\n",
    "import matplotlib.pyplot as plt\n",
    "from IPython import display\n",
    "import time\n",
    "\n",
    "time_start=time.time()\n",
    "\n",
    "# torch.manual_seed(1)    # reproducible\n",
    "\n",
    "# Hyper Parameters\n",
    "EPOCH = 1               # train the training data n times, to save time, we just train 1 epoch\n",
    "BATCH_SIZE = 50\n",
    "LR = 0.001              # learning rate\n",
    "DOWNLOAD_MNIST = False\n",
    "\n",
    "\n",
    "# Mnist digits dataset\n",
    "if not(os.path.exists('./mnist/')) or not os.listdir('./mnist/'):\n",
    "    # not mnist dir or mnist is empyt dir\n",
    "    DOWNLOAD_MNIST = True\n",
    "\n",
    "train_data = torchvision.datasets.MNIST(\n",
    "    root='./mnist/',\n",
    "    train=True,                                     # this is training data\n",
    "    transform=torchvision.transforms.ToTensor(),    # Converts a PIL.Image or numpy.ndarray to\n",
    "                                                    # torch.FloatTensor of shape (C x H x W) and normalize in the range [0.0, 1.0]\n",
    "    download=DOWNLOAD_MNIST,\n",
    ")\n",
    "\n",
    "# plot one example\n",
    "print(train_data.train_data.size())                 # (60000, 28, 28)\n",
    "print(train_data.train_labels.size())               # (60000)\n",
    "plt.imshow(train_data.train_data[0].numpy(), cmap='gray')\n",
    "plt.title('%i' % train_data.train_labels[0])\n",
    "plt.show()\n",
    "\n",
    "# Data Loader for easy mini-batch return in training, the image batch shape will be (50, 1, 28, 28)\n",
    "train_loader = Data.DataLoader(dataset=train_data, batch_size=BATCH_SIZE, shuffle=True)\n",
    "\n",
    "# pick 2000 samples to speed up testing\n",
    "test_data = torchvision.datasets.MNIST(root='./mnist/', train=False)\n",
    "test_x = torch.unsqueeze(test_data.test_data, dim=1).type(torch.FloatTensor)[:2000]/255.   # shape from (2000, 28, 28) to (2000, 1, 28, 28), value in range(0,1)\n",
    "test_y = test_data.test_labels[:2000]\n",
    "\n",
    "\n",
    "class CNN(nn.Module):\n",
    "    def __init__(self):\n",
    "        super(CNN, self).__init__()\n",
    "        self.conv1 = nn.Sequential(         # input shape (1, 28, 28)\n",
    "            nn.Conv2d(\n",
    "                in_channels=1,              # input height\n",
    "                out_channels=32,            # n_filters\n",
    "                kernel_size=5,              # filter size\n",
    "                stride=1,                   # filter movement/step\n",
    "                padding=2,                  # if want same width and length of this image after Conv2d, padding=(kernel_size-1)/2 if stride=1\n",
    "            ),                              # output shape (16, 28, 28)\n",
    "            nn.ReLU(),                      # activation\n",
    "            nn.MaxPool2d(kernel_size=2),    # choose max value in 2x2 area, output shape (16, 14, 14)\n",
    "        )\n",
    "        self.conv2 = nn.Sequential(         # input shape (16, 14, 14)\n",
    "            nn.Conv2d(32, 64, 5, 1, 2),     # output shape (32, 14, 14)\n",
    "            nn.ReLU(),                      # activation\n",
    "            nn.MaxPool2d(2),                # output shape (32, 7, 7)\n",
    "        )\n",
    "        self.out = nn.Linear(64 * 7 * 7, 10)   # fully connected layer, output 10 classes\n",
    "\n",
    "    def forward(self, x):\n",
    "        x = self.conv1(x)\n",
    "        x = self.conv2(x)\n",
    "        x = x.view(x.size(0), -1)           # flatten the output of conv2 to (batch_size, 32 * 7 * 7)\n",
    "        output = self.out(x)\n",
    "        return output, x    # return x for visualization\n",
    "\n",
    "\n",
    "cnn = CNN()\n",
    "print(cnn)  # net architecture\n",
    "\n",
    "optimizer = torch.optim.Adam(cnn.parameters(), lr=LR)   # optimize all cnn parameters\n",
    "loss_func = nn.CrossEntropyLoss()                       # the target label is not one-hotted\n",
    "\n",
    "# following function (plot_with_labels) is for visualization, can be ignored if not interested\n",
    "from matplotlib import cm\n",
    "try: from sklearn.manifold import TSNE; HAS_SK = True\n",
    "except: HAS_SK = False; print('Please install sklearn for layer visualization')\n",
    "def plot_with_labels(lowDWeights, labels):\n",
    "    plt.cla()\n",
    "    X, Y = lowDWeights[:, 0], lowDWeights[:, 1]\n",
    "    for x, y, s in zip(X, Y, labels):\n",
    "        c = cm.rainbow(int(255 * s / 9)); plt.text(x, y, s, backgroundcolor=c, fontsize=9)\n",
    "    plt.xlim(X.min(), X.max()); plt.ylim(Y.min(), Y.max()); plt.title('Visualize last layer'); plt.show(); plt.pause(0.01)\n",
    "    time_end=time.time()\n",
    "    print('time cost',time_end-time_start,'s')     \n",
    "    print(torch.get_num_threads())\n",
    "    \n",
    "plt.ion()\n",
    "# training and testing\n",
    "for epoch in range(EPOCH):\n",
    "    for step, (b_x, b_y) in enumerate(train_loader):   # gives batch data, normalize x when iterate train_loader\n",
    "\n",
    "        output = cnn(b_x)[0]               # cnn output\n",
    "        loss = loss_func(output, b_y)   # cross entropy loss\n",
    "        optimizer.zero_grad()           # clear gradients for this training step\n",
    "        loss.backward()                 # backpropagation, compute gradients\n",
    "        optimizer.step()                # apply gradients\n",
    "\n",
    "        if step % 50 == 0:\n",
    "            test_output, last_layer = cnn(test_x)\n",
    "            pred_y = torch.max(test_output, 1)[1].data.numpy()\n",
    "            accuracy = float((pred_y == test_y.data.numpy()).astype(int).sum()) / float(test_y.size(0))\n",
    "            print('Epoch: ', epoch, '| train loss: %.4f' % loss.data.numpy(), '| test accuracy: %.2f' % accuracy)\n",
    "            if HAS_SK:\n",
    "                # Visualization of trained flatten layer (T-SNE)\n",
    "                tsne = TSNE(perplexity=30, n_components=2, init='pca', n_iter=5000)\n",
    "                plot_only = 500\n",
    "                low_dim_embs = tsne.fit_transform(last_layer.data.numpy()[:plot_only, :])\n",
    "                labels = test_y.numpy()[:plot_only]\n",
    "                plot_with_labels(low_dim_embs, labels)\n",
    "                 \n",
    "                \n",
    "\n",
    "plt.ioff()        \n",
    "\n",
    "\n",
    "# print 10 predictions from test data\n",
    "test_output, _ = cnn(test_x[:10])\n",
    "pred_y = torch.max(test_output, 1)[1].data.numpy()\n",
    "print(pred_y, 'prediction number')\n",
    "print(test_y[:10].numpy(), 'real number')"
   ]
  },
  {
   "cell_type": "code",
   "execution_count": null,
   "id": "bb768264",
   "metadata": {},
   "outputs": [],
   "source": []
  },
  {
   "cell_type": "code",
   "execution_count": 97,
   "id": "45b0a2cc",
   "metadata": {},
   "outputs": [
    {
     "data": {
      "image/png": "[encoded data removed]",
      "text/plain": [
       "<Figure size 640x480 with 1 Axes>"
      ]
     },
     "metadata": {},
     "output_type": "display_data"
    },
    {
     "name": "stdout",
     "output_type": "stream",
     "text": [
      "RNN(\n",
      "  (rnn): RNN(1, 32, batch_first=True)\n",
      "  (out): Linear(in_features=32, out_features=1, bias=True)\n",
      ")\n"
     ]
    },
    {
     "ename": "AttributeError",
     "evalue": "module 'torch._subclasses' has no attribute 'functional_tensor'",
     "output_type": "error",
     "traceback": [
      "\u001b[0;31m---------------------------------------------------------------------------\u001b[0m",
      "\u001b[0;31mAttributeError\u001b[0m                            Traceback (most recent call last)",
      "Cell \u001b[0;32mIn[97], line 72\u001b[0m\n\u001b[1;32m     69\u001b[0m rnn \u001b[38;5;241m=\u001b[39m RNN()\n\u001b[1;32m     70\u001b[0m \u001b[38;5;28mprint\u001b[39m(rnn)\n\u001b[0;32m---> 72\u001b[0m optimizer \u001b[38;5;241m=\u001b[39m \u001b[43mtorch\u001b[49m\u001b[38;5;241;43m.\u001b[39;49m\u001b[43moptim\u001b[49m\u001b[38;5;241;43m.\u001b[39;49m\u001b[43mAdam\u001b[49m\u001b[43m(\u001b[49m\u001b[43mrnn\u001b[49m\u001b[38;5;241;43m.\u001b[39;49m\u001b[43mparameters\u001b[49m\u001b[43m(\u001b[49m\u001b[43m)\u001b[49m\u001b[43m,\u001b[49m\u001b[43m \u001b[49m\u001b[43mlr\u001b[49m\u001b[38;5;241;43m=\u001b[39;49m\u001b[43mLR\u001b[49m\u001b[43m)\u001b[49m   \u001b[38;5;66;03m# optimize all cnn parameters\u001b[39;00m\n\u001b[1;32m     73\u001b[0m loss_func \u001b[38;5;241m=\u001b[39m nn\u001b[38;5;241m.\u001b[39mMSELoss()\n\u001b[1;32m     75\u001b[0m h_state \u001b[38;5;241m=\u001b[39m \u001b[38;5;28;01mNone\u001b[39;00m      \u001b[38;5;66;03m# for initial hidden state\u001b[39;00m\n",
      "File \u001b[0;32m~/miniconda3/envs/python39/lib/python3.9/site-packages/torch/optim/adam.py:45\u001b[0m, in \u001b[0;36mAdam.__init__\u001b[0;34m(self, params, lr, betas, eps, weight_decay, amsgrad, foreach, maximize, capturable, differentiable, fused)\u001b[0m\n\u001b[1;32m     39\u001b[0m     \u001b[38;5;28;01mraise\u001b[39;00m \u001b[38;5;167;01mValueError\u001b[39;00m(\u001b[38;5;124mf\u001b[39m\u001b[38;5;124m\"\u001b[39m\u001b[38;5;124mInvalid weight_decay value: \u001b[39m\u001b[38;5;132;01m{\u001b[39;00mweight_decay\u001b[38;5;132;01m}\u001b[39;00m\u001b[38;5;124m\"\u001b[39m)\n\u001b[1;32m     41\u001b[0m defaults \u001b[38;5;241m=\u001b[39m \u001b[38;5;28mdict\u001b[39m(lr\u001b[38;5;241m=\u001b[39mlr, betas\u001b[38;5;241m=\u001b[39mbetas, eps\u001b[38;5;241m=\u001b[39meps,\n\u001b[1;32m     42\u001b[0m                 weight_decay\u001b[38;5;241m=\u001b[39mweight_decay, amsgrad\u001b[38;5;241m=\u001b[39mamsgrad,\n\u001b[1;32m     43\u001b[0m                 maximize\u001b[38;5;241m=\u001b[39mmaximize, foreach\u001b[38;5;241m=\u001b[39mforeach, capturable\u001b[38;5;241m=\u001b[39mcapturable,\n\u001b[1;32m     44\u001b[0m                 differentiable\u001b[38;5;241m=\u001b[39mdifferentiable, fused\u001b[38;5;241m=\u001b[39mfused)\n\u001b[0;32m---> 45\u001b[0m \u001b[38;5;28;43msuper\u001b[39;49m\u001b[43m(\u001b[49m\u001b[43m)\u001b[49m\u001b[38;5;241;43m.\u001b[39;49m\u001b[38;5;21;43m__init__\u001b[39;49m\u001b[43m(\u001b[49m\u001b[43mparams\u001b[49m\u001b[43m,\u001b[49m\u001b[43m \u001b[49m\u001b[43mdefaults\u001b[49m\u001b[43m)\u001b[49m\n\u001b[1;32m     47\u001b[0m \u001b[38;5;28;01mif\u001b[39;00m fused:\n\u001b[1;32m     48\u001b[0m     \u001b[38;5;28;01mif\u001b[39;00m differentiable:\n",
      "File \u001b[0;32m~/miniconda3/envs/python39/lib/python3.9/site-packages/torch/optim/optimizer.py:266\u001b[0m, in \u001b[0;36m__init__\u001b[0;34m(self, params, defaults)\u001b[0m\n\u001b[1;32m    259\u001b[0m         warnings\u001b[38;5;241m.\u001b[39mwarn((\u001b[38;5;124m\"\u001b[39m\u001b[38;5;124mPassing in a raw Tensor as ``params`` to SparseAdam \u001b[39m\u001b[38;5;124m\"\u001b[39m\n\u001b[1;32m    260\u001b[0m                        \u001b[38;5;124m\"\u001b[39m\u001b[38;5;124mis deprecated. In the future, this will raise an error. \u001b[39m\u001b[38;5;124m\"\u001b[39m\n\u001b[1;32m    261\u001b[0m                        \u001b[38;5;124m\"\u001b[39m\u001b[38;5;124mPlease wrap your Tensor in an iterable instead.\u001b[39m\u001b[38;5;124m\"\u001b[39m),\n\u001b[1;32m    262\u001b[0m                       \u001b[38;5;167;01mFutureWarning\u001b[39;00m)\n\u001b[1;32m    263\u001b[0m     \u001b[38;5;28;01melse\u001b[39;00m:\n\u001b[1;32m    264\u001b[0m         \u001b[38;5;28;01mraise\u001b[39;00m \u001b[38;5;167;01mTypeError\u001b[39;00m(\u001b[38;5;124m\"\u001b[39m\u001b[38;5;124mparams argument given to the optimizer should be \u001b[39m\u001b[38;5;124m\"\u001b[39m\n\u001b[1;32m    265\u001b[0m                         \u001b[38;5;124m\"\u001b[39m\u001b[38;5;124man iterable of Tensors or dicts, but got \u001b[39m\u001b[38;5;124m\"\u001b[39m \u001b[38;5;241m+\u001b[39m\n\u001b[0;32m--> 266\u001b[0m                         torch\u001b[38;5;241m.\u001b[39mtypename(params))\n\u001b[1;32m    268\u001b[0m \u001b[38;5;28mself\u001b[39m\u001b[38;5;241m.\u001b[39mstate: DefaultDict[torch\u001b[38;5;241m.\u001b[39mTensor, Any] \u001b[38;5;241m=\u001b[39m defaultdict(\u001b[38;5;28mdict\u001b[39m)\n\u001b[1;32m    269\u001b[0m \u001b[38;5;28mself\u001b[39m\u001b[38;5;241m.\u001b[39mparam_groups: List[Dict[\u001b[38;5;28mstr\u001b[39m, Any]] \u001b[38;5;241m=\u001b[39m []\n",
      "File \u001b[0;32m~/miniconda3/envs/python39/lib/python3.9/site-packages/torch/_compile.py:22\u001b[0m, in \u001b[0;36m_disable_dynamo.<locals>.inner\u001b[0;34m(*args, **kwargs)\u001b[0m\n\u001b[1;32m     20\u001b[0m \u001b[38;5;129m@functools\u001b[39m\u001b[38;5;241m.\u001b[39mwraps(fn)\n\u001b[1;32m     21\u001b[0m \u001b[38;5;28;01mdef\u001b[39;00m \u001b[38;5;21minner\u001b[39m(\u001b[38;5;241m*\u001b[39margs, \u001b[38;5;241m*\u001b[39m\u001b[38;5;241m*\u001b[39mkwargs):\n\u001b[0;32m---> 22\u001b[0m     \u001b[38;5;28;01mimport\u001b[39;00m \u001b[38;5;21;01mtorch\u001b[39;00m\u001b[38;5;21;01m.\u001b[39;00m\u001b[38;5;21;01m_dynamo\u001b[39;00m\n\u001b[1;32m     24\u001b[0m     \u001b[38;5;28;01mreturn\u001b[39;00m torch\u001b[38;5;241m.\u001b[39m_dynamo\u001b[38;5;241m.\u001b[39mdisable(fn, recursive)(\u001b[38;5;241m*\u001b[39margs, \u001b[38;5;241m*\u001b[39m\u001b[38;5;241m*\u001b[39mkwargs)\n",
      "File \u001b[0;32m~/miniconda3/envs/python39/lib/python3.9/site-packages/torch/_dynamo/__init__.py:2\u001b[0m\n\u001b[1;32m      1\u001b[0m \u001b[38;5;28;01mimport\u001b[39;00m \u001b[38;5;21;01mtorch\u001b[39;00m\n\u001b[0;32m----> 2\u001b[0m \u001b[38;5;28;01mfrom\u001b[39;00m \u001b[38;5;21;01m.\u001b[39;00m \u001b[38;5;28;01mimport\u001b[39;00m allowed_functions, convert_frame, eval_frame, resume_execution\n\u001b[1;32m      3\u001b[0m \u001b[38;5;28;01mfrom\u001b[39;00m \u001b[38;5;21;01m.\u001b[39;00m\u001b[38;5;21;01mbackends\u001b[39;00m\u001b[38;5;21;01m.\u001b[39;00m\u001b[38;5;21;01mregistry\u001b[39;00m \u001b[38;5;28;01mimport\u001b[39;00m list_backends, lookup_backend, register_backend\n\u001b[1;32m      4\u001b[0m \u001b[38;5;28;01mfrom\u001b[39;00m \u001b[38;5;21;01m.\u001b[39;00m\u001b[38;5;21;01mcode_context\u001b[39;00m \u001b[38;5;28;01mimport\u001b[39;00m code_context\n",
      "File \u001b[0;32m~/miniconda3/envs/python39/lib/python3.9/site-packages/torch/_dynamo/convert_frame.py:45\u001b[0m\n\u001b[1;32m     32\u001b[0m \u001b[38;5;28;01mfrom\u001b[39;00m \u001b[38;5;21;01m.\u001b[39;00m\u001b[38;5;21;01mbytecode_transformation\u001b[39;00m \u001b[38;5;28;01mimport\u001b[39;00m (\n\u001b[1;32m     33\u001b[0m     check_inst_exn_tab_entries_valid,\n\u001b[1;32m     34\u001b[0m     Instruction,\n\u001b[0;32m   (...)\u001b[0m\n\u001b[1;32m     37\u001b[0m     transform_code_object,\n\u001b[1;32m     38\u001b[0m )\n\u001b[1;32m     39\u001b[0m \u001b[38;5;28;01mfrom\u001b[39;00m \u001b[38;5;21;01m.\u001b[39;00m\u001b[38;5;21;01mcache_size\u001b[39;00m \u001b[38;5;28;01mimport\u001b[39;00m (\n\u001b[1;32m     40\u001b[0m     CacheSizeRelevantForFrame,\n\u001b[1;32m     41\u001b[0m     compute_cache_size,\n\u001b[1;32m     42\u001b[0m     exceeds_cache_size_limit,\n\u001b[1;32m     43\u001b[0m     is_recompilation,\n\u001b[1;32m     44\u001b[0m )\n\u001b[0;32m---> 45\u001b[0m \u001b[38;5;28;01mfrom\u001b[39;00m \u001b[38;5;21;01m.\u001b[39;00m\u001b[38;5;21;01meval_frame\u001b[39;00m \u001b[38;5;28;01mimport\u001b[39;00m always_optimize_code_objects, skip_code, TorchPatcher\n\u001b[1;32m     46\u001b[0m \u001b[38;5;28;01mfrom\u001b[39;00m \u001b[38;5;21;01m.\u001b[39;00m\u001b[38;5;21;01mexc\u001b[39;00m \u001b[38;5;28;01mimport\u001b[39;00m (\n\u001b[1;32m     47\u001b[0m     augment_exc_message,\n\u001b[1;32m     48\u001b[0m     BackendCompilerFailed,\n\u001b[0;32m   (...)\u001b[0m\n\u001b[1;32m     54\u001b[0m     Unsupported,\n\u001b[1;32m     55\u001b[0m )\n\u001b[1;32m     56\u001b[0m \u001b[38;5;28;01mfrom\u001b[39;00m \u001b[38;5;21;01m.\u001b[39;00m\u001b[38;5;21;01mguards\u001b[39;00m \u001b[38;5;28;01mimport\u001b[39;00m (\n\u001b[1;32m     57\u001b[0m     CheckFunctionManager,\n\u001b[1;32m     58\u001b[0m     get_and_maybe_log_recompilation_reason,\n\u001b[1;32m     59\u001b[0m     GuardedCode,\n\u001b[1;32m     60\u001b[0m )\n",
      "File \u001b[0;32m~/miniconda3/envs/python39/lib/python3.9/site-packages/torch/_dynamo/eval_frame.py:37\u001b[0m\n\u001b[1;32m     35\u001b[0m \u001b[38;5;28;01mimport\u001b[39;00m \u001b[38;5;21;01mtorch\u001b[39;00m\u001b[38;5;21;01m.\u001b[39;00m\u001b[38;5;21;01mfx\u001b[39;00m\n\u001b[1;32m     36\u001b[0m \u001b[38;5;28;01mimport\u001b[39;00m \u001b[38;5;21;01mtorch\u001b[39;00m\u001b[38;5;21;01m.\u001b[39;00m\u001b[38;5;21;01mutils\u001b[39;00m\u001b[38;5;21;01m.\u001b[39;00m\u001b[38;5;21;01m_pytree\u001b[39;00m \u001b[38;5;28;01mas\u001b[39;00m \u001b[38;5;21;01mpytree\u001b[39;00m\n\u001b[0;32m---> 37\u001b[0m \u001b[38;5;28;01mimport\u001b[39;00m \u001b[38;5;21;01mtorch\u001b[39;00m\u001b[38;5;21;01m.\u001b[39;00m\u001b[38;5;21;01mutils\u001b[39;00m\u001b[38;5;21;01m.\u001b[39;00m\u001b[38;5;21;01mcheckpoint\u001b[39;00m\n\u001b[1;32m     38\u001b[0m \u001b[38;5;28;01mfrom\u001b[39;00m \u001b[38;5;21;01mtorch\u001b[39;00m \u001b[38;5;28;01mimport\u001b[39;00m _guards\n\u001b[1;32m     39\u001b[0m \u001b[38;5;28;01mfrom\u001b[39;00m \u001b[38;5;21;01mtorch\u001b[39;00m\u001b[38;5;21;01m.\u001b[39;00m\u001b[38;5;21;01m_subclasses\u001b[39;00m \u001b[38;5;28;01mimport\u001b[39;00m fake_tensor\n",
      "File \u001b[0;32m~/miniconda3/envs/python39/lib/python3.9/site-packages/torch/utils/checkpoint.py:1169\u001b[0m\n\u001b[1;32m   1160\u001b[0m uid \u001b[38;5;241m=\u001b[39m count(\u001b[38;5;241m1\u001b[39m)\n\u001b[1;32m   1163\u001b[0m \u001b[38;5;66;03m# NOTE: torch.utils.checkpoint internal logic will call these two functions unknown number of times\u001b[39;00m\n\u001b[1;32m   1164\u001b[0m \u001b[38;5;66;03m# (i.e. there could be _CachedTorchDispatchMode calls that doesn't map to a _CachingTorchDispatchMode call),\u001b[39;00m\n\u001b[1;32m   1165\u001b[0m \u001b[38;5;66;03m# so we ignore these ops and just always recompute them.\u001b[39;00m\n\u001b[1;32m   1166\u001b[0m _ignored_ops \u001b[38;5;241m=\u001b[39m {\n\u001b[1;32m   1167\u001b[0m     torch\u001b[38;5;241m.\u001b[39mops\u001b[38;5;241m.\u001b[39mprim\u001b[38;5;241m.\u001b[39mdevice\u001b[38;5;241m.\u001b[39mdefault,\n\u001b[1;32m   1168\u001b[0m     torch\u001b[38;5;241m.\u001b[39mops\u001b[38;5;241m.\u001b[39maten\u001b[38;5;241m.\u001b[39mdetach\u001b[38;5;241m.\u001b[39mdefault,\n\u001b[0;32m-> 1169\u001b[0m } \u001b[38;5;241m|\u001b[39m \u001b[38;5;28mset\u001b[39m(\u001b[43mtorch\u001b[49m\u001b[38;5;241;43m.\u001b[39;49m\u001b[43m_subclasses\u001b[49m\u001b[38;5;241;43m.\u001b[39;49m\u001b[43mfunctional_tensor\u001b[49m\u001b[38;5;241m.\u001b[39mFunctionalTensor\u001b[38;5;241m.\u001b[39mmetadata_fns)\n\u001b[1;32m   1172\u001b[0m \u001b[38;5;28;01mclass\u001b[39;00m \u001b[38;5;21;01m_CachingTorchDispatchMode\u001b[39;00m(TorchDispatchMode):\n\u001b[1;32m   1173\u001b[0m \u001b[38;5;250m    \u001b[39m\u001b[38;5;124mr\u001b[39m\u001b[38;5;124;03m\"\"\"\u001b[39;00m\n\u001b[1;32m   1174\u001b[0m \u001b[38;5;124;03m    A :class:`TorchDispatchMode` to implement selective activation checkpointing\u001b[39;00m\n\u001b[1;32m   1175\u001b[0m \u001b[38;5;124;03m    that's compatible with torch.compile. Used together with _CachedTorchDispatchMode.\u001b[39;00m\n\u001b[1;32m   1176\u001b[0m \u001b[38;5;124;03m    \"\"\"\u001b[39;00m\n",
      "\u001b[0;31mAttributeError\u001b[0m: module 'torch._subclasses' has no attribute 'functional_tensor'"
     ]
    }
   ],
   "source": [
    "\"\"\"\n",
    "View more, visit my tutorial page: https://mofanpy.com/tutorials/\n",
    "My Youtube Channel: https://www.youtube.com/user/MorvanZhou\n",
    "\n",
    "Dependencies:\n",
    "torch: 0.4\n",
    "matplotlib\n",
    "numpy\n",
    "\"\"\"\n",
    "import torch\n",
    "from torch import nn\n",
    "import numpy as np\n",
    "import matplotlib.pyplot as plt\n",
    "import matplotlib.pyplot as plt\n",
    "from IPython import display\n",
    "import time\n",
    "time_start=time.time()\n",
    "# torch.manual_seed(1)    # reproducible\n",
    "\n",
    "# Hyper Parameters\n",
    "TIME_STEP = 10      # rnn time step\n",
    "INPUT_SIZE = 1      # rnn input size\n",
    "LR = 0.02           # learning rate\n",
    "\n",
    "# show data\n",
    "steps = np.linspace(0, np.pi*2, 100, dtype=np.float32)  # float32 for converting torch FloatTensor\n",
    "x_np = np.sin(steps)\n",
    "y_np = np.cos(steps)\n",
    "plt.plot(steps, y_np, 'r-', label='target (cos)')\n",
    "plt.plot(steps, x_np, 'b-', label='input (sin)')\n",
    "plt.legend(loc='best')\n",
    "plt.show()\n",
    "\n",
    "\n",
    "class RNN(nn.Module):\n",
    "    def __init__(self):\n",
    "        super(RNN, self).__init__()\n",
    "\n",
    "        self.rnn = nn.RNN(\n",
    "            input_size=INPUT_SIZE,\n",
    "            hidden_size=32,     # rnn hidden unit\n",
    "            num_layers=1,       # number of rnn layer\n",
    "            batch_first=True,   # input & output will has batch size as 1s dimension. e.g. (batch, time_step, input_size)\n",
    "        )\n",
    "        self.out = nn.Linear(32, 1)\n",
    "\n",
    "    def forward(self, x, h_state):\n",
    "        # x (batch, time_step, input_size)\n",
    "        # h_state (n_layers, batch, hidden_size)\n",
    "        # r_out (batch, time_step, hidden_size)\n",
    "        r_out, h_state = self.rnn(x, h_state)\n",
    "\n",
    "        outs = []    # save all predictions\n",
    "        for time_step in range(r_out.size(1)):    # calculate output for each time step\n",
    "            outs.append(self.out(r_out[:, time_step, :]))\n",
    "        return torch.stack(outs, dim=1), h_state\n",
    "\n",
    "        # instead, for simplicity, you can replace above codes by follows\n",
    "        # r_out = r_out.view(-1, 32)\n",
    "        # outs = self.out(r_out)\n",
    "        # outs = outs.view(-1, TIME_STEP, 1)\n",
    "        # return outs, h_state\n",
    "        \n",
    "        # or even simpler, since nn.Linear can accept inputs of any dimension \n",
    "        # and returns outputs with same dimension except for the last\n",
    "        # outs = self.out(r_out)\n",
    "        # return outs\n",
    "\n",
    "rnn = RNN()\n",
    "print(rnn)\n",
    "\n",
    "optimizer = torch.optim.Adam(rnn.parameters(), lr=LR)   # optimize all cnn parameters\n",
    "loss_func = nn.MSELoss()\n",
    "\n",
    "h_state = None      # for initial hidden state\n",
    "\n",
    "plt.figure(1, figsize=(12, 5))\n",
    "plt.ion()           # continuously plot\n",
    "\n",
    "for step in range(100):\n",
    "    start, end = step * np.pi, (step+1)*np.pi   # time range\n",
    "    # use sin predicts cos\n",
    "    steps = np.linspace(start, end, TIME_STEP, dtype=np.float32, endpoint=False)  # float32 for converting torch FloatTensor\n",
    "    x_np = np.sin(steps)\n",
    "    y_np = np.cos(steps)\n",
    "\n",
    "    x = torch.from_numpy(x_np[np.newaxis, :, np.newaxis])    # shape (batch, time_step, input_size)\n",
    "    y = torch.from_numpy(y_np[np.newaxis, :, np.newaxis])\n",
    "\n",
    "    prediction, h_state = rnn(x, h_state)   # rnn output\n",
    "    # !! next step is important !!\n",
    "    h_state = h_state.data        # repack the hidden state, break the connection from last iteration\n",
    "\n",
    "    loss = loss_func(prediction, y)         # calculate loss\n",
    "    optimizer.zero_grad()                   # clear gradients for this training step\n",
    "    loss.backward()                         # backpropagation, compute gradients\n",
    "    optimizer.step()                        # apply gradients\n",
    "\n",
    "    # plotting\n",
    "    display.clear_output(wait=True)\n",
    "    plt.plot(steps, y_np.flatten(), 'r-')\n",
    "    plt.plot(steps, prediction.data.numpy().flatten(), 'b-')\n",
    "    plt.draw(); plt.pause(0.05)\n",
    "\n",
    "plt.ioff()\n",
    "plt.show()\n",
    "time_end=time.time()\n",
    "print('time cost',time_end-time_start,'s')\n",
    "print(x.size(),y.size())\n",
    "print(torch.get_num_threads())"
   ]
  },
  {
   "cell_type": "code",
   "execution_count": null,
   "id": "bd086bbf",
   "metadata": {},
   "outputs": [],
   "source": [
    "\"\"\"\n",
    "View more, visit my tutorial page: https://mofanpy.com/tutorials/\n",
    "My Youtube Channel: https://www.youtube.com/user/MorvanZhou\n",
    "\n",
    "Dependencies:\n",
    "torch: 0.4\n",
    "matplotlib\n",
    "numpy\n",
    "\"\"\"\n",
    "import torch\n",
    "import torch.nn as nn\n",
    "import torch.utils.data as Data\n",
    "import torchvision\n",
    "import matplotlib.pyplot as plt\n",
    "from mpl_toolkits.mplot3d import Axes3D\n",
    "from matplotlib import cm\n",
    "import numpy as np\n",
    "\n",
    "\n",
    "# torch.manual_seed(1)    # reproducible\n",
    "\n",
    "# Hyper Parameters\n",
    "EPOCH = 10\n",
    "BATCH_SIZE = 64\n",
    "LR = 0.005         # learning rate\n",
    "DOWNLOAD_MNIST = False\n",
    "N_TEST_IMG = 5\n",
    "\n",
    "# Mnist digits dataset\n",
    "train_data = torchvision.datasets.MNIST(\n",
    "    root='./mnist/',\n",
    "    train=True,                                     # this is training data\n",
    "    transform=torchvision.transforms.ToTensor(),    # Converts a PIL.Image or numpy.ndarray to\n",
    "                                                    # torch.FloatTensor of shape (C x H x W) and normalize in the range [0.0, 1.0]\n",
    "    download=DOWNLOAD_MNIST,                        # download it if you don't have it\n",
    ")\n",
    "\n",
    "# plot one example\n",
    "print(train_data.train_data.size())     # (60000, 28, 28)\n",
    "print(train_data.train_labels.size())   # (60000)\n",
    "plt.imshow(train_data.train_data[2].numpy(), cmap='gray')\n",
    "plt.title('%i' % train_data.train_labels[2])\n",
    "plt.show()\n",
    "\n",
    "# Data Loader for easy mini-batch return in training, the image batch shape will be (50, 1, 28, 28)\n",
    "train_loader = Data.DataLoader(dataset=train_data, batch_size=BATCH_SIZE, shuffle=True)\n",
    "\n",
    "\n",
    "class AutoEncoder(nn.Module):\n",
    "    def __init__(self):\n",
    "        super(AutoEncoder, self).__init__()\n",
    "\n",
    "        self.encoder = nn.Sequential(\n",
    "            nn.Linear(28*28, 128),\n",
    "            nn.Tanh(),\n",
    "            nn.Linear(128, 64),\n",
    "            nn.Tanh(),\n",
    "            nn.Linear(64, 12),\n",
    "            nn.Tanh(),\n",
    "            nn.Linear(12, 3),   # compress to 3 features which can be visualized in plt\n",
    "        )\n",
    "        self.decoder = nn.Sequential(\n",
    "            nn.Linear(3, 12),\n",
    "            nn.Tanh(),\n",
    "            nn.Linear(12, 64),\n",
    "            nn.Tanh(),\n",
    "            nn.Linear(64, 128),\n",
    "            nn.Tanh(),\n",
    "            nn.Linear(128, 28*28),\n",
    "            nn.Sigmoid(),       # compress to a range (0, 1)\n",
    "        )\n",
    "\n",
    "    def forward(self, x):\n",
    "        encoded = self.encoder(x)\n",
    "        decoded = self.decoder(encoded)\n",
    "        return encoded, decoded\n",
    "\n",
    "\n",
    "autoencoder = AutoEncoder()\n",
    "\n",
    "optimizer = torch.optim.Adam(autoencoder.parameters(), lr=LR)\n",
    "loss_func = nn.MSELoss()\n",
    "\n",
    "# initialize figure\n",
    "f, a = plt.subplots(2, N_TEST_IMG, figsize=(5, 2))\n",
    "plt.ion()   # continuously plot\n",
    "\n",
    "# original data (first row) for viewing\n",
    "view_data = train_data.train_data[:N_TEST_IMG].view(-1, 28*28).type(torch.FloatTensor)/255.\n",
    "for i in range(N_TEST_IMG):\n",
    "    a[0][i].imshow(np.reshape(view_data.data.numpy()[i], (28, 28)), cmap='gray'); a[0][i].set_xticks(()); a[0][i].set_yticks(())\n",
    "\n",
    "for epoch in range(EPOCH):\n",
    "    for step, (x, b_label) in enumerate(train_loader):\n",
    "        b_x = x.view(-1, 28*28)   # batch x, shape (batch, 28*28)\n",
    "        b_y = x.view(-1, 28*28)   # batch y, shape (batch, 28*28)\n",
    "\n",
    "        encoded, decoded = autoencoder(b_x)\n",
    "\n",
    "        loss = loss_func(decoded, b_y)      # mean square error\n",
    "        optimizer.zero_grad()               # clear gradients for this training step\n",
    "        loss.backward()                     # backpropagation, compute gradients\n",
    "        optimizer.step()                    # apply gradients\n",
    "\n",
    "        if step % 100 == 0:\n",
    "            print('Epoch: ', epoch, '| train loss: %.4f' % loss.data.numpy())\n",
    "\n",
    "            # plotting decoded image (second row)\n",
    "            _, decoded_data = autoencoder(view_data)\n",
    "            for i in range(N_TEST_IMG):\n",
    "                a[1][i].clear()\n",
    "                a[1][i].imshow(np.reshape(decoded_data.data.numpy()[i], (28, 28)), cmap='gray')\n",
    "                a[1][i].set_xticks(()); a[1][i].set_yticks(())\n",
    "            plt.draw(); plt.pause(0.05)\n",
    "\n",
    "plt.ioff()\n",
    "plt.show()\n",
    "\n",
    "# visualize in 3D plot\n",
    "view_data = train_data.train_data[:200].view(-1, 28*28).type(torch.FloatTensor)/255.\n",
    "encoded_data, _ = autoencoder(view_data)\n",
    "fig = plt.figure(2); ax = Axes3D(fig)\n",
    "X, Y, Z = encoded_data.data[:, 0].numpy(), encoded_data.data[:, 1].numpy(), encoded_data.data[:, 2].numpy()\n",
    "values = train_data.train_labels[:200].numpy()\n",
    "for x, y, z, s in zip(X, Y, Z, values):\n",
    "    c = cm.rainbow(int(255*s/9)); ax.text(x, y, z, s, backgroundcolor=c)\n",
    "ax.set_xlim(X.min(), X.max()); ax.set_ylim(Y.min(), Y.max()); ax.set_zlim(Z.min(), Z.max())\n",
    "plt.show()"
   ]
  },
  {
   "cell_type": "code",
   "execution_count": 98,
   "id": "b7db90cc",
   "metadata": {},
   "outputs": [
    {
     "ename": "ModuleNotFoundError",
     "evalue": "No module named 'gym'",
     "output_type": "error",
     "traceback": [
      "\u001b[0;31m---------------------------------------------------------------------------\u001b[0m",
      "\u001b[0;31mModuleNotFoundError\u001b[0m                       Traceback (most recent call last)",
      "Cell \u001b[0;32mIn[98], line 1\u001b[0m\n\u001b[0;32m----> 1\u001b[0m \u001b[38;5;28;01mimport\u001b[39;00m \u001b[38;5;21;01mgym\u001b[39;00m\n\u001b[1;32m      2\u001b[0m \u001b[38;5;28;01mfrom\u001b[39;00m \u001b[38;5;21;01mRL_brain\u001b[39;00m \u001b[38;5;28;01mimport\u001b[39;00m DeepQNetwork\n\u001b[1;32m      4\u001b[0m env \u001b[38;5;241m=\u001b[39m gym\u001b[38;5;241m.\u001b[39mmake(\u001b[38;5;124m'\u001b[39m\u001b[38;5;124mCartPole-v0\u001b[39m\u001b[38;5;124m'\u001b[39m)   \u001b[38;5;66;03m# 定义使用 gym 库中的那一个环境\u001b[39;00m\n",
      "\u001b[0;31mModuleNotFoundError\u001b[0m: No module named 'gym'"
     ]
    }
   ],
   "source": [
    "import gym\n",
    "from RL_brain import DeepQNetwork\n",
    "\n",
    "env = gym.make('CartPole-v0')   # 定义使用 gym 库中的那一个环境\n",
    "env = env.unwrapped # 不做这个会有很多限制\n",
    "\n",
    "print(env.action_space) # 查看这个环境中可用的 action 有多少个\n",
    "print(env.observation_space)    # 查看这个环境中可用的 state 的 observation 有多少个\n",
    "print(env.observation_space.high)   # 查看 observation 最高取值\n",
    "print(env.observation_space.low)    # 查看 observation 最低取值\n"
   ]
  },
  {
   "cell_type": "code",
   "execution_count": null,
   "id": "a4f80e49",
   "metadata": {},
   "outputs": [],
   "source": []
  },
  {
   "cell_type": "code",
   "execution_count": 99,
   "id": "7058b351",
   "metadata": {},
   "outputs": [
    {
     "ename": "ModuleNotFoundError",
     "evalue": "No module named 'sentence_transformers'",
     "output_type": "error",
     "traceback": [
      "\u001b[0;31m---------------------------------------------------------------------------\u001b[0m",
      "\u001b[0;31mModuleNotFoundError\u001b[0m                       Traceback (most recent call last)",
      "Cell \u001b[0;32mIn[99], line 1\u001b[0m\n\u001b[0;32m----> 1\u001b[0m \u001b[38;5;28;01mfrom\u001b[39;00m \u001b[38;5;21;01msentence_transformers\u001b[39;00m \u001b[38;5;28;01mimport\u001b[39;00m SentenceTransformer\n\u001b[1;32m      2\u001b[0m sentences \u001b[38;5;241m=\u001b[39m [\u001b[38;5;124m\"\u001b[39m\u001b[38;5;124mThis is an example sentence\u001b[39m\u001b[38;5;124m\"\u001b[39m, \u001b[38;5;124m\"\u001b[39m\u001b[38;5;124mEach sentence is converted\u001b[39m\u001b[38;5;124m\"\u001b[39m]\n\u001b[1;32m      4\u001b[0m model \u001b[38;5;241m=\u001b[39m SentenceTransformer(\u001b[38;5;124m'\u001b[39m\u001b[38;5;124msentence-transformers/all-MiniLM-L6-v2\u001b[39m\u001b[38;5;124m'\u001b[39m)\n",
      "\u001b[0;31mModuleNotFoundError\u001b[0m: No module named 'sentence_transformers'"
     ]
    }
   ],
   "source": [
    "from sentence_transformers import SentenceTransformer\n",
    "sentences = [\"This is an example sentence\", \"Each sentence is converted\"]\n",
    "\n",
    "model = SentenceTransformer('sentence-transformers/all-MiniLM-L6-v2')\n",
    "embeddings = model.encode(sentences)\n",
    "print(embeddings)\n",
    "print(embeddings)"
   ]
  },
  {
   "cell_type": "code",
   "execution_count": 100,
   "id": "d39301a2",
   "metadata": {},
   "outputs": [
    {
     "ename": "ModuleNotFoundError",
     "evalue": "No module named 'transformers'",
     "output_type": "error",
     "traceback": [
      "\u001b[0;31m---------------------------------------------------------------------------\u001b[0m",
      "\u001b[0;31mModuleNotFoundError\u001b[0m                       Traceback (most recent call last)",
      "Cell \u001b[0;32mIn[100], line 1\u001b[0m\n\u001b[0;32m----> 1\u001b[0m \u001b[38;5;28;01mfrom\u001b[39;00m \u001b[38;5;21;01mtransformers\u001b[39;00m \u001b[38;5;28;01mimport\u001b[39;00m AutoTokenizer, AutoModel\n\u001b[1;32m      2\u001b[0m \u001b[38;5;28;01mimport\u001b[39;00m \u001b[38;5;21;01mtorch\u001b[39;00m\n\u001b[1;32m      3\u001b[0m \u001b[38;5;28;01mimport\u001b[39;00m \u001b[38;5;21;01mtorch\u001b[39;00m\u001b[38;5;21;01m.\u001b[39;00m\u001b[38;5;21;01mnn\u001b[39;00m\u001b[38;5;21;01m.\u001b[39;00m\u001b[38;5;21;01mfunctional\u001b[39;00m \u001b[38;5;28;01mas\u001b[39;00m \u001b[38;5;21;01mF\u001b[39;00m\n",
      "\u001b[0;31mModuleNotFoundError\u001b[0m: No module named 'transformers'"
     ]
    }
   ],
   "source": [
    "from transformers import AutoTokenizer, AutoModel\n",
    "import torch\n",
    "import torch.nn.functional as F\n",
    "\n",
    "#Mean Pooling - Take attention mask into account for correct averaging\n",
    "def mean_pooling(model_output, attention_mask):\n",
    "    token_embeddings = model_output[0] #First element of model_output contains all token embeddings\n",
    "    input_mask_expanded = attention_mask.unsqueeze(-1).expand(token_embeddings.size()).float()\n",
    "    return torch.sum(token_embeddings * input_mask_expanded, 1) / torch.clamp(input_mask_expanded.sum(1), min=1e-9)\n",
    "\n",
    "\n",
    "# Sentences we want sentence embeddings for\n",
    "sentences = ['This is an example sentence', 'Each sentence is converted']\n",
    "\n",
    "# Load model from HuggingFace Hub\n",
    "tokenizer = AutoTokenizer.from_pretrained('sentence-transformers/all-MiniLM-L6-v2')\n",
    "model = AutoModel.from_pretrained('sentence-transformers/all-MiniLM-L6-v2')\n",
    "\n",
    "# Tokenize sentences\n",
    "encoded_input = tokenizer(sentences, padding=True, truncation=True, return_tensors='pt')\n",
    "\n",
    "# Compute token embeddings\n",
    "with torch.no_grad():\n",
    "    model_output = model(**encoded_input)\n",
    "\n",
    "# Perform pooling\n",
    "sentence_embeddings = mean_pooling(model_output, encoded_input['attention_mask'])\n",
    "\n",
    "# Normalize embeddings\n",
    "sentence_embeddings = F.normalize(sentence_embeddings, p=2, dim=1)\n",
    "\n",
    "print(\"Sentence embeddings:\")\n",
    "print(sentence_embeddings)\n"
   ]
  },
  {
   "cell_type": "code",
   "execution_count": 101,
   "id": "52c5f014",
   "metadata": {},
   "outputs": [
    {
     "ename": "ModuleNotFoundError",
     "evalue": "No module named 'sentence_transformers'",
     "output_type": "error",
     "traceback": [
      "\u001b[0;31m---------------------------------------------------------------------------\u001b[0m",
      "\u001b[0;31mModuleNotFoundError\u001b[0m                       Traceback (most recent call last)",
      "Cell \u001b[0;32mIn[101], line 1\u001b[0m\n\u001b[0;32m----> 1\u001b[0m \u001b[38;5;28;01mfrom\u001b[39;00m \u001b[38;5;21;01msentence_transformers\u001b[39;00m \u001b[38;5;28;01mimport\u001b[39;00m SentenceTransformer\n\u001b[1;32m      2\u001b[0m model \u001b[38;5;241m=\u001b[39m SentenceTransformer(\u001b[38;5;124m'\u001b[39m\u001b[38;5;124mroberta-large-nli-stsb-mean-tokens\u001b[39m\u001b[38;5;124m'\u001b[39m)\n",
      "\u001b[0;31mModuleNotFoundError\u001b[0m: No module named 'sentence_transformers'"
     ]
    }
   ],
   "source": [
    "from sentence_transformers import SentenceTransformer\n",
    "model = SentenceTransformer('roberta-large-nli-stsb-mean-tokens')"
   ]
  },
  {
   "cell_type": "code",
   "execution_count": 102,
   "id": "bacbc3d3",
   "metadata": {},
   "outputs": [
    {
     "ename": "NameError",
     "evalue": "name 'model' is not defined",
     "output_type": "error",
     "traceback": [
      "\u001b[0;31m---------------------------------------------------------------------------\u001b[0m",
      "\u001b[0;31mNameError\u001b[0m                                 Traceback (most recent call last)",
      "Cell \u001b[0;32mIn[102], line 12\u001b[0m\n\u001b[1;32m      1\u001b[0m sentences \u001b[38;5;241m=\u001b[39m [\u001b[38;5;124m'\u001b[39m\u001b[38;5;124mLack of saneness\u001b[39m\u001b[38;5;124m'\u001b[39m,\n\u001b[1;32m      2\u001b[0m         \u001b[38;5;124m'\u001b[39m\u001b[38;5;124mAbsence of sanity\u001b[39m\u001b[38;5;124m'\u001b[39m,\n\u001b[1;32m      3\u001b[0m         \u001b[38;5;124m'\u001b[39m\u001b[38;5;124mA man is eating food.\u001b[39m\u001b[38;5;124m'\u001b[39m,\n\u001b[0;32m   (...)\u001b[0m\n\u001b[1;32m     10\u001b[0m         \u001b[38;5;124m'\u001b[39m\u001b[38;5;124mA monkey is playing drums.\u001b[39m\u001b[38;5;124m'\u001b[39m,\n\u001b[1;32m     11\u001b[0m         \u001b[38;5;124m'\u001b[39m\u001b[38;5;124mA cheetah is running behind its prey.\u001b[39m\u001b[38;5;124m'\u001b[39m]\n\u001b[0;32m---> 12\u001b[0m sentence_embeddings \u001b[38;5;241m=\u001b[39m \u001b[43mmodel\u001b[49m\u001b[38;5;241m.\u001b[39mencode(sentences)\n\u001b[1;32m     14\u001b[0m \u001b[38;5;28;01mfor\u001b[39;00m sentence, embedding \u001b[38;5;129;01min\u001b[39;00m \u001b[38;5;28mzip\u001b[39m(sentences, sentence_embeddings):\n\u001b[1;32m     15\u001b[0m     \u001b[38;5;28mprint\u001b[39m(\u001b[38;5;124m\"\u001b[39m\u001b[38;5;124mSentence:\u001b[39m\u001b[38;5;124m\"\u001b[39m, sentence)\n",
      "\u001b[0;31mNameError\u001b[0m: name 'model' is not defined"
     ]
    }
   ],
   "source": [
    "sentences = ['Lack of saneness',\n",
    "        'Absence of sanity',\n",
    "        'A man is eating food.',\n",
    "        'A man is eating a piece of bread.',\n",
    "        'The girl is carrying a baby.',\n",
    "        'A man is riding a horse.',\n",
    "        'A woman is playing violin.',\n",
    "        'Two men pushed carts through the woods.',\n",
    "        'A man is riding a white horse on an enclosed ground.',\n",
    "        'A monkey is playing drums.',\n",
    "        'A cheetah is running behind its prey.']\n",
    "sentence_embeddings = model.encode(sentences)\n",
    "\n",
    "for sentence, embedding in zip(sentences, sentence_embeddings):\n",
    "    print(\"Sentence:\", sentence)\n",
    "    print(\"Embedding:\", embedding)\n",
    "    print(\"\")"
   ]
  },
  {
   "cell_type": "code",
   "execution_count": 103,
   "id": "24cac9ab",
   "metadata": {},
   "outputs": [
    {
     "ename": "NameError",
     "evalue": "name 'model' is not defined",
     "output_type": "error",
     "traceback": [
      "\u001b[0;31m---------------------------------------------------------------------------\u001b[0m",
      "\u001b[0;31mNameError\u001b[0m                                 Traceback (most recent call last)",
      "Cell \u001b[0;32mIn[103], line 3\u001b[0m\n\u001b[1;32m      1\u001b[0m query \u001b[38;5;241m=\u001b[39m \u001b[38;5;124m'\u001b[39m\u001b[38;5;124mNobody has sane thoughts\u001b[39m\u001b[38;5;124m'\u001b[39m  \u001b[38;5;66;03m#  A query sentence uses for searching semantic similarity score.\u001b[39;00m\n\u001b[1;32m      2\u001b[0m queries \u001b[38;5;241m=\u001b[39m [query]\n\u001b[0;32m----> 3\u001b[0m query_embeddings \u001b[38;5;241m=\u001b[39m \u001b[43mmodel\u001b[49m\u001b[38;5;241m.\u001b[39mencode(queries)\n",
      "\u001b[0;31mNameError\u001b[0m: name 'model' is not defined"
     ]
    }
   ],
   "source": [
    "query = 'Nobody has sane thoughts'  #  A query sentence uses for searching semantic similarity score.\n",
    "queries = [query]\n",
    "query_embeddings = model.encode(queries)"
   ]
  },
  {
   "cell_type": "code",
   "execution_count": 104,
   "id": "070f289e",
   "metadata": {},
   "outputs": [
    {
     "name": "stdout",
     "output_type": "stream",
     "text": [
      "Semantic Search Results\n"
     ]
    },
    {
     "ename": "NameError",
     "evalue": "name 'query_embeddings' is not defined",
     "output_type": "error",
     "traceback": [
      "\u001b[0;31m---------------------------------------------------------------------------\u001b[0m",
      "\u001b[0;31mNameError\u001b[0m                                 Traceback (most recent call last)",
      "Cell \u001b[0;32mIn[104], line 5\u001b[0m\n\u001b[1;32m      3\u001b[0m \u001b[38;5;28mprint\u001b[39m(\u001b[38;5;124m\"\u001b[39m\u001b[38;5;124mSemantic Search Results\u001b[39m\u001b[38;5;124m\"\u001b[39m)\n\u001b[1;32m      4\u001b[0m number_top_matches \u001b[38;5;241m=\u001b[39m \u001b[38;5;241m3\u001b[39m\n\u001b[0;32m----> 5\u001b[0m \u001b[38;5;28;01mfor\u001b[39;00m query, query_embedding \u001b[38;5;129;01min\u001b[39;00m \u001b[38;5;28mzip\u001b[39m(queries, \u001b[43mquery_embeddings\u001b[49m):\n\u001b[1;32m      6\u001b[0m     distances \u001b[38;5;241m=\u001b[39m scipy\u001b[38;5;241m.\u001b[39mspatial\u001b[38;5;241m.\u001b[39mdistance\u001b[38;5;241m.\u001b[39mcdist([query_embedding], sentence_embeddings, \u001b[38;5;124m\"\u001b[39m\u001b[38;5;124mcosine\u001b[39m\u001b[38;5;124m\"\u001b[39m)[\u001b[38;5;241m0\u001b[39m]\n\u001b[1;32m      7\u001b[0m     results \u001b[38;5;241m=\u001b[39m \u001b[38;5;28mzip\u001b[39m(\u001b[38;5;28mrange\u001b[39m(\u001b[38;5;28mlen\u001b[39m(distances)), distances)\n",
      "\u001b[0;31mNameError\u001b[0m: name 'query_embeddings' is not defined"
     ]
    }
   ],
   "source": [
    "import scipy\n",
    "\n",
    "print(\"Semantic Search Results\")\n",
    "number_top_matches = 3\n",
    "for query, query_embedding in zip(queries, query_embeddings):\n",
    "    distances = scipy.spatial.distance.cdist([query_embedding], sentence_embeddings, \"cosine\")[0]\n",
    "    results = zip(range(len(distances)), distances)\n",
    "    results = sorted(results, key=lambda x: x[1])\n",
    "    print(\"Query:\", query)\n",
    "    print(\"\\nTop {} most similar sentences in corpus:\".format(number_top_matches))\n",
    "\n",
    "    for idx, distance in results[0:number_top_matches]:\n",
    "        print(sentences[idx].strip(), \"(Cosine Score: %.4f)\" % (1-distance))"
   ]
  },
  {
   "cell_type": "code",
   "execution_count": 105,
   "id": "743f190d",
   "metadata": {},
   "outputs": [],
   "source": [
    "from copy import deepcopy\n",
    "from random import randint\n",
    "\n",
    "def shuffle(lst):\n",
    "    temp_lst = deepcopy(lst)\n",
    "    m = len(temp_lst)\n",
    "    while (m):\n",
    "        m -= 1\n",
    "        i = randint(0, m)\n",
    "        temp_lst[m], temp_lst[i] = temp_lst[i], temp_lst[m]\n",
    "    return temp_lst"
   ]
  },
  {
   "cell_type": "code",
   "execution_count": 106,
   "id": "b5eb1985",
   "metadata": {},
   "outputs": [
    {
     "ename": "ModuleNotFoundError",
     "evalue": "No module named 'xlrd'",
     "output_type": "error",
     "traceback": [
      "\u001b[0;31m---------------------------------------------------------------------------\u001b[0m",
      "\u001b[0;31mModuleNotFoundError\u001b[0m                       Traceback (most recent call last)",
      "Cell \u001b[0;32mIn[106], line 1\u001b[0m\n\u001b[0;32m----> 1\u001b[0m \u001b[38;5;28;01mimport\u001b[39;00m \u001b[38;5;21;01mxlrd\u001b[39;00m\n\u001b[1;32m      2\u001b[0m f \u001b[38;5;241m=\u001b[39m xlrd\u001b[38;5;241m.\u001b[39mopen_workbook(\u001b[38;5;124m'\u001b[39m\u001b[38;5;124mKo2Cn.xlsx\u001b[39m\u001b[38;5;124m'\u001b[39m)\u001b[38;5;241m.\u001b[39msheet_by_name(\u001b[38;5;124m'\u001b[39m\u001b[38;5;124mXbench QA\u001b[39m\u001b[38;5;124m'\u001b[39m)\n\u001b[1;32m      3\u001b[0m Ko_list \u001b[38;5;241m=\u001b[39m f\u001b[38;5;241m.\u001b[39mcol_values(\u001b[38;5;241m0\u001b[39m) \u001b[38;5;66;03m#　所有的中文句子\u001b[39;00m\n",
      "\u001b[0;31mModuleNotFoundError\u001b[0m: No module named 'xlrd'"
     ]
    }
   ],
   "source": [
    "import xlrd\n",
    "f = xlrd.open_workbook('Ko2Cn.xlsx').sheet_by_name('Xbench QA')\n",
    "Ko_list = f.col_values(0) #　所有的中文句子\n",
    "Cn_list = f.col_values(1) #　所有的韩语句子\n",
    "\n",
    "shuffle_Cn_list = shuffle(Cn_list) # 所有的中文句子打乱排序\n",
    "shuffle_Ko_list = shuffle(Ko_list) #　所有的韩语句子打乱排序"
   ]
  },
  {
   "cell_type": "code",
   "execution_count": 107,
   "id": "795a44ba",
   "metadata": {},
   "outputs": [
    {
     "ename": "ModuleNotFoundError",
     "evalue": "No module named 'langchain'",
     "output_type": "error",
     "traceback": [
      "\u001b[0;31m---------------------------------------------------------------------------\u001b[0m",
      "\u001b[0;31mModuleNotFoundError\u001b[0m                       Traceback (most recent call last)",
      "Cell \u001b[0;32mIn[107], line 2\u001b[0m\n\u001b[1;32m      1\u001b[0m \u001b[38;5;66;03m# File: llm.py\u001b[39;00m\n\u001b[0;32m----> 2\u001b[0m \u001b[38;5;28;01mfrom\u001b[39;00m \u001b[38;5;21;01mlangchain\u001b[39;00m\u001b[38;5;21;01m.\u001b[39;00m\u001b[38;5;21;01mllms\u001b[39;00m \u001b[38;5;28;01mimport\u001b[39;00m CTransformers\n\u001b[1;32m      4\u001b[0m \u001b[38;5;66;03m# Local CTransformers wrapper for Llama-2-7B-Chat\u001b[39;00m\n\u001b[1;32m      5\u001b[0m llm \u001b[38;5;241m=\u001b[39m CTransformers(model\u001b[38;5;241m=\u001b[39m\u001b[38;5;124m'\u001b[39m\u001b[38;5;124mmodels/llama-2-7b-chat.ggmlv3.q8_0.bin\u001b[39m\u001b[38;5;124m'\u001b[39m, \u001b[38;5;66;03m# Location of downloaded GGML model\u001b[39;00m\n\u001b[1;32m      6\u001b[0m                     model_type\u001b[38;5;241m=\u001b[39m\u001b[38;5;124m'\u001b[39m\u001b[38;5;124mllama\u001b[39m\u001b[38;5;124m'\u001b[39m, \u001b[38;5;66;03m# Model type Llama\u001b[39;00m\n\u001b[1;32m      7\u001b[0m                     config\u001b[38;5;241m=\u001b[39m{\u001b[38;5;124m'\u001b[39m\u001b[38;5;124mmax_new_tokens\u001b[39m\u001b[38;5;124m'\u001b[39m: \u001b[38;5;241m256\u001b[39m,\n\u001b[1;32m      8\u001b[0m                             \u001b[38;5;124m'\u001b[39m\u001b[38;5;124mtemperature\u001b[39m\u001b[38;5;124m'\u001b[39m: \u001b[38;5;241m0.01\u001b[39m})\n",
      "\u001b[0;31mModuleNotFoundError\u001b[0m: No module named 'langchain'"
     ]
    }
   ],
   "source": [
    "# File: llm.py\n",
    "from langchain.llms import CTransformers\n",
    "\n",
    "# Local CTransformers wrapper for Llama-2-7B-Chat\n",
    "llm = CTransformers(model='models/llama-2-7b-chat.ggmlv3.q8_0.bin', # Location of downloaded GGML model\n",
    "                    model_type='llama', # Model type Llama\n",
    "                    config={'max_new_tokens': 256,\n",
    "                            'temperature': 0.01})\n"
   ]
  },
  {
   "cell_type": "code",
   "execution_count": 108,
   "id": "78196966",
   "metadata": {},
   "outputs": [
    {
     "ename": "ModuleNotFoundError",
     "evalue": "No module named 'langchain'",
     "output_type": "error",
     "traceback": [
      "\u001b[0;31m---------------------------------------------------------------------------\u001b[0m",
      "\u001b[0;31mModuleNotFoundError\u001b[0m                       Traceback (most recent call last)",
      "Cell \u001b[0;32mIn[108], line 2\u001b[0m\n\u001b[1;32m      1\u001b[0m \u001b[38;5;66;03m# File: utils.py\u001b[39;00m\n\u001b[0;32m----> 2\u001b[0m \u001b[38;5;28;01mfrom\u001b[39;00m \u001b[38;5;21;01mlangchain\u001b[39;00m \u001b[38;5;28;01mimport\u001b[39;00m PromptTemplate\n\u001b[1;32m      3\u001b[0m \u001b[38;5;28;01mfrom\u001b[39;00m \u001b[38;5;21;01mlangchain\u001b[39;00m\u001b[38;5;21;01m.\u001b[39;00m\u001b[38;5;21;01mchains\u001b[39;00m \u001b[38;5;28;01mimport\u001b[39;00m RetrievalQA\n\u001b[1;32m      4\u001b[0m \u001b[38;5;28;01mfrom\u001b[39;00m \u001b[38;5;21;01mlangchain\u001b[39;00m\u001b[38;5;21;01m.\u001b[39;00m\u001b[38;5;21;01membeddings\u001b[39;00m \u001b[38;5;28;01mimport\u001b[39;00m HuggingFaceEmbeddings\n",
      "\u001b[0;31mModuleNotFoundError\u001b[0m: No module named 'langchain'"
     ]
    }
   ],
   "source": [
    "# File: utils.py\n",
    "from langchain import PromptTemplate\n",
    "from langchain.chains import RetrievalQA\n",
    "from langchain.embeddings import HuggingFaceEmbeddings\n",
    "from langchain.vectorstores import FAISS\n",
    "\n",
    "# Wrap prompt template in a PromptTemplate object\n",
    "def set_qa_prompt():\n",
    "    prompt = PromptTemplate(template=qa_template,\n",
    "                            input_variables=['context', 'question'])\n",
    "    return prompt\n",
    "\n",
    "\n",
    "# Build RetrievalQA object\n",
    "def build_retrieval_qa(llm, prompt, vectordb):\n",
    "    dbqa = RetrievalQA.from_chain_type(llm=llm,\n",
    "                                       chain_type='stuff',\n",
    "                                       retriever=vectordb.as_retriever(search_kwargs={'k':2}),\n",
    "                                       return_source_documents=True,\n",
    "                                       chain_type_kwargs={'prompt': prompt})\n",
    "    return dbqa\n",
    "\n",
    "\n",
    "# Instantiate QA object\n",
    "def setup_dbqa():\n",
    "    embeddings = HuggingFaceEmbeddings(model_name=\"sentence-transformers/all-MiniLM-L6-v2\",\n",
    "                                       model_kwargs={'device': 'cpu'})\n",
    "    vectordb = FAISS.load_local('vectorstore/db_faiss', embeddings)\n",
    "    qa_prompt = set_qa_prompt()\n",
    "    dbqa = build_retrieval_qa(llm, qa_prompt, vectordb)\n",
    "\n",
    "    return dbqa"
   ]
  },
  {
   "cell_type": "code",
   "execution_count": 109,
   "id": "a8c13714",
   "metadata": {},
   "outputs": [
    {
     "name": "stderr",
     "output_type": "stream",
     "text": [
      "usage: ipykernel_launcher.py [-h] input\n",
      "ipykernel_launcher.py: error: unrecognized arguments: -f\n"
     ]
    },
    {
     "ename": "SystemExit",
     "evalue": "2",
     "output_type": "error",
     "traceback": [
      "An exception has occurred, use %tb to see the full traceback.\n",
      "\u001b[0;31mSystemExit\u001b[0m\u001b[0;31m:\u001b[0m 2\n"
     ]
    },
    {
     "name": "stderr",
     "output_type": "stream",
     "text": [
      "/root/miniconda3/envs/python39/lib/python3.9/site-packages/IPython/core/interactiveshell.py:3516: UserWarning: To exit: use 'exit', 'quit', or Ctrl-D.\n",
      "  warn(\"To exit: use 'exit', 'quit', or Ctrl-D.\", stacklevel=1)\n"
     ]
    }
   ],
   "source": [
    "# File: main.py\n",
    "import argparse\n",
    "import timeit\n",
    "\n",
    "if __name__ == \"__main__\":\n",
    "    parser = argparse.ArgumentParser()\n",
    "    parser.add_argument('input', type=str)\n",
    "    args = parser.parse_args()\n",
    "    start = timeit.default_timer() # Start timer\n",
    "\n",
    "    # Setup QA object\n",
    "    dbqa = setup_dbqa()\n",
    "    \n",
    "    # Parse input from argparse into QA object\n",
    "    response = dbqa({'query': args.input})\n",
    "    end = timeit.default_timer() # End timer\n",
    "\n",
    "    # Print document QA response\n",
    "    print(f'\\nAnswer: {response[\"result\"]}')\n",
    "    print('='*50) # Formatting separator\n",
    "\n",
    "    # Process source documents for better display\n",
    "    source_docs = response['source_documents']\n",
    "    for i, doc in enumerate(source_docs):\n",
    "        print(f'\\nSource Document {i+1}\\n')\n",
    "        print(f'Source Text: {doc.page_content}')\n",
    "        print(f'Document Name: {doc.metadata[\"source\"]}')\n",
    "        print(f'Page Number: {doc.metadata[\"page\"]}\\n')\n",
    "        print('='* 50) # Formatting separator\n",
    "        \n",
    "    # Display time taken for CPU inference\n",
    "    print(f\"Time to retrieve response: {end - start}\")"
   ]
  },
  {
   "cell_type": "code",
   "execution_count": 110,
   "id": "d7b351db",
   "metadata": {},
   "outputs": [
    {
     "ename": "ModuleNotFoundError",
     "evalue": "No module named 'ctransformers'",
     "output_type": "error",
     "traceback": [
      "\u001b[0;31m---------------------------------------------------------------------------\u001b[0m",
      "\u001b[0;31mModuleNotFoundError\u001b[0m                       Traceback (most recent call last)",
      "Cell \u001b[0;32mIn[110], line 1\u001b[0m\n\u001b[0;32m----> 1\u001b[0m \u001b[38;5;28;01mfrom\u001b[39;00m \u001b[38;5;21;01mctransformers\u001b[39;00m \u001b[38;5;28;01mimport\u001b[39;00m AutoModelForCausalLM\n\u001b[1;32m      3\u001b[0m llm \u001b[38;5;241m=\u001b[39m AutoModelForCausalLM\u001b[38;5;241m.\u001b[39mfrom_pretrained(\u001b[38;5;124m'\u001b[39m\u001b[38;5;124m/path/to/ggml-gpt-2.bin\u001b[39m\u001b[38;5;124m'\u001b[39m, model_type\u001b[38;5;241m=\u001b[39m\u001b[38;5;124m'\u001b[39m\u001b[38;5;124mgpt2\u001b[39m\u001b[38;5;124m'\u001b[39m)\n\u001b[1;32m      5\u001b[0m \u001b[38;5;28mprint\u001b[39m(llm(\u001b[38;5;124m'\u001b[39m\u001b[38;5;124mAI is going to\u001b[39m\u001b[38;5;124m'\u001b[39m))\n",
      "\u001b[0;31mModuleNotFoundError\u001b[0m: No module named 'ctransformers'"
     ]
    }
   ],
   "source": [
    "from ctransformers import AutoModelForCausalLM\n",
    "\n",
    "llm = AutoModelForCausalLM.from_pretrained('/path/to/ggml-gpt-2.bin', model_type='gpt2')\n",
    "\n",
    "print(llm('AI is going to'))\n"
   ]
  },
  {
   "cell_type": "code",
   "execution_count": 111,
   "id": "b388b8bc-94c5-4f17-982e-ed68982233f7",
   "metadata": {},
   "outputs": [],
   "source": [
    "import torch\n",
    "import torch.nn as nn\n",
    "import torch.nn.functional as F\n",
    "from torch.autograd import Variable\n",
    "\n",
    "import math\n",
    "import matplotlib.pyplot as plt\n",
    "import numpy as np\n",
    "import copy\n"
   ]
  },
  {
   "cell_type": "code",
   "execution_count": 112,
   "id": "d9fd5cf4-00d5-4c0e-9f0c-6b451acae904",
   "metadata": {},
   "outputs": [
    {
     "name": "stdout",
     "output_type": "stream",
     "text": [
      "tensor([[[-0.1218,  0.3274, -1.0497],\n",
      "         [-1.4705, -0.5454,  0.0985],\n",
      "         [-1.3776,  0.8252, -0.4031],\n",
      "         [ 1.2476,  1.0366, -1.4057]],\n",
      "\n",
      "        [[ 0.2502,  1.7113,  2.1536],\n",
      "         [ 0.2502,  1.7113,  2.1536],\n",
      "         [-1.3776,  0.8252, -0.4031],\n",
      "         [ 1.2476,  1.0366, -1.4057]]], grad_fn=<EmbeddingBackward0>)\n"
     ]
    },
    {
     "name": "stderr",
     "output_type": "stream",
     "text": [
      "/tmp/ipykernel_270556/2709177182.py:2: DeprecationWarning: an integer is required (got type float).  Implicit conversion to integers using __int__ is deprecated, and may be removed in a future version of Python.\n",
      "  inputone = torch.LongTensor([[1.4,0,5.2,9.2],[2.4,2.4,5.3,9.2]])\n"
     ]
    }
   ],
   "source": [
    "embedding = nn.Embedding(10,3)\n",
    "inputone = torch.LongTensor([[1.4,0,5.2,9.2],[2.4,2.4,5.3,9.2]])\n",
    "print(embedding(inputone))"
   ]
  },
  {
   "cell_type": "code",
   "execution_count": 113,
   "id": "5e9623ce-20e4-4529-9c7a-f67966978163",
   "metadata": {},
   "outputs": [
    {
     "name": "stdout",
     "output_type": "stream",
     "text": [
      "tensor([[[-1.4699,  0.3804, -0.0116],\n",
      "         [ 0.0000,  0.0000,  0.0000],\n",
      "         [ 1.4796, -0.2500,  0.4892],\n",
      "         [-1.8834, -1.7516,  0.3095]],\n",
      "\n",
      "        [[ 0.0693, -1.1396,  0.8325],\n",
      "         [ 0.0693, -1.1396,  0.8325],\n",
      "         [ 1.4796, -0.2500,  0.4892],\n",
      "         [-1.8834, -1.7516,  0.3095]]], grad_fn=<EmbeddingBackward0>)\n"
     ]
    },
    {
     "name": "stderr",
     "output_type": "stream",
     "text": [
      "/tmp/ipykernel_270556/1911689051.py:2: DeprecationWarning: an integer is required (got type float).  Implicit conversion to integers using __int__ is deprecated, and may be removed in a future version of Python.\n",
      "  inputone = torch.LongTensor([[1.4,0,5.2,9.2],[2.4,2.4,5.3,9.2]])\n"
     ]
    }
   ],
   "source": [
    "embedding = nn.Embedding(10,3,padding_idx=0)\n",
    "inputone = torch.LongTensor([[1.4,0,5.2,9.2],[2.4,2.4,5.3,9.2]])\n",
    "print(embedding(inputone))"
   ]
  },
  {
   "cell_type": "code",
   "execution_count": 114,
   "id": "524f33ee-d101-4c7f-89e6-09684b9dab66",
   "metadata": {},
   "outputs": [],
   "source": [
    "class Embeddings(nn.Module):\n",
    "    def __init__(self,d_model,vocar):\n",
    "        super(Embeddings,self).__init__()\n",
    "        self.luc = nn.Embedding(vocar,d_model)\n",
    "        self.d_model = d_model\n",
    "        \n",
    "    def forward(self,x):\n",
    "        return self.luc(x)*math.sqrt(self.d_model)\n",
    "        \n",
    "        \n",
    "        \n",
    "        "
   ]
  },
  {
   "cell_type": "code",
   "execution_count": 115,
   "id": "76a93394-8166-41c2-b46d-3d436a2e2931",
   "metadata": {},
   "outputs": [
    {
     "name": "stdout",
     "output_type": "stream",
     "text": [
      "tensor([[[ 15.7415, -39.3164,  50.7916,  ...,   3.9126, -46.1454,  -8.2823],\n",
      "         [-34.8996,  59.3233,  37.8397,  ...,  19.8556, -46.5445, -32.5431],\n",
      "         [  8.1156,  -2.4879,  10.5624,  ..., -66.1194, -15.6785,   7.9012],\n",
      "         [ 38.1558,  -4.4846,  -1.3562,  ...,  -9.6679, -27.8175,  29.6419]],\n",
      "\n",
      "        [[ 38.6331,  15.4790,  -7.1036,  ..., -14.1829,  24.0695,  -5.6766],\n",
      "         [ 38.6331,  15.4790,  -7.1036,  ..., -14.1829,  24.0695,  -5.6766],\n",
      "         [  8.1156,  -2.4879,  10.5624,  ..., -66.1194, -15.6785,   7.9012],\n",
      "         [ 38.1558,  -4.4846,  -1.3562,  ...,  -9.6679, -27.8175,  29.6419]]],\n",
      "       grad_fn=<MulBackward0>)\n"
     ]
    },
    {
     "name": "stderr",
     "output_type": "stream",
     "text": [
      "/tmp/ipykernel_270556/1730002604.py:3: DeprecationWarning: an integer is required (got type float).  Implicit conversion to integers using __int__ is deprecated, and may be removed in a future version of Python.\n",
      "  x =Variable(torch.LongTensor([[1.4,0,5.2,9.2],[2.4,2.4,5.3,9.2]]))\n"
     ]
    }
   ],
   "source": [
    "vocab =1000 \n",
    "modedem = 512\n",
    "x =Variable(torch.LongTensor([[1.4,0,5.2,9.2],[2.4,2.4,5.3,9.2]]))\n",
    "\n",
    "modes = Embeddings(vocab,modedem)\n",
    "modes = modes(x)\n",
    "print(modes)"
   ]
  },
  {
   "cell_type": "code",
   "execution_count": 116,
   "id": "339daef8-9081-404b-aa5d-3b8514f3578e",
   "metadata": {},
   "outputs": [],
   "source": [
    "class Embedding(nn.Module):\n",
    "    def __init__(self,d_modle,vocab):\n",
    "        super(Embedding,self).__init__()\n",
    "        self.lut = nn.Embedding(vocab,d_modle)\n",
    "        self.d_modle = d_modle\n",
    "    def forward(self,x):\n",
    "        return self.lut(x)*math.sqrt(self.d_modle)\n",
    "    \n",
    "    "
   ]
  },
  {
   "cell_type": "code",
   "execution_count": 117,
   "id": "68b93235-0932-43c9-adc6-7f55a1f14e51",
   "metadata": {},
   "outputs": [
    {
     "name": "stdout",
     "output_type": "stream",
     "text": [
      "tensor([[[-0.4879,  0.7472, -1.1997,  ...,  0.3408, -0.5812,  0.6933],\n",
      "         [ 0.0241,  0.3131, -0.4914,  ...,  1.1138, -0.0026,  0.4727],\n",
      "         [-0.4141,  0.6720, -0.6174,  ..., -1.0341,  0.6352, -0.9336],\n",
      "         [ 0.1662, -1.0009,  0.7922,  ...,  0.3526, -0.1321,  0.0987]],\n",
      "\n",
      "        [[-2.1572,  0.2398, -1.3426,  ...,  0.3488, -2.1380, -0.7307],\n",
      "         [-2.1572,  0.2398, -1.3426,  ...,  0.3488, -2.1380, -0.7307],\n",
      "         [-0.4141,  0.6720, -0.6174,  ..., -1.0341,  0.6352, -0.9336],\n",
      "         [ 0.1662, -1.0009,  0.7922,  ...,  0.3526, -0.1321,  0.0987]]],\n",
      "       grad_fn=<EmbeddingBackward0>)\n"
     ]
    },
    {
     "name": "stderr",
     "output_type": "stream",
     "text": [
      "/tmp/ipykernel_270556/911744683.py:3: DeprecationWarning: an integer is required (got type float).  Implicit conversion to integers using __int__ is deprecated, and may be removed in a future version of Python.\n",
      "  x = Variable(torch.LongTensor([[1.4,0,5.2,9.2],[2.4,2.4,5.3,9.2]]))\n"
     ]
    }
   ],
   "source": [
    "demi = 512\n",
    "vocab = 1000\n",
    "x = Variable(torch.LongTensor([[1.4,0,5.2,9.2],[2.4,2.4,5.3,9.2]]))\n",
    "\n",
    "md = nn.Embedding(vocab,demi)\n",
    "sd = md(x)\n",
    "print(sd)\n"
   ]
  },
  {
   "cell_type": "code",
   "execution_count": 118,
   "id": "a3c1db61-82a0-419b-8a9b-7b263260328b",
   "metadata": {},
   "outputs": [],
   "source": [
    "class PositionEmbeeding(nn.Module):\n",
    "    def __init__(self,dims,dropout,maxlen=5000):\n",
    "        super(PositionEmbeeding,self).__init__()\n",
    "        self.dropout = nn.Dropout(p = dropout)\n",
    "        pe = torch.zeros(maxlen,dims)\n",
    "        position =torch.arange(0,maxlen).unsqueeze(1)\n",
    "        \n",
    "        divterm = torch.exp(torch.arange(0,dims,2)*-(math.log(10000.0)/dims))\n",
    "        pe[:,0::2] = torch.sin(position*divterm)\n",
    "        pe[:,1::2] = torch.cos(position*divterm)\n",
    "        \n",
    "        \n",
    "        pe = pe.unsqueeze(0)\n",
    "        \n",
    "        self.register_buffer('pe',pe)\n",
    "        \n",
    "    def forward(self,x):\n",
    "        x = x + Variable(self.pe[:,x.size(1)],requires_grad = False)\n",
    "        return self.dropout(x)\n",
    "\n",
    "        \n",
    "        \n",
    "        \n",
    "        "
   ]
  },
  {
   "cell_type": "code",
   "execution_count": 119,
   "id": "d94baa9b-0362-4d53-92f4-8dc4e0c0936e",
   "metadata": {},
   "outputs": [
    {
     "name": "stdout",
     "output_type": "stream",
     "text": [
      "tensor([[[-1.3830e+00,  1.0396e-01, -2.0632e+00,  ...,  1.4898e+00,\n",
      "          -0.0000e+00,  1.8814e+00],\n",
      "         [-8.1408e-01, -3.7837e-01, -1.2762e+00,  ...,  2.3487e+00,\n",
      "          -2.3932e-03,  1.6363e+00],\n",
      "         [-1.3010e+00,  2.0446e-02, -1.4162e+00,  ..., -3.7910e-02,\n",
      "           7.0628e-01,  7.3801e-02],\n",
      "         [-6.5627e-01, -1.8384e+00,  1.5000e-01,  ...,  0.0000e+00,\n",
      "          -0.0000e+00,  0.0000e+00]],\n",
      "\n",
      "        [[-0.0000e+00, -4.5979e-01, -2.2220e+00,  ...,  1.4987e+00,\n",
      "          -2.3751e+00,  2.9918e-01],\n",
      "         [-3.2378e+00, -4.5979e-01, -2.2220e+00,  ...,  1.4987e+00,\n",
      "          -2.3751e+00,  2.9918e-01],\n",
      "         [-1.3010e+00,  2.0446e-02, -1.4162e+00,  ..., -3.7910e-02,\n",
      "           7.0628e-01,  7.3801e-02],\n",
      "         [-6.5627e-01, -0.0000e+00,  1.5000e-01,  ...,  1.5029e+00,\n",
      "          -1.4629e-01,  1.2208e+00]]], grad_fn=<MulBackward0>)\n",
      "torch.Size([2, 4, 512])\n"
     ]
    }
   ],
   "source": [
    "dims = 512\n",
    "dropout = 0.1\n",
    "maxlen = 100\n",
    "\n",
    "x = sd\n",
    "pe = PositionEmbeeding(dims,dropout,maxlen)\n",
    "pe_re = pe(x)\n",
    "print(pe_re)\n",
    "print(pe_re.shape)"
   ]
  },
  {
   "cell_type": "code",
   "execution_count": 120,
   "id": "5d62022c-90e3-499d-a352-1802b09943ec",
   "metadata": {},
   "outputs": [
    {
     "name": "stdout",
     "output_type": "stream",
     "text": [
      "[[ 33 333 334   2   3   4   2   3]\n",
      " [ 33 333 334   2   3   4   2   3]\n",
      " [  0 333 334   2   3   4   2   3]\n",
      " [  0   0 334   2   3   4   2   3]]\n"
     ]
    }
   ],
   "source": [
    "print(np.triu([[33,333,334,2,3,4,2,3],[33,333,334,2,3,4,2,3],[33,333,334,2,3,4,2,3],[33,333,334,2,3,4,2,3]], k= -1))"
   ]
  },
  {
   "cell_type": "code",
   "execution_count": null,
   "id": "aad0d397-dadb-4a52-9e54-70910a3bc909",
   "metadata": {},
   "outputs": [],
   "source": []
  },
  {
   "cell_type": "code",
   "execution_count": 121,
   "id": "d132f702-d281-4e23-a709-697ebfef8bb2",
   "metadata": {},
   "outputs": [
    {
     "name": "stdout",
     "output_type": "stream",
     "text": [
      "tensor([[[1, 0, 0, 0, 0],\n",
      "         [1, 1, 0, 0, 0],\n",
      "         [1, 1, 1, 0, 0],\n",
      "         [1, 1, 1, 1, 0],\n",
      "         [1, 1, 1, 1, 1]]], dtype=torch.uint8)\n"
     ]
    }
   ],
   "source": [
    "def subsquence_mask(size):\n",
    "    attn_shape = (1,size,size)\n",
    "    \n",
    "    subsquence_mask =np.triu(np.ones(attn_shape),k = 1).astype('uint8')\n",
    "    \n",
    "    return torch.from_numpy(1-subsquence_mask)\n",
    "\n",
    "size = 5\n",
    "sm = subsquence_mask(size)\n",
    "\n",
    "print(sm)"
   ]
  },
  {
   "cell_type": "code",
   "execution_count": 122,
   "id": "8d9d8302-0fd6-4988-85d2-fad26d33f986",
   "metadata": {},
   "outputs": [
    {
     "data": {
      "text/plain": [
       "<matplotlib.image.AxesImage at 0x7f008cbecd60>"
      ]
     },
     "execution_count": 122,
     "metadata": {},
     "output_type": "execute_result"
    },
    {
     "data": {
      "image/png": "[encoded data removed]",
      "text/plain": [
       "<Figure size 500x500 with 1 Axes>"
      ]
     },
     "metadata": {},
     "output_type": "display_data"
    }
   ],
   "source": [
    "plt.figure(figsize=(5,5))\n",
    "plt.imshow(subsquence_mask(20)[0])"
   ]
  },
  {
   "cell_type": "code",
   "execution_count": 123,
   "id": "e9e790f3-e0cb-4878-8421-6fdfbeb84fc4",
   "metadata": {},
   "outputs": [],
   "source": [
    "import pandas as pd\n",
    "import numpy as np"
   ]
  },
  {
   "cell_type": "code",
   "execution_count": 124,
   "id": "996236ac-154b-4dc8-a7f6-533a65232399",
   "metadata": {},
   "outputs": [
    {
     "name": "stderr",
     "output_type": "stream",
     "text": [
      "/tmp/ipykernel_270556/1100652774.py:2: DtypeWarning: Columns (6,12,18,35,36,41,42,44,48,50) have mixed types. Specify dtype option on import or set low_memory=False.\n",
      "  nuclear = pd.read_csv(path)\n"
     ]
    }
   ],
   "source": [
    "path = '../../data/fzdata/ExportSample.csv'\n",
    "nuclear = pd.read_csv(path)"
   ]
  },
  {
   "cell_type": "code",
   "execution_count": 125,
   "id": "d846f474-b623-479c-8d45-a8cea2819efb",
   "metadata": {},
   "outputs": [
    {
     "data": {
      "text/html": [
       "<div>\n",
       "<style scoped>\n",
       "    .dataframe tbody tr th:only-of-type {\n",
       "        vertical-align: middle;\n",
       "    }\n",
       "\n",
       "    .dataframe tbody tr th {\n",
       "        vertical-align: top;\n",
       "    }\n",
       "\n",
       "    .dataframe thead th {\n",
       "        text-align: right;\n",
       "    }\n",
       "</style>\n",
       "<table border=\"1\" class=\"dataframe\">\n",
       "  <thead>\n",
       "    <tr style=\"text-align: right;\">\n",
       "      <th></th>\n",
       "      <th>MARIS sample ID</th>\n",
       "      <th>Sample type</th>\n",
       "      <th>Laboratory</th>\n",
       "      <th>Latitude (decimal)</th>\n",
       "      <th>Longitude (decimal)</th>\n",
       "      <th>Station ID</th>\n",
       "      <th>Data provider's sample ID</th>\n",
       "      <th>MARIS Profile ID</th>\n",
       "      <th>MARIS Transect ID</th>\n",
       "      <th>Sampling depth (m)</th>\n",
       "      <th>...</th>\n",
       "      <th>Counting method</th>\n",
       "      <th>MARIS reference ID</th>\n",
       "      <th>Reference/Citation</th>\n",
       "      <th>Zotero URL</th>\n",
       "      <th>Reference note</th>\n",
       "      <th>Sample note</th>\n",
       "      <th>Measurement note</th>\n",
       "      <th>Activity Corrected</th>\n",
       "      <th>Uncertanity Corrected</th>\n",
       "      <th>Unit Corrected</th>\n",
       "    </tr>\n",
       "  </thead>\n",
       "  <tbody>\n",
       "    <tr>\n",
       "      <th>0</th>\n",
       "      <td>67809</td>\n",
       "      <td>Seawater</td>\n",
       "      <td>NOT AVAILABLE</td>\n",
       "      <td>-55.50</td>\n",
       "      <td>118.583333</td>\n",
       "      <td>NaN</td>\n",
       "      <td>13739</td>\n",
       "      <td>NaN</td>\n",
       "      <td>NaN</td>\n",
       "      <td>0.0</td>\n",
       "      <td>...</td>\n",
       "      <td>NaN</td>\n",
       "      <td>99</td>\n",
       "      <td>Aoyama, M., Hirose, K., 2004. HAM 2008 - Histo...</td>\n",
       "      <td>https://www.zotero.org/groups/2432820/maris/it...</td>\n",
       "      <td>NaN</td>\n",
       "      <td>Author: Yasuo Miyake et al.. Unknown latitude ...</td>\n",
       "      <td>NaN</td>\n",
       "      <td>NaN</td>\n",
       "      <td>NaN</td>\n",
       "      <td>NaN</td>\n",
       "    </tr>\n",
       "    <tr>\n",
       "      <th>1</th>\n",
       "      <td>64065</td>\n",
       "      <td>Seawater</td>\n",
       "      <td>NOT AVAILABLE</td>\n",
       "      <td>-28.35</td>\n",
       "      <td>105.016667</td>\n",
       "      <td>CRP14</td>\n",
       "      <td>9903</td>\n",
       "      <td>NaN</td>\n",
       "      <td>NaN</td>\n",
       "      <td>0.0</td>\n",
       "      <td>...</td>\n",
       "      <td>NaN</td>\n",
       "      <td>99</td>\n",
       "      <td>Aoyama, M., Hirose, K., 2004. HAM 2008 - Histo...</td>\n",
       "      <td>https://www.zotero.org/groups/2432820/maris/it...</td>\n",
       "      <td>NaN</td>\n",
       "      <td>Author: R.  Delfanti et. al. Unknown latitude ...</td>\n",
       "      <td>NaN</td>\n",
       "      <td>NaN</td>\n",
       "      <td>NaN</td>\n",
       "      <td>NaN</td>\n",
       "    </tr>\n",
       "    <tr>\n",
       "      <th>2</th>\n",
       "      <td>69552</td>\n",
       "      <td>Seawater</td>\n",
       "      <td>NOT AVAILABLE</td>\n",
       "      <td>-31.25</td>\n",
       "      <td>34.100000</td>\n",
       "      <td>NaN</td>\n",
       "      <td>15495</td>\n",
       "      <td>NaN</td>\n",
       "      <td>NaN</td>\n",
       "      <td>0.0</td>\n",
       "      <td>...</td>\n",
       "      <td>NaN</td>\n",
       "      <td>99</td>\n",
       "      <td>Aoyama, M., Hirose, K., 2004. HAM 2008 - Histo...</td>\n",
       "      <td>https://www.zotero.org/groups/2432820/maris/it...</td>\n",
       "      <td>NaN</td>\n",
       "      <td>Author: Nagaya et al.. Unknown latitude and lo...</td>\n",
       "      <td>NaN</td>\n",
       "      <td>NaN</td>\n",
       "      <td>NaN</td>\n",
       "      <td>NaN</td>\n",
       "    </tr>\n",
       "    <tr>\n",
       "      <th>3</th>\n",
       "      <td>69552</td>\n",
       "      <td>Seawater</td>\n",
       "      <td>NOT AVAILABLE</td>\n",
       "      <td>-31.25</td>\n",
       "      <td>34.100000</td>\n",
       "      <td>NaN</td>\n",
       "      <td>15495</td>\n",
       "      <td>NaN</td>\n",
       "      <td>NaN</td>\n",
       "      <td>0.0</td>\n",
       "      <td>...</td>\n",
       "      <td>NaN</td>\n",
       "      <td>99</td>\n",
       "      <td>Aoyama, M., Hirose, K., 2004. HAM 2008 - Histo...</td>\n",
       "      <td>https://www.zotero.org/groups/2432820/maris/it...</td>\n",
       "      <td>NaN</td>\n",
       "      <td>Author: Nagaya et al.. Unknown latitude and lo...</td>\n",
       "      <td>NaN</td>\n",
       "      <td>NaN</td>\n",
       "      <td>NaN</td>\n",
       "      <td>NaN</td>\n",
       "    </tr>\n",
       "    <tr>\n",
       "      <th>4</th>\n",
       "      <td>64228</td>\n",
       "      <td>Seawater</td>\n",
       "      <td>NOT AVAILABLE</td>\n",
       "      <td>-34.75</td>\n",
       "      <td>105.800000</td>\n",
       "      <td>Indian Ocean</td>\n",
       "      <td>10071</td>\n",
       "      <td>NaN</td>\n",
       "      <td>NaN</td>\n",
       "      <td>0.0</td>\n",
       "      <td>...</td>\n",
       "      <td>NaN</td>\n",
       "      <td>99</td>\n",
       "      <td>Aoyama, M., Hirose, K., 2004. HAM 2008 - Histo...</td>\n",
       "      <td>https://www.zotero.org/groups/2432820/maris/it...</td>\n",
       "      <td>NaN</td>\n",
       "      <td>Author: T.F.Folsom et al. Cruise: 39. Unknown ...</td>\n",
       "      <td>NaN</td>\n",
       "      <td>NaN</td>\n",
       "      <td>NaN</td>\n",
       "      <td>NaN</td>\n",
       "    </tr>\n",
       "  </tbody>\n",
       "</table>\n",
       "<p>5 rows × 54 columns</p>\n",
       "</div>"
      ],
      "text/plain": [
       "   MARIS sample ID Sample type     Laboratory  Latitude (decimal)   \n",
       "0            67809    Seawater  NOT AVAILABLE              -55.50  \\\n",
       "1            64065    Seawater  NOT AVAILABLE              -28.35   \n",
       "2            69552    Seawater  NOT AVAILABLE              -31.25   \n",
       "3            69552    Seawater  NOT AVAILABLE              -31.25   \n",
       "4            64228    Seawater  NOT AVAILABLE              -34.75   \n",
       "\n",
       "   Longitude (decimal)    Station ID Data provider's sample ID   \n",
       "0           118.583333           NaN                     13739  \\\n",
       "1           105.016667         CRP14                      9903   \n",
       "2            34.100000           NaN                     15495   \n",
       "3            34.100000           NaN                     15495   \n",
       "4           105.800000  Indian Ocean                     10071   \n",
       "\n",
       "   MARIS Profile ID  MARIS Transect ID  Sampling depth (m)  ...   \n",
       "0               NaN                NaN                 0.0  ...  \\\n",
       "1               NaN                NaN                 0.0  ...   \n",
       "2               NaN                NaN                 0.0  ...   \n",
       "3               NaN                NaN                 0.0  ...   \n",
       "4               NaN                NaN                 0.0  ...   \n",
       "\n",
       "   Counting method MARIS reference ID   \n",
       "0              NaN                 99  \\\n",
       "1              NaN                 99   \n",
       "2              NaN                 99   \n",
       "3              NaN                 99   \n",
       "4              NaN                 99   \n",
       "\n",
       "                                  Reference/Citation   \n",
       "0  Aoyama, M., Hirose, K., 2004. HAM 2008 - Histo...  \\\n",
       "1  Aoyama, M., Hirose, K., 2004. HAM 2008 - Histo...   \n",
       "2  Aoyama, M., Hirose, K., 2004. HAM 2008 - Histo...   \n",
       "3  Aoyama, M., Hirose, K., 2004. HAM 2008 - Histo...   \n",
       "4  Aoyama, M., Hirose, K., 2004. HAM 2008 - Histo...   \n",
       "\n",
       "                                          Zotero URL Reference note   \n",
       "0  https://www.zotero.org/groups/2432820/maris/it...            NaN  \\\n",
       "1  https://www.zotero.org/groups/2432820/maris/it...            NaN   \n",
       "2  https://www.zotero.org/groups/2432820/maris/it...            NaN   \n",
       "3  https://www.zotero.org/groups/2432820/maris/it...            NaN   \n",
       "4  https://www.zotero.org/groups/2432820/maris/it...            NaN   \n",
       "\n",
       "                                         Sample note  Measurement note   \n",
       "0  Author: Yasuo Miyake et al.. Unknown latitude ...               NaN  \\\n",
       "1  Author: R.  Delfanti et. al. Unknown latitude ...               NaN   \n",
       "2  Author: Nagaya et al.. Unknown latitude and lo...               NaN   \n",
       "3  Author: Nagaya et al.. Unknown latitude and lo...               NaN   \n",
       "4  Author: T.F.Folsom et al. Cruise: 39. Unknown ...               NaN   \n",
       "\n",
       "  Activity Corrected Uncertanity Corrected  Unit Corrected  \n",
       "0                NaN                   NaN             NaN  \n",
       "1                NaN                   NaN             NaN  \n",
       "2                NaN                   NaN             NaN  \n",
       "3                NaN                   NaN             NaN  \n",
       "4                NaN                   NaN             NaN  \n",
       "\n",
       "[5 rows x 54 columns]"
      ]
     },
     "execution_count": 125,
     "metadata": {},
     "output_type": "execute_result"
    }
   ],
   "source": [
    "nuclear.head()"
   ]
  },
  {
   "cell_type": "code",
   "execution_count": 126,
   "id": "3848a836-a49f-4418-9a20-8844ff080e8c",
   "metadata": {},
   "outputs": [
    {
     "data": {
      "text/plain": [
       "0         https://www.zotero.org/groups/2432820/maris/it...\n",
       "1         https://www.zotero.org/groups/2432820/maris/it...\n",
       "2         https://www.zotero.org/groups/2432820/maris/it...\n",
       "3         https://www.zotero.org/groups/2432820/maris/it...\n",
       "4         https://www.zotero.org/groups/2432820/maris/it...\n",
       "                                ...                        \n",
       "413100    https://www.zotero.org/groups/2432820/maris/it...\n",
       "413101    https://www.zotero.org/groups/2432820/maris/it...\n",
       "413102    https://www.zotero.org/groups/2432820/maris/it...\n",
       "413103    https://www.zotero.org/groups/2432820/maris/it...\n",
       "413104    https://www.zotero.org/groups/2432820/maris/it...\n",
       "Name: Zotero URL, Length: 413105, dtype: object"
      ]
     },
     "execution_count": 126,
     "metadata": {},
     "output_type": "execute_result"
    }
   ],
   "source": [
    "nuclear['Zotero URL']"
   ]
  },
  {
   "cell_type": "code",
   "execution_count": null,
   "id": "bb2de4fe-703f-4367-8483-6172056ce2a2",
   "metadata": {},
   "outputs": [],
   "source": []
  },
  {
   "cell_type": "code",
   "execution_count": null,
   "id": "f344c9ff-bd9e-4a6b-99cc-df6118c8c6d2",
   "metadata": {},
   "outputs": [],
   "source": []
  },
  {
   "cell_type": "code",
   "execution_count": null,
   "id": "17ff7829-192f-41b0-af52-b4c957bdb460",
   "metadata": {},
   "outputs": [],
   "source": []
  },
  {
   "cell_type": "code",
   "execution_count": null,
   "id": "febb15c1-2a70-49d7-9e75-25e6386254cc",
   "metadata": {},
   "outputs": [],
   "source": []
  },
  {
   "cell_type": "code",
   "execution_count": null,
   "id": "b0c7d8d4-19d9-402d-94e9-4eda28a14a6d",
   "metadata": {},
   "outputs": [],
   "source": []
  },
  {
   "cell_type": "code",
   "execution_count": null,
   "id": "20d6b58a-8b5a-4a3d-be22-e7360e54576d",
   "metadata": {},
   "outputs": [],
   "source": []
  },
  {
   "cell_type": "code",
   "execution_count": null,
   "id": "cfdd05c4-23c7-4846-832b-a8c8492ba5f2",
   "metadata": {},
   "outputs": [],
   "source": []
  },
  {
   "cell_type": "code",
   "execution_count": null,
   "id": "93f315e3-3631-47eb-bfee-cd1b1afbdaa1",
   "metadata": {},
   "outputs": [],
   "source": []
  },
  {
   "cell_type": "code",
   "execution_count": null,
   "id": "f5a5b418-8e3d-469f-aad3-a01821cea7ef",
   "metadata": {},
   "outputs": [],
   "source": []
  },
  {
   "cell_type": "code",
   "execution_count": null,
   "id": "fe735c19-a47d-4136-ba4e-7139ea780bf2",
   "metadata": {},
   "outputs": [],
   "source": []
  },
  {
   "cell_type": "code",
   "execution_count": null,
   "id": "3f1ffa91-72a4-44ed-8665-1ab1eabf2d76",
   "metadata": {},
   "outputs": [],
   "source": []
  },
  {
   "cell_type": "code",
   "execution_count": null,
   "id": "7d0a48f1-68bc-4e6b-b21a-c357f2b585db",
   "metadata": {},
   "outputs": [],
   "source": []
  },
  {
   "cell_type": "code",
   "execution_count": null,
   "id": "6c9d9767-7521-426a-9687-8fc5ca0d527c",
   "metadata": {},
   "outputs": [],
   "source": []
  },
  {
   "cell_type": "code",
   "execution_count": null,
   "id": "5b2db51f-31f3-4b2e-ac9b-d7071ee76238",
   "metadata": {},
   "outputs": [],
   "source": []
  },
  {
   "cell_type": "code",
   "execution_count": null,
   "id": "d97cf9fc-ca62-4fd8-9404-55ec1e877952",
   "metadata": {},
   "outputs": [],
   "source": []
  },
  {
   "cell_type": "code",
   "execution_count": null,
   "id": "e9a2a10c-74b6-41f8-bd4d-dbba5405d608",
   "metadata": {},
   "outputs": [],
   "source": []
  },
  {
   "cell_type": "code",
   "execution_count": null,
   "id": "5aa78431-e29d-4cfc-9849-d77a7f043212",
   "metadata": {},
   "outputs": [],
   "source": []
  },
  {
   "cell_type": "code",
   "execution_count": null,
   "id": "781caf2a-87e6-41d9-8ab0-a6c0a3570caa",
   "metadata": {},
   "outputs": [],
   "source": []
  },
  {
   "cell_type": "code",
   "execution_count": null,
   "id": "33469f87-17ab-4ce5-b7ab-273d9ed76daf",
   "metadata": {},
   "outputs": [],
   "source": []
  },
  {
   "cell_type": "code",
   "execution_count": null,
   "id": "2242428d-3d83-441a-a366-24610ff1824c",
   "metadata": {},
   "outputs": [],
   "source": []
  },
  {
   "cell_type": "code",
   "execution_count": null,
   "id": "4ba7bb70-4f3f-4ef2-8156-461758971680",
   "metadata": {},
   "outputs": [],
   "source": []
  },
  {
   "cell_type": "code",
   "execution_count": null,
   "id": "251cdb7a-228b-4eed-a49d-b769e5726449",
   "metadata": {},
   "outputs": [],
   "source": []
  },
  {
   "cell_type": "code",
   "execution_count": null,
   "id": "8d3b0269-c382-4b4a-a499-69d904a56d02",
   "metadata": {},
   "outputs": [],
   "source": []
  },
  {
   "cell_type": "code",
   "execution_count": null,
   "id": "1cd8f2d3-49f1-4b25-9248-5dd36c128503",
   "metadata": {},
   "outputs": [],
   "source": []
  },
  {
   "cell_type": "code",
   "execution_count": null,
   "id": "d32fb39f-7d62-4ddd-a9c6-ba7d01ced141",
   "metadata": {},
   "outputs": [],
   "source": []
  },
  {
   "cell_type": "code",
   "execution_count": null,
   "id": "11a0f477-a460-406f-b337-36318e11c4c2",
   "metadata": {},
   "outputs": [],
   "source": []
  },
  {
   "cell_type": "code",
   "execution_count": null,
   "id": "1f40079c-c5b4-4d60-9a7b-b98f4dfc389e",
   "metadata": {},
   "outputs": [],
   "source": []
  },
  {
   "cell_type": "code",
   "execution_count": null,
   "id": "874c754e-b373-443f-b582-609a30f11ae2",
   "metadata": {},
   "outputs": [],
   "source": []
  },
  {
   "cell_type": "code",
   "execution_count": null,
   "id": "f24595aa-25fe-4229-9194-0d99f2579c7f",
   "metadata": {},
   "outputs": [],
   "source": []
  },
  {
   "cell_type": "code",
   "execution_count": null,
   "id": "e3b59ba6-14bb-4ff0-b6a6-5b13d18b6504",
   "metadata": {},
   "outputs": [],
   "source": []
  }
 ],
 "metadata": {
  "kernelspec": {
   "display_name": "Python 3 (ipykernel)",
   "language": "python",
   "name": "python3"
  },
  "language_info": {
   "codemirror_mode": {
    "name": "ipython",
    "version": 3
   },
   "file_extension": ".py",
   "mimetype": "text/x-python",
   "name": "python",
   "nbconvert_exporter": "python",
   "pygments_lexer": "ipython3",
   "version": "3.9.16"
  }
 },
 "nbformat": 4,
 "nbformat_minor": 5
}
