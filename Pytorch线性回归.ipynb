{
 "cells": [
  {
   "cell_type": "code",
   "execution_count": null,
   "id": "bf26f738",
   "metadata": {},
   "outputs": [
    {
     "name": "stdout",
     "output_type": "stream",
     "text": [
      "Net(\n",
      "  (hidden1): Linear(in_features=1, out_features=50, bias=True)\n",
      "  (hidden2): Linear(in_features=50, out_features=50, bias=True)\n",
      "  (predict): Linear(in_features=50, out_features=1, bias=True)\n",
      ")\n"
     ]
    }
   ],
   "source": [
    "import torch\n",
    "import torch.nn as nn\n",
    "import torch.nn.functional as F\n",
    "import matplotlib.pyplot as plt\n",
    "from torch.autograd import Variable\n",
    "import time\n",
    "from IPython import display \n",
    "\n",
    "time_start=time.time()\n",
    "x = torch.unsqueeze(torch.linspace(-1,1,100),dim=1)\n",
    "y = x.pow(3)+0.05*torch.randn(x.size())\n",
    "x , y =(Variable(x),Variable(y))\n",
    "torch.set_num_threads(80)  # 设置pytorch并行线程数\n",
    "\n",
    "class Net(nn.Module):\n",
    "    def __init__(self,n_input,n_hidden,n_output):\n",
    "        super(Net,self).__init__()\n",
    "        self.hidden1 = nn.Linear(n_input,n_hidden)\n",
    "        self.hidden2 = nn.Linear(n_hidden,n_hidden)\n",
    "        self.predict = nn.Linear(n_hidden,n_output)\n",
    "    def forward(self,input):\n",
    "        out = self.hidden1(input)\n",
    "        out = F.relu(out)\n",
    "        out = self.hidden2(out)\n",
    "        out = F.sigmoid(out)\n",
    "        out =self.predict(out)\n",
    "        return out\n",
    "\n",
    "net = Net(1,50,1)\n",
    "print(net)\n",
    "learning_rate = 1e-1\n",
    "optimizer = torch.optim.SGD(net.parameters(),lr = learning_rate)\n",
    "loss_func = torch.nn.MSELoss()\n",
    "#plt.ion()\n",
    "#plt.show()\n",
    "\n",
    "for t in range(5000):\n",
    "    prediction = net(x)\n",
    "    loss = loss_func(prediction,y)    \n",
    "    optimizer.zero_grad()\n",
    "    loss.backward()\n",
    "    optimizer.step()\n",
    "\n",
    "    if t%200 ==0:\n",
    "        plt.cla()\n",
    "        display.clear_output(wait=True)\n",
    "        plt.scatter(x.data.numpy(), y.data.numpy())\n",
    "        plt.plot(x.data.numpy(), prediction.data.numpy(), 'r-', lw=5)\n",
    "        plt.text(0.5, 0, 'Loss = %.4f' % loss.data, fontdict={'size': 20, 'color': 'red'})\n",
    "        plt.text(0.5, 1, 'Count =%.4f' % t,fontdict={'size':15,'color':'green'})\n",
    "        plt.pause(0.0005)\n",
    "        \n",
    "#plt.ioff()\n",
    "#plt.show()\n",
    "time_end=time.time()\n",
    "print('time cost',time_end-time_start,'s')\n",
    "print(x.size(),y.size())\n",
    "print(torch.get_num_threads())"
   ]
  },
  {
   "cell_type": "code",
   "execution_count": 1,
   "id": "7d2feae6",
   "metadata": {},
   "outputs": [
    {
     "ename": "NameError",
     "evalue": "name 'torch' is not defined",
     "output_type": "error",
     "traceback": [
      "\u001b[1;31m---------------------------------------------------------------------------\u001b[0m",
      "\u001b[1;31mNameError\u001b[0m                                 Traceback (most recent call last)",
      "\u001b[1;32m~\\AppData\\Local\\Temp/ipykernel_13828/1696163416.py\u001b[0m in \u001b[0;36m<module>\u001b[1;34m\u001b[0m\n\u001b[1;32m----> 1\u001b[1;33m \u001b[0mx2\u001b[0m \u001b[1;33m=\u001b[0m \u001b[0mtorch\u001b[0m\u001b[1;33m.\u001b[0m\u001b[0munsqueeze\u001b[0m\u001b[1;33m(\u001b[0m\u001b[0mtorch\u001b[0m\u001b[1;33m.\u001b[0m\u001b[0mlinspace\u001b[0m\u001b[1;33m(\u001b[0m\u001b[1;33m-\u001b[0m\u001b[1;36m1\u001b[0m\u001b[1;33m,\u001b[0m\u001b[1;36m1\u001b[0m\u001b[1;33m,\u001b[0m\u001b[1;36m100\u001b[0m\u001b[1;33m)\u001b[0m\u001b[1;33m,\u001b[0m\u001b[0mdim\u001b[0m\u001b[1;33m=\u001b[0m\u001b[1;36m1\u001b[0m\u001b[1;33m)\u001b[0m\u001b[1;33m\u001b[0m\u001b[1;33m\u001b[0m\u001b[0m\n\u001b[0m",
      "\u001b[1;31mNameError\u001b[0m: name 'torch' is not defined"
     ]
    }
   ],
   "source": [
    "x2 = torch.unsqueeze(torch.linspace(-1,1,100),dim=1)"
   ]
  },
  {
   "cell_type": "code",
   "execution_count": 4,
   "id": "3e092a32",
   "metadata": {},
   "outputs": [
    {
     "data": {
      "image/png": "[encoded data removed]",
      "text/plain": [
       "<Figure size 640x480 with 1 Axes>"
      ]
     },
     "metadata": {},
     "output_type": "display_data"
    }
   ],
   "source": [
    "y_preds=net(x2)\n",
    "y2 = x.pow(3) +0.05*torch.randn(x.size())\n",
    "x2,y_preds = (Variable(x2),Variable(y_preds))\n",
    "plt.scatter(x2,y2,c='black')\n",
    "plt.scatter(x2.data,y_preds.data,c='red',marker='_')\n",
    "plt.show()\n"
   ]
  },
  {
   "cell_type": "code",
   "execution_count": 22,
   "id": "f929c72f",
   "metadata": {},
   "outputs": [
    {
     "name": "stdout",
     "output_type": "stream",
     "text": [
      "hidden1.weight : torch.Size([20, 1])\n",
      "hidden1.bias : torch.Size([20])\n",
      "hidden2.weight : torch.Size([20, 20])\n",
      "hidden2.bias : torch.Size([20])\n",
      "predict.weight : torch.Size([1, 20])\n",
      "predict.bias : torch.Size([1])\n"
     ]
    }
   ],
   "source": [
    "for name,parameters in net.named_parameters():\n",
    "    print(name,':',parameters.size())\n"
   ]
  },
  {
   "cell_type": "code",
   "execution_count": 23,
   "id": "04d89d4a",
   "metadata": {},
   "outputs": [
    {
     "name": "stdout",
     "output_type": "stream",
     "text": [
      "Parameter containing:\n",
      "tensor([[-0.2449],\n",
      "        [ 0.0048],\n",
      "        [-1.2601],\n",
      "        [-0.1447],\n",
      "        [-1.0599],\n",
      "        [-1.0232],\n",
      "        [ 0.4799],\n",
      "        [ 0.0858],\n",
      "        [-0.5491],\n",
      "        [-0.9315],\n",
      "        [ 1.4603],\n",
      "        [ 0.3572],\n",
      "        [-0.9613],\n",
      "        [-0.4896],\n",
      "        [ 0.7187],\n",
      "        [-0.7915],\n",
      "        [-1.2055],\n",
      "        [ 0.7684],\n",
      "        [ 0.0212],\n",
      "        [ 0.5377]], requires_grad=True)\n",
      "Parameter containing:\n",
      "tensor([-0.8376,  0.4444, -0.8066,  0.6530,  0.4543,  0.6924, -0.5906, -0.8812,\n",
      "         0.5702, -0.4986, -0.9776, -0.4023,  0.9653,  0.4917, -0.7840,  0.3221,\n",
      "        -0.6454,  0.7684, -0.0941,  0.8099], requires_grad=True)\n",
      "Parameter containing:\n",
      "tensor([[ 1.6445e-01,  3.9717e-02,  4.2697e-01,  1.7520e-02, -2.5645e-01,\n",
      "         -3.0138e-01, -1.4959e-01,  1.4721e-01,  1.2217e-01,  2.3673e-01,\n",
      "         -3.8864e-01, -3.5185e-02,  2.4372e-01,  2.9086e-01, -3.6456e-02,\n",
      "         -9.5172e-02,  4.2778e-01, -1.4196e-01,  1.6726e-01, -7.1351e-02],\n",
      "        [ 1.7266e-01, -2.3410e-01, -1.8274e-01,  4.6342e-03,  6.7786e-02,\n",
      "          1.2894e-01,  2.0704e-01, -1.4864e-01, -1.2379e-02, -1.2310e-01,\n",
      "          5.2039e-01, -1.6676e-01, -2.8909e-01, -5.7503e-02,  1.6668e-01,\n",
      "          1.0504e-01, -3.6561e-01,  1.5215e-01, -1.2409e-02,  8.9606e-02],\n",
      "        [ 1.6745e-01, -2.1749e-01, -3.6387e-01,  1.7059e-01,  2.6347e-01,\n",
      "         -1.5230e-01,  1.3254e-01, -1.2724e-01, -1.9021e-01, -1.9000e-02,\n",
      "          3.6850e-01,  1.1789e-01, -5.9880e-02,  6.8053e-02, -1.3002e-01,\n",
      "          1.1322e-01, -4.1187e-02,  8.7174e-02, -2.1842e-01,  1.7478e-01],\n",
      "        [ 1.1147e-01,  1.1079e-02, -1.5869e-01, -8.2188e-02,  8.4497e-02,\n",
      "          1.1764e-01,  1.3385e-01,  1.3496e-01, -9.5765e-02, -2.2646e-01,\n",
      "         -7.6582e-02,  1.8141e-01, -2.2985e-01,  5.3714e-02,  1.1977e-01,\n",
      "          1.6942e-01,  6.8260e-02, -1.1094e-01,  6.1262e-03,  1.4794e-01],\n",
      "        [-6.7369e-02, -1.2882e-01, -3.4842e-01,  3.3245e-02,  9.1465e-02,\n",
      "          1.0315e-01, -9.4201e-02,  4.1844e-02,  5.2356e-02, -2.1829e-01,\n",
      "          3.1901e-01,  1.7290e-01, -2.4396e-01, -2.3594e-01, -2.2216e-01,\n",
      "          2.7080e-01, -2.7900e-01,  1.6963e-01, -1.1779e-01,  2.3264e-01],\n",
      "        [ 5.3188e-02, -4.1657e-02, -6.4575e-02, -1.6287e-01, -1.6095e-01,\n",
      "         -1.4760e-01,  1.9892e-02,  1.9079e-01, -1.1158e-01,  5.3233e-02,\n",
      "         -2.2341e-02, -1.0402e-01, -1.9805e-01, -1.8510e-02, -9.0709e-02,\n",
      "          1.0286e-01,  4.8903e-02, -5.9240e-02, -1.3646e-01,  9.3180e-02],\n",
      "        [ 1.3737e-01, -7.7462e-02, -4.8266e-01, -1.0778e-01,  2.7303e-01,\n",
      "          2.7027e-01, -1.5508e-01,  5.9299e-02, -2.0838e-01, -2.6301e-01,\n",
      "          4.2295e-01, -6.8795e-02, -2.3875e-01, -1.6604e-01, -1.8886e-01,\n",
      "          1.2320e-01, -3.6506e-02,  1.6104e-01,  1.0724e-01,  1.5659e-01],\n",
      "        [ 1.9989e-01, -1.9158e-01,  1.2765e-02, -1.9474e-01, -1.4668e-01,\n",
      "         -1.7563e-01, -2.1727e-01, -2.0876e-02, -1.8375e-01,  9.2890e-02,\n",
      "          7.4219e-02, -1.9981e-03, -2.5803e-01,  6.7336e-02,  1.4014e-01,\n",
      "          6.3191e-02, -9.2810e-02, -1.4631e-01, -2.0230e-01, -4.4441e-02],\n",
      "        [-1.3770e-01, -2.2183e-01,  7.7979e-02,  2.2535e-01, -1.2342e-01,\n",
      "         -2.9133e-02,  9.0939e-03, -1.0057e-01, -9.8667e-02, -2.9805e-02,\n",
      "         -2.7062e-01,  1.7586e-01,  1.8015e-01,  5.1508e-03,  1.8205e-01,\n",
      "          1.2051e-01, -8.7907e-02, -1.7436e-01,  1.0760e-01,  6.2444e-02],\n",
      "        [-1.9146e-01, -1.3004e-01,  8.8960e-02,  2.3090e-01, -9.3605e-03,\n",
      "         -2.3506e-02,  1.0565e-01, -7.2553e-02,  7.2480e-02,  3.1314e-02,\n",
      "         -2.3743e-01, -8.7082e-02,  1.7575e-01, -8.3074e-02,  1.2618e-01,\n",
      "         -6.4796e-02,  2.1393e-01, -2.6431e-02, -2.0886e-01,  6.8513e-02],\n",
      "        [-3.3848e-02, -8.7784e-02,  4.1753e-01,  2.6301e-01, -1.9317e-01,\n",
      "         -3.2154e-01,  3.5817e-03,  1.8229e-01,  2.5818e-01,  3.1045e-01,\n",
      "         -3.8917e-01, -2.1415e-01,  3.3896e-01,  2.8105e-02,  2.1707e-01,\n",
      "         -2.0553e-01,  2.5880e-01, -2.3818e-01, -2.9346e-02, -1.3231e-01],\n",
      "        [ 1.1965e-01,  2.2442e-03,  1.7489e-01, -3.8286e-02, -1.8663e-01,\n",
      "         -8.5071e-02, -1.1843e-01, -1.5418e-01, -1.0851e-01, -5.1301e-02,\n",
      "         -2.4900e-01, -1.6166e-01, -3.5415e-02,  8.9408e-02, -1.3574e-01,\n",
      "          8.9966e-02,  2.0762e-01, -1.6738e-01,  1.7276e-01,  1.3897e-01],\n",
      "        [ 1.5681e-01, -1.4712e-01, -1.8974e-01,  2.0760e-02,  9.8216e-02,\n",
      "          8.3678e-02, -1.5323e-01,  1.2443e-02,  2.9846e-02,  8.6780e-02,\n",
      "          1.5819e-01, -4.9921e-02, -6.0306e-03, -1.7208e-01, -8.6834e-02,\n",
      "         -1.4950e-01,  1.2763e-01,  1.6451e-01,  1.2331e-01, -1.4413e-01],\n",
      "        [-1.7488e-01,  1.5689e-01, -3.9739e-01,  1.6138e-02,  2.4882e-01,\n",
      "          8.8479e-02,  4.1901e-02, -9.1336e-02, -2.9414e-01, -3.7126e-01,\n",
      "          4.7710e-01, -7.8398e-02, -7.6010e-02, -1.7862e-01,  1.5652e-01,\n",
      "          1.2713e-01, -4.5410e-01,  3.7798e-02, -1.2805e-01,  1.7068e-01],\n",
      "        [ 1.8300e-01, -1.8480e-01,  3.1264e-01, -1.5878e-01, -6.5290e-02,\n",
      "          8.4985e-02,  1.2492e-01,  1.8291e-01,  7.7885e-02,  6.0548e-02,\n",
      "         -2.8644e-01,  1.6089e-02,  1.2998e-01, -7.4256e-02,  2.5551e-02,\n",
      "          1.4834e-01, -8.4382e-02,  7.1975e-02,  4.0428e-02,  5.6624e-02],\n",
      "        [-1.9172e-01, -8.6699e-02, -1.6000e-01, -1.9308e-01,  1.7408e-01,\n",
      "          7.8964e-02,  1.8921e-01, -5.4219e-02,  5.1651e-02,  4.7959e-02,\n",
      "          3.6265e-01, -1.2082e-01, -1.6027e-01, -1.6844e-01, -2.1923e-01,\n",
      "          1.2134e-01, -1.8270e-01, -8.8878e-02, -1.4251e-01,  1.6816e-01],\n",
      "        [ 1.3415e-01,  1.6238e-01,  4.7743e-01, -7.2070e-02, -1.9107e-01,\n",
      "         -2.6333e-01,  1.7410e-01, -2.0726e-01,  2.0065e-02,  1.1596e-01,\n",
      "         -3.4620e-01,  9.9521e-02,  4.2283e-01, -2.5020e-02, -1.8765e-01,\n",
      "          4.8649e-02,  1.9945e-02, -1.4807e-01, -1.5735e-01, -5.7429e-02],\n",
      "        [-1.8998e-02, -1.4825e-01, -2.1828e-01, -1.3858e-01,  2.1528e-01,\n",
      "          2.6916e-01, -2.0122e-01,  1.7987e-01, -1.4196e-01, -2.1991e-02,\n",
      "          2.4053e-01,  2.1269e-01, -2.4237e-01, -2.0657e-01, -3.5564e-02,\n",
      "         -1.3501e-01, -1.7144e-01,  1.2124e-01,  1.6432e-02,  2.0708e-01],\n",
      "        [ 1.1857e-01,  2.0247e-01, -4.1645e-02, -5.4750e-03, -2.0021e-01,\n",
      "         -1.4279e-01, -1.8832e-01, -2.8387e-02, -4.6997e-02, -1.8377e-01,\n",
      "          6.9239e-02,  1.0778e-01,  1.4141e-01, -1.0294e-01,  8.2338e-03,\n",
      "         -9.9382e-02,  1.4979e-01, -8.6335e-02,  1.9955e-02,  2.2251e-01],\n",
      "        [ 8.0424e-02, -1.5897e-01, -6.8661e-02, -2.8534e-02,  1.1962e-01,\n",
      "         -1.4400e-01, -1.5070e-01, -3.3216e-04,  2.5970e-01,  3.0582e-02,\n",
      "         -1.4398e-01, -6.3567e-03,  2.2828e-01,  6.3525e-03, -1.9031e-02,\n",
      "          3.8776e-03,  1.0630e-01, -1.1366e-01,  5.7280e-02, -3.7316e-02]],\n",
      "       requires_grad=True)\n",
      "Parameter containing:\n",
      "tensor([-0.0298,  0.1315, -0.0488,  0.1305, -0.1299,  0.0089, -0.1884, -0.2068,\n",
      "         0.1934,  0.1724, -0.0801,  0.1522,  0.1236,  0.0811,  0.1961, -0.1484,\n",
      "        -0.0595,  0.1892,  0.1663, -0.0917], requires_grad=True)\n",
      "Parameter containing:\n",
      "tensor([[-9.6611e-01,  7.1717e-01,  4.6987e-01,  2.0953e-01,  7.4699e-01,\n",
      "         -7.8258e-04,  8.6006e-01,  9.1242e-02, -3.0588e-01, -3.7881e-01,\n",
      "         -1.0998e+00, -3.4403e-01,  9.0535e-02,  9.1706e-01, -3.2215e-01,\n",
      "          4.0362e-01, -7.7243e-01,  4.8474e-01, -2.3844e-02, -3.2077e-01]],\n",
      "       requires_grad=True)\n",
      "Parameter containing:\n",
      "tensor([-0.2458], requires_grad=True)\n"
     ]
    }
   ],
   "source": [
    "for parameters in net.parameters():\n",
    "    print(parameters)"
   ]
  },
  {
   "cell_type": "code",
   "execution_count": 27,
   "id": "a924f0b7",
   "metadata": {},
   "outputs": [
    {
     "data": {
      "text/plain": [
       "tensor([[-1.0000, -0.9798, -0.9596, -0.9394, -0.9192, -0.8990, -0.8788, -0.8586,\n",
       "         -0.8384, -0.8182, -0.7980, -0.7778, -0.7576, -0.7374, -0.7172, -0.6970,\n",
       "         -0.6768, -0.6566, -0.6364, -0.6162, -0.5960, -0.5758, -0.5556, -0.5354,\n",
       "         -0.5152, -0.4949, -0.4747, -0.4545, -0.4343, -0.4141, -0.3939, -0.3737,\n",
       "         -0.3535, -0.3333, -0.3131, -0.2929, -0.2727, -0.2525, -0.2323, -0.2121,\n",
       "         -0.1919, -0.1717, -0.1515, -0.1313, -0.1111, -0.0909, -0.0707, -0.0505,\n",
       "         -0.0303, -0.0101,  0.0101,  0.0303,  0.0505,  0.0707,  0.0909,  0.1111,\n",
       "          0.1313,  0.1515,  0.1717,  0.1919,  0.2121,  0.2323,  0.2525,  0.2727,\n",
       "          0.2929,  0.3131,  0.3333,  0.3535,  0.3737,  0.3939,  0.4141,  0.4343,\n",
       "          0.4545,  0.4747,  0.4949,  0.5152,  0.5354,  0.5556,  0.5758,  0.5960,\n",
       "          0.6162,  0.6364,  0.6566,  0.6768,  0.6970,  0.7172,  0.7374,  0.7576,\n",
       "          0.7778,  0.7980,  0.8182,  0.8384,  0.8586,  0.8788,  0.8990,  0.9192,\n",
       "          0.9394,  0.9596,  0.9798,  1.0000]])"
      ]
     },
     "execution_count": 27,
     "metadata": {},
     "output_type": "execute_result"
    }
   ],
   "source": [
    "x = torch.unsqueeze(torch.linspace(-1,1,100),dim=0)\n",
    "x"
   ]
  },
  {
   "cell_type": "code",
   "execution_count": null,
   "id": "21e5a2c8",
   "metadata": {},
   "outputs": [],
   "source": []
  },
  {
   "cell_type": "code",
   "execution_count": null,
   "id": "3b101921",
   "metadata": {},
   "outputs": [],
   "source": []
  }
 ],
 "metadata": {
  "kernelspec": {
   "display_name": "Python 3 (ipykernel)",
   "language": "python",
   "name": "python3"
  },
  "language_info": {
   "codemirror_mode": {
    "name": "ipython",
    "version": 3
   },
   "file_extension": ".py",
   "mimetype": "text/x-python",
   "name": "python",
   "nbconvert_exporter": "python",
   "pygments_lexer": "ipython3",
   "version": "3.8.12"
  }
 },
 "nbformat": 4,
 "nbformat_minor": 5
}
