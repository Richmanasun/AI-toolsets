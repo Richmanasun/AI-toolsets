{
 "cells": [
  {
   "cell_type": "code",
   "execution_count": 8,
   "id": "68cc9e03-cb2b-4418-9d6a-65d75aa89f96",
   "metadata": {},
   "outputs": [
    {
     "name": "stdout",
     "output_type": "stream",
     "text": [
      "Looking in indexes: https://mirrors.aliyun.com/pypi/simple\n",
      "\u001b[33mWARNING: Retrying (Retry(total=4, connect=None, read=None, redirect=None, status=None)) after connection broken by 'ReadTimeoutError(\"HTTPSConnectionPool(host='mirrors.aliyun.com', port=443): Read timed out. (read timeout=15)\")': /pypi/simple/cv-3/\u001b[0m\u001b[33m\n",
      "\u001b[0mCollecting cv-3\n",
      "  Downloading https://mirrors.aliyun.com/pypi/packages/f5/b7/f3c21fad1dc13216c41eb4e38e61254340bfefed3a7284a6e7de04d5ed02/cv-3-1.2.0.tar.gz (10 kB)\n",
      "  Preparing metadata (setup.py) ... \u001b[?25ldone\n",
      "\u001b[?25hRequirement already satisfied: numpy>=1.19.5 in /root/miniconda3/envs/python39/lib/python3.9/site-packages (from cv-3) (1.24.3)\n",
      "Requirement already satisfied: opencv-python>=4.2.0.34 in /root/miniconda3/envs/python39/lib/python3.9/site-packages (from cv-3) (4.7.0.72)\n",
      "Building wheels for collected packages: cv-3\n",
      "  Building wheel for cv-3 (setup.py) ... \u001b[?25ldone\n",
      "\u001b[?25h  Created wheel for cv-3: filename=cv_3-1.2.0-py3-none-any.whl size=12707 sha256=515c0d7118e85137bb4d41cf6185b2e2d634bc30304730639f02c3540bdd4072\n",
      "  Stored in directory: /root/.cache/pip/wheels/bc/34/8c/aa43e399dae1c3f4d4a94f2f8826135469f5d0865947ad7c72\n",
      "Successfully built cv-3\n",
      "Installing collected packages: cv-3\n",
      "Successfully installed cv-3-1.2.0\n",
      "\u001b[33mWARNING: Running pip as the 'root' user can result in broken permissions and conflicting behaviour with the system package manager. It is recommended to use a virtual environment instead: https://pip.pypa.io/warnings/venv\u001b[0m\u001b[33m\n",
      "\u001b[0m\n",
      "\u001b[1m[\u001b[0m\u001b[34;49mnotice\u001b[0m\u001b[1;39;49m]\u001b[0m\u001b[39;49m A new release of pip is available: \u001b[0m\u001b[31;49m23.1.2\u001b[0m\u001b[39;49m -> \u001b[0m\u001b[32;49m24.0\u001b[0m\n",
      "\u001b[1m[\u001b[0m\u001b[34;49mnotice\u001b[0m\u001b[1;39;49m]\u001b[0m\u001b[39;49m To update, run: \u001b[0m\u001b[32;49mpip install --upgrade pip\u001b[0m\n"
     ]
    }
   ],
   "source": [
    "!pip install cv-3"
   ]
  },
  {
   "cell_type": "code",
   "execution_count": 9,
   "id": "dcc1142f-9a2d-4de4-836a-bdf3a03ea34a",
   "metadata": {},
   "outputs": [
    {
     "name": "stdout",
     "output_type": "stream",
     "text": [
      "Looking in indexes: https://mirrors.aliyun.com/pypi/simple\n",
      "Requirement already satisfied: pip in /root/miniconda3/envs/python39/lib/python3.9/site-packages (23.1.2)\n",
      "Collecting pip\n",
      "  Downloading https://mirrors.aliyun.com/pypi/packages/8a/6a/19e9fe04fca059ccf770861c7d5721ab4c2aebc539889e97c7977528a53b/pip-24.0-py3-none-any.whl (2.1 MB)\n",
      "\u001b[2K     \u001b[90m━━━━━━━━━━━━━━━━━━━━━━━━━━━━━━━━━━━━━━━━\u001b[0m \u001b[32m2.1/2.1 MB\u001b[0m \u001b[31m6.1 MB/s\u001b[0m eta \u001b[36m0:00:00\u001b[0ma \u001b[36m0:00:01\u001b[0m\n",
      "\u001b[?25hInstalling collected packages: pip\n",
      "  Attempting uninstall: pip\n",
      "    Found existing installation: pip 23.1.2\n",
      "    Uninstalling pip-23.1.2:\n",
      "      Successfully uninstalled pip-23.1.2\n",
      "Successfully installed pip-24.0\n",
      "\u001b[33mWARNING: Running pip as the 'root' user can result in broken permissions and conflicting behaviour with the system package manager. It is recommended to use a virtual environment instead: https://pip.pypa.io/warnings/venv\u001b[0m\u001b[33m\n",
      "\u001b[0m"
     ]
    }
   ],
   "source": [
    "!pip install --upgrade pip"
   ]
  },
  {
   "cell_type": "code",
   "execution_count": null,
   "id": "7fafe879-a574-4dec-9a5d-55010b6e2fb9",
   "metadata": {},
   "outputs": [],
   "source": []
  },
  {
   "cell_type": "code",
   "execution_count": null,
   "id": "08dec0e3-9c5b-465e-89fc-4b312eca15f4",
   "metadata": {},
   "outputs": [],
   "source": []
  }
 ],
 "metadata": {
  "kernelspec": {
   "display_name": "Python 3 (ipykernel)",
   "language": "python",
   "name": "python3"
  },
  "language_info": {
   "codemirror_mode": {
    "name": "ipython",
    "version": 3
   },
   "file_extension": ".py",
   "mimetype": "text/x-python",
   "name": "python",
   "nbconvert_exporter": "python",
   "pygments_lexer": "ipython3",
   "version": "3.9.16"
  }
 },
 "nbformat": 4,
 "nbformat_minor": 5
}
